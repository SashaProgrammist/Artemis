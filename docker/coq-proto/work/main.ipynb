{
 "cells": [
  {
   "cell_type": "code",
   "execution_count": 1,
   "id": "ac6c25d9-20fa-439e-838a-1ba6bbfb863b",
   "metadata": {},
   "outputs": [
    {
     "name": "stdout",
     "output_type": "stream",
     "text": [
      "hellow world\n"
     ]
    }
   ],
   "source": [
    "print(\"hellow world\")\n",
    "\n",
    "import requests"
   ]
  },
  {
   "cell_type": "code",
   "execution_count": 2,
   "id": "a8b73923-6558-4a69-ad00-3c5589d1a896",
   "metadata": {},
   "outputs": [],
   "source": [
    "url = \"http://host.docker.internal:11434/api/generate\"\n",
    "payload = {\n",
    "    \"model\": \"llama3:8b\",       # замените на нужную модель\n",
    "    \"prompt\": \"Напиши очень при очень краткое резюме по теме 'формальная верификация' на русском языке\",\n",
    "    \"stream\": False\n",
    "}"
   ]
  },
  {
   "cell_type": "code",
   "execution_count": 3,
   "id": "339831ec-12b7-418b-b2dd-d5a2d7a966ff",
   "metadata": {},
   "outputs": [],
   "source": [
    "resp = requests.post(url, json=payload, timeout=120)"
   ]
  },
  {
   "cell_type": "code",
   "execution_count": 4,
   "id": "b160d3c2-d021-4eaa-bdf6-a2a3ef6ed611",
   "metadata": {},
   "outputs": [
    {
     "name": "stdout",
     "output_type": "stream",
     "text": [
      "{'model': 'llama3:8b', 'created_at': '2025-08-24T07:52:48.037033258Z', 'response': 'Резюме:\\n\\nФормальная верификация - это процесс проверки корректности и полноты программного кода, используя формальные методы и инструменты. Она обеспечивает высокую степень уверенности в том, что программа выполнит задачи, как ожидается.\\n\\nСуть формальной верификации заключается в:\\n\\n* Определении корректности программы с помощью математических доказательств;\\n* Проверке программы на различные типы ошибок и предсказуемых ситуаций;\\n* Получении подтверждения о том, что программа выполнит задачи без неожиданных последствий.\\n\\nФормальная верификация используется в различных областях, таких как безопасность, транспорт и healthcare, где высокая степень надежности программного обеспечения критична.', 'done': True, 'done_reason': 'stop', 'context': [128006, 882, 128007, 271, 20807, 19619, 1840, 30480, 103407, 37405, 103407, 7820, 81659, 103096, 101980, 12182, 101093, 18154, 101456, 1532, 364, 57719, 110602, 64362, 62809, 75281, 71829, 6, 13373, 110950, 106292, 110424, 53671, 128009, 128006, 78191, 128007, 271, 34604, 32985, 12182, 101093, 1473, 55258, 32330, 110602, 64362, 62809, 75281, 71829, 482, 68979, 110793, 69556, 17165, 67969, 2233, 30656, 68742, 7740, 29619, 2156, 114264, 94508, 39900, 69126, 1506, 11, 112516, 4329, 54261, 106997, 56729, 4655, 7740, 124400, 4655, 13, 109533, 113810, 119157, 105948, 34148, 110558, 52429, 121861, 107899, 5927, 103217, 11, 48489, 81462, 69463, 99396, 9542, 53280, 50223, 1840, 11, 52770, 126628, 48262, 68271, 382, 19871, 83816, 54261, 106298, 64362, 62809, 75281, 57186, 120265, 68271, 5927, 1473, 9, 112180, 92582, 84198, 67969, 2233, 30656, 68742, 94508, 4655, 5524, 109344, 96573, 10298, 8131, 109270, 118182, 60990, 20812, 280, 9, 23227, 70059, 53671, 94508, 4655, 13373, 126633, 64933, 4655, 89763, 15088, 7740, 57925, 2297, 52674, 3865, 119036, 5524, 102421, 30436, 12415, 280, 9, 90033, 84198, 119381, 115787, 18999, 8379, 103217, 11, 48489, 81462, 69463, 99396, 9542, 53280, 50223, 1840, 92457, 19175, 21956, 48262, 115386, 91667, 20812, 44938, 382, 55258, 32330, 110602, 64362, 62809, 75281, 71829, 119190, 5927, 116479, 123598, 103417, 11, 106067, 52770, 113945, 61379, 11, 114272, 7740, 18985, 11, 105019, 105948, 36497, 110558, 52429, 121835, 68742, 94508, 39900, 113810, 18999, 117954, 125506, 13], 'total_duration': 56486112673, 'load_duration': 10716044898, 'prompt_eval_count': 39, 'prompt_eval_duration': 4559223788, 'eval_count': 184, 'eval_duration': 41208242622}\n"
     ]
    }
   ],
   "source": [
    "resp.raise_for_status()\n",
    "data = resp.json()  # вернёт JSON с результатом\n",
    "print(data)"
   ]
  },
  {
   "cell_type": "code",
   "execution_count": 86,
   "id": "eba59a0a-1c33-4c3c-864a-f1efd6a2771c",
   "metadata": {},
   "outputs": [],
   "source": [
    "import requests\n",
    "import json\n",
    "from typing import Optional\n",
    "\n",
    "API_BASE = \"http://host.docker.internal:11434\"  # Базовый URL API Ollama\n",
    "GENERATE_PATH = \"/api/generate\"  # Путь для генерации текста\n",
    "\n",
    "# Кастомное исключение для ошибок работы с Ollama API\n",
    "class OllamaAPIError(Exception):\n",
    "    pass\n",
    "\n",
    "def check_server() -> None:\n",
    "    \"\"\"\n",
    "    Проверяет доступность сервера Ollama.\n",
    "    Бросает исключение, если сервер недоступен или ответ не соответствует ожиданиям.\n",
    "    \"\"\"\n",
    "    try:\n",
    "        r = requests.get(API_BASE + \"/\", timeout=5)  # Запрос к корневому пути\n",
    "    except requests.RequestException as e:\n",
    "        # Если соединение не удалось\n",
    "        raise OllamaAPIError(f\"Cannot reach {API_BASE}: {e}\")\n",
    "    # Проверка статуса и содержимого ответа\n",
    "    if r.status_code != 200 or \"Ollama\" not in (r.text or \"\"):\n",
    "        raise OllamaAPIError(f\"Service at {API_BASE} responded unexpectedly: status={r.status_code}, body={r.text!r}\")\n",
    "\n",
    "def extract_text_from_json(obj) -> Optional[str]:\n",
    "    \"\"\"\n",
    "    Извлекает текст из JSON-объекта, который может содержать ответ модели.\n",
    "    Поддерживает разные форматы (OpenAI-like, Ollama-like).\n",
    "    \"\"\"\n",
    "    if obj is None:\n",
    "        return None\n",
    "    if isinstance(obj, str):\n",
    "        return obj\n",
    "    if isinstance(obj, dict):\n",
    "        # Проверка распространённых ключей\n",
    "        for key in (\"response\", \"text\", \"completion\", \"content\"):\n",
    "            if key in obj and isinstance(obj[key], str):\n",
    "                return obj[key]\n",
    "        # Обработка формата с choices[]\n",
    "        ch = obj.get(\"choices\")\n",
    "        if isinstance(ch, list) and ch:\n",
    "            first = ch[0]\n",
    "            if isinstance(first, dict):\n",
    "                # OpenAI streaming формат: delta.content\n",
    "                if \"delta\" in first and isinstance(first[\"delta\"], dict):\n",
    "                    return first[\"delta\"].get(\"content\")\n",
    "                # Прямой текст\n",
    "                if \"text\" in first and isinstance(first[\"text\"], str):\n",
    "                    return first[\"text\"]\n",
    "                # Формат message.content\n",
    "                if \"message\" in first and isinstance(first[\"message\"], dict):\n",
    "                    return first[\"message\"].get(\"content\")\n",
    "    return None\n",
    "\n",
    "def stream_until_dot(goal_text: str, failed_tactics = [], model: str = \"llama3:8b\", timeout: int = 120) -> str:\n",
    "    \"\"\"\n",
    "    Отправляет запрос к Ollama API с целью сгенерировать одну строку тактики Coq.\n",
    "    Читает потоковый ответ до первой точки '.' и возвращает собранный текст.\n",
    "    \n",
    "    :param goal_text: Цель в синтаксисе Coq, для которой требуется тактика\n",
    "    :param model: Название модели (по умолчанию llama3:8b)\n",
    "    :param timeout: Таймаут запроса в секундах\n",
    "    :return: Сгенерированная тактика (строка, заканчивающаяся точкой)\n",
    "    \"\"\"\n",
    "    check_server()  # Проверка доступности сервера\n",
    "\n",
    "    url = API_BASE + GENERATE_PATH\n",
    "    # Формируем инструкцию для модели\n",
    "    prompt = f\"\"\"You are a Coq tactic suggester.\n",
    "\n",
    "INPUT:\n",
    "A Coq goal is provided below in its ORIGINAL Coq format. Do not modify or repeat it.\n",
    "A list of previously tried tactics that FAILED is also provided; avoid using them again.\n",
    "\n",
    "GOAL:\n",
    "```coq\n",
    "{goal_text}\n",
    "````\n",
    "\n",
    "FAILED TACTICS:\n",
    "{failed_tactics}\n",
    "\n",
    "TASK:\n",
    "Output EXACTLY ONE Coq tactic line that makes the most direct progress toward solving the goal and is NOT in the failed tactics list.\n",
    "\n",
    "HARD RULES:\n",
    "\n",
    "* Output ONLY a single Coq tactic line terminated by a period.\n",
    "* No explanations, no prefixes, no code fences, no extra text, no alternatives.\n",
    "* Do NOT repeat or alter the goal.\n",
    "* Prefer the most direct, type-correct next step.\n",
    "* If multiple options exist, choose the single most straightforward one.\n",
    "* Semicolons (`;`) and proof brackets (`[...]`) are allowed, but the result must be ONE line.\n",
    "* Never output a tactic that appears in the FAILED TACTICS list.\n",
    "* Never answer \"I don't know\" or similar; always output your best single tactic.\n",
    "* Keep it minimal.\n",
    "* At the end it is necessary to have `.`\n",
    "* allowed `auto.`, `reflexivity.`, `trivial.`\n",
    "\n",
    "Respond with ONLY the tactic line.\"\"\"\n",
    "    # Тело запроса для Ollama API\n",
    "    payload = {\n",
    "        \"model\": model,\n",
    "        \"prompt\": prompt,\n",
    "        \"stream\": True  # Включаем потоковый режим\n",
    "    }\n",
    "    \n",
    "    # Отправка запроса\n",
    "    resp = requests.post(url, json=payload, stream=True, timeout=timeout)\n",
    "    if resp.status_code == 404:\n",
    "        # Ошибка 404 — сервер не настроен или не запущен\n",
    "        resp.close()\n",
    "        raise OllamaAPIError(\n",
    "            \"404 from /api/generate. Проверьте: контейнер запущен ли с 'ollama serve', доступен ли порт 11434, и не занят ли порт другим процессом. \"\n",
    "            \"Выполните `curl http://localhost:11434/` и `docker logs ollama`.\"\n",
    "        )\n",
    "    resp.raise_for_status()  # Проверка на другие HTTP-ошибки\n",
    "    \n",
    "    collected = \"\"  # Буфер для символов\n",
    "    try:\n",
    "        # Читаем поток построчно\n",
    "        for raw_line in resp.iter_lines(decode_unicode=True):\n",
    "            if raw_line is None:\n",
    "                continue\n",
    "            line = raw_line.strip()\n",
    "            if not line:\n",
    "                continue\n",
    "            # Попытка распарсить строку как JSON\n",
    "            try:\n",
    "                obj = json.loads(line)\n",
    "            except json.JSONDecodeError:\n",
    "                # Если не JSON — используем как текст\n",
    "                text = line\n",
    "            else:\n",
    "                # Извлекаем полезный текст из объекта\n",
    "                text = extract_text_from_json(obj) or \"\"\n",
    "            if not text:\n",
    "                continue\n",
    "            # Ищем первую точку в ответе\n",
    "            for ch in text:\n",
    "                if ch == \".\":\n",
    "                    # Закрываем соединение и возвращаем собранный ответ\n",
    "                    resp.close()\n",
    "                    return collected.strip() + \".\"\n",
    "                collected += ch\n",
    "        # Если поток закончился без точки — возвращаем что есть\n",
    "        resp.close()\n",
    "        return collected.strip()\n",
    "    finally:\n",
    "        # Гарантированное закрытие соединения\n",
    "        try:\n",
    "            resp.close()\n",
    "        except Exception:\n",
    "            pass\n"
   ]
  },
  {
   "cell_type": "code",
   "execution_count": 87,
   "id": "bdf70ef2-6323-41d0-b336-da5d5a04f714",
   "metadata": {
    "scrolled": true
   },
   "outputs": [
    {
     "name": "stdout",
     "output_type": "stream",
     "text": [
      "decide. \n",
      "______________________________________\n",
      "\n",
      "\n",
      "\n",
      "rewrite <- Hall. \n",
      "______________________________________\n",
      "\n",
      "\n",
      "\n",
      "unfold max_list, fold_left nat_add; \n",
      "______________________________________\n",
      "\n",
      "\n",
      "\n",
      "decide. \n",
      "______________________________________\n",
      "\n",
      "\n",
      "\n",
      "decision. \n",
      "______________________________________\n",
      "\n",
      "\n",
      "\n",
      "constructor; \n",
      "______________________________________\n",
      "\n",
      "\n",
      "\n",
      "simplify. \n",
      "______________________________________\n",
      "\n",
      "\n",
      "\n",
      "unfold_in_map. \n",
      "______________________________________\n",
      "\n",
      "\n",
      "\n",
      "auto. \n",
      "______________________________________\n",
      "\n",
      "\n",
      "\n",
      "intro H. \n",
      "______________________________________\n",
      "\n",
      "\n",
      "\n",
      "constructor. \n",
      "______________________________________\n",
      "\n",
      "\n",
      "\n",
      "congruence. \n",
      "______________________________________\n",
      "\n",
      "\n",
      "\n",
      "constr_solve. \n",
      "______________________________________\n",
      "\n",
      "\n",
      "\n",
      "destruct l as [x L]. \n",
      "______________________________________\n",
      "\n",
      "\n",
      "\n",
      "destruct l as [x xs]. \n",
      "______________________________________\n",
      "\n",
      "\n",
      "\n",
      "constructive_or. \n",
      "______________________________________\n",
      "\n",
      "\n",
      "\n",
      "independent. \n",
      "______________________________________\n",
      "\n",
      "\n",
      "\n",
      "instantiate (1). \n",
      "______________________________________\n",
      "\n",
      "\n",
      "\n",
      "unfold max_list, rewrite <- Hall, constructor. \n",
      "______________________________________\n",
      "\n",
      "\n",
      "\n",
      "constructor. \n",
      "______________________________________\n",
      "\n",
      "\n",
      "\n"
     ]
    }
   ],
   "source": [
    "for i in range(20):\n",
    "        print (stream_until_dot(\n",
    "    \"\"\"1 goal\n",
    "l : list nat\n",
    "Hall : forall x : nat, In x l\n",
    "______________________________________(1/1)\n",
    "In (S (max_list l)) l\n",
    "    \"\"\"), \"\\n______________________________________\\n\\n\\n\")"
   ]
  },
  {
   "cell_type": "code",
   "execution_count": 7,
   "id": "952c76ea-d1db-4a89-a5f0-93b1095604c0",
   "metadata": {},
   "outputs": [
    {
     "name": "stdout",
     "output_type": "stream",
     "text": [
      "Requirement already satisfied: sexpdata in /opt/venv/lib/python3.11/site-packages (1.0.2)\n"
     ]
    }
   ],
   "source": [
    "!pip install sexpdata"
   ]
  },
  {
   "cell_type": "code",
   "execution_count": 93,
   "id": "4ebd2928-af00-4a24-ae07-986bf5dd0aa9",
   "metadata": {},
   "outputs": [],
   "source": [
    "import subprocess, sexpdata\n",
    "from sexpdata import loads\n",
    "import select\n",
    "\n",
    "def read(proc):\n",
    "    timeout = 5  # секунд\n",
    "    ready, _, _ = select.select([proc.stdout], [], [], timeout)\n",
    "    if not ready:\n",
    "        return \"eror\"\n",
    "    \n",
    "    line = \"(\"\n",
    "    while \"Completed\" not in line:\n",
    "        line += proc.stdout.readline()\n",
    "        #print(line.split(\"\\n\")[-2])\n",
    "    return line + \")\"\n",
    "\n",
    "def Add(proc, line):\n",
    "    cmd = f'(Add () \"{line}\")\\n'\n",
    "    proc.stdin.write(cmd)\n",
    "    proc.stdin.flush()\n",
    "    return read(proc)\n",
    "\n",
    "def Exec(proc, i):\n",
    "    cmd = f'(Exec {i})\\n'\n",
    "    proc.stdin.write(cmd)\n",
    "    proc.stdin.flush()\n",
    "    return read(proc)\n",
    "\n",
    "def Cancel(proc, i):\n",
    "    cmd = f'(Cancel ({i}))\\n'\n",
    "    proc.stdin.write(cmd)\n",
    "    proc.stdin.flush()\n",
    "    return read(proc)\n",
    "\n",
    "def Query(proc, i):\n",
    "    cmd = f'(Query ((sid {i}) (pp ((pp_format PpStr)))) Goals)\\n'\n",
    "    proc.stdin.write(cmd)\n",
    "    proc.stdin.flush()\n",
    "    return read(proc)\n",
    "\n",
    "def find_a_leters(tree, leters, path=\"0\"):\n",
    "    results = []\n",
    "    if isinstance(tree, list) or isinstance(tree, tuple):\n",
    "        if tree and isinstance(tree[0], sexpdata.Symbol) and tree[0].value() in leters:\n",
    "            cur_tree = []\n",
    "            for i, elem in enumerate(tree):\n",
    "                if i != 0 and elem and isinstance(elem, list) \\\n",
    "                    and isinstance(elem[0], sexpdata.Symbol) and elem[0].value() in leters:\n",
    "                    break\n",
    "                cur_tree.append(elem)\n",
    "            results.append((path, cur_tree))\n",
    "        for i, elem in enumerate(tree):\n",
    "            results += find_a_leters(elem, leters, path + \".\" + str(i))\n",
    "    return results\n",
    "\n",
    "def solve(lemma):\n",
    "    proc = subprocess.Popen(\n",
    "        [\"sertop\"],\n",
    "        stdin=subprocess.PIPE, stdout=subprocess.PIPE, stderr=subprocess.PIPE, text=True\n",
    "    )\n",
    "    line = proc.stdout.readline()\n",
    "    while \"(contents Processed)\" not in line:\n",
    "        line = proc.stdout.readline()\n",
    "\n",
    "    added = 2\n",
    "    Add(proc, str(lemma))\n",
    "    Exec(proc, added)\n",
    "    ans = find_a_leters(loads(Query(proc, added)), \"CoqString\")[0][1][1]\n",
    "    print(ans)\n",
    "\n",
    "    failed_tactics = []\n",
    "\n",
    "    while ans:\n",
    "        tactic = stream_until_dot(ans, failed_tactics)\n",
    "        #tactic = \"some eror..\"\n",
    "        if \".\" != tactic[-1] : tactic += '.'\n",
    "        print(tactic)\n",
    "        Add(proc, tactic)\n",
    "        ex = find_a_leters(loads(Exec(proc, added + 1)), \"CoqExn\")\n",
    "        if not ex:\n",
    "            added += 1\n",
    "            failed_tactics = []\n",
    "            \n",
    "            ans = find_a_leters(loads(Query(proc, added)), \"CoqString\")[0][1][1]\n",
    "            print(ans)\n",
    "            print(\"============================\")\n",
    "        else:\n",
    "            print(\"eror\")\n",
    "            print(\"============================\")\n",
    "            Cancel(proc, added + 1)\n",
    "            failed_tactics.append(tactic)\n",
    "\n",
    "    print(\"Qed.\")\n",
    "    "
   ]
  },
  {
   "cell_type": "code",
   "execution_count": 100,
   "id": "c01f4ca3-d77d-401b-82ca-849543638305",
   "metadata": {},
   "outputs": [
    {
     "name": "stdout",
     "output_type": "stream",
     "text": [
      "none\n",
      "============================\n",
      "forall x y z : nat,\n",
      "                             x = y -> y = z -> x = z\n",
      "try; reflexivity.\n",
      "eror\n",
      "============================\n",
      "intros x y z H1 H2; subst y; trivial.\n",
      "\n",
      "============================\n",
      "Qed.\n"
     ]
    }
   ],
   "source": [
    "solve(\"Lemma test: forall (x y z : nat), x = y -> y = z -> x = z.\")"
   ]
  },
  {
   "cell_type": "code",
   "execution_count": 44,
   "id": "f447127d-32c0-4065-a052-e948725fb9a6",
   "metadata": {},
   "outputs": [
    {
     "data": {
      "text/plain": [
       "'((Answer 0 Ack)\\n(Answer 0(Added 2((fname ToplevelInput)(line_nb 1)(bol_pos 0)(line_nb_last 1)(bol_pos_last 0)(bp 0)(ep 36))NewAddTip))\\n(Answer 0 Completed)\\n)'"
      ]
     },
     "execution_count": 44,
     "metadata": {},
     "output_type": "execute_result"
    }
   ],
   "source": [
    "proc = subprocess.Popen(\n",
    "    [\"sertop\"],\n",
    "    stdin=subprocess.PIPE, stdout=subprocess.PIPE, stderr=subprocess.PIPE, text=True\n",
    ")\n",
    "line = proc.stdout.readline()\n",
    "while \"(contents Processed)\" not in line:\n",
    "    line = proc.stdout.readline()\n",
    "\n",
    "Add(proc, \"Lemma test: forall (x y : nat), x = y -> y = x.\")"
   ]
  },
  {
   "cell_type": "code",
   "execution_count": 46,
   "id": "a8201fdb-80d2-4f4e-a740-106311234607",
   "metadata": {},
   "outputs": [
    {
     "data": {
      "text/plain": [
       "'((Answer 2 Ack)\\n(Answer 2(Added 4((fname ToplevelInput)(line_nb 1)(bol_pos 0)(line_nb_last 1)(bol_pos_last 0)(bp 0)(ep 6))NewAddTip))\\n(Answer 2 Completed)\\n)'"
      ]
     },
     "execution_count": 46,
     "metadata": {},
     "output_type": "execute_result"
    }
   ],
   "source": [
    "Add(proc, \"Proof.\")"
   ]
  },
  {
   "cell_type": "code",
   "execution_count": 13,
   "id": "b8f38e6f-4fb4-4f3e-92a0-aff0d134bea0",
   "metadata": {},
   "outputs": [
    {
     "data": {
      "text/plain": [
       "'((Answer 40 Ack)\\n(Answer 40(Added 5((fname ToplevelInput)(line_nb 1)(bol_pos 0)(line_nb_last 1)(bol_pos_last 0)(bp 0)(ep 9))NewAddTip))\\n(Answer 40 Completed)\\n)'"
      ]
     },
     "execution_count": 13,
     "metadata": {},
     "output_type": "execute_result"
    }
   ],
   "source": [
    "Add(proc, \"intros x y H; rewrite H.\")"
   ]
  },
  {
   "cell_type": "code",
   "execution_count": 5,
   "id": "bfa41102-eb9d-4119-b37d-9071f7f6c8a8",
   "metadata": {},
   "outputs": [
    {
     "data": {
      "text/plain": [
       "'((Answer 2 Ack)\\n(Answer 2(Added 5((fname ToplevelInput)(line_nb 1)(bol_pos 0)(line_nb_last 1)(bol_pos_last 0)(bp 0)(ep 5))NewAddTip))\\n(Answer 2 Completed)\\n)'"
      ]
     },
     "execution_count": 5,
     "metadata": {},
     "output_type": "execute_result"
    }
   ],
   "source": [
    "Add(proc, \"auto.\")"
   ]
  },
  {
   "cell_type": "code",
   "execution_count": 10,
   "id": "55d5a543-77d7-48cc-afce-366072f0e5a8",
   "metadata": {},
   "outputs": [
    {
     "name": "stdout",
     "output_type": "stream",
     "text": [
      "((Answer 27 Ack)\n",
      "(Feedback((doc_id 0)(span_id 3)(route 0)(contents Processed)))\n",
      "(Answer 27(Canceled(4)))\n",
      "(Answer 27 Completed)\n",
      ")\n"
     ]
    }
   ],
   "source": [
    "print(Cancel(proc, 4))"
   ]
  },
  {
   "cell_type": "code",
   "execution_count": 47,
   "id": "20c192f4-ca52-42ae-ae1f-d15bb55f4881",
   "metadata": {},
   "outputs": [
    {
     "name": "stdout",
     "output_type": "stream",
     "text": [
      "((Answer 3 Ack)\n",
      "(Feedback((doc_id 0)(span_id 1)(route 0)(contents Processed)))\n",
      "(Answer 3 Completed)\n",
      ") \n",
      "\n",
      "((Answer 4 Ack)\n",
      "(Feedback((doc_id 0)(span_id 2)(route 0)(contents(ProcessingIn master))))\n",
      "(Feedback((doc_id 0)(span_id 1)(route 0)(contents Processed)))\n",
      "(Feedback((doc_id 0)(span_id 2)(route 0)(contents Processed)))\n",
      "(Answer 4 Completed)\n",
      ") \n",
      "\n",
      "((Answer 5 Ack)\n",
      "(Feedback((doc_id 0)(span_id 3)(route 0)(contents(ProcessingIn master))))\n",
      "(Feedback((doc_id 0)(span_id 2)(route 0)(contents Processed)))\n",
      "(Feedback((doc_id 0)(span_id 3)(route 0)(contents Processed)))\n",
      "(Answer 5 Completed)\n",
      ") \n",
      "\n",
      "((Answer 6 Ack)\n",
      "(Feedback((doc_id 0)(span_id 4)(route 0)(contents(ProcessingIn master))))\n",
      "(Feedback((doc_id 0)(span_id 3)(route 0)(contents Processed)))\n",
      "(Feedback((doc_id 0)(span_id 4)(route 0)(contents Processed)))\n",
      "(Answer 6 Completed)\n",
      ") \n",
      "\n",
      "((Answer 7 Ack)\n",
      "(Answer 7(CoqExn((loc())(stm_ids())(backtrace(Backtrace()))(exn(Stm.Vcs_aux.Expired))(pp(Pp_glue((Pp_box(Pp_hovbox 0)(Pp_glue((Pp_string Anomaly)(Pp_print_break 1 0)(Pp_box Pp_hbox(Pp_glue((Pp_glue((Pp_string\"\\\"\")(Pp_string\"Uncaught exception \")(Pp_string Stm.Vcs_aux.Expired)(Pp_string .)))(Pp_string\"\\\"\")))))))(Pp_print_break 1 0)(Pp_box(Pp_hovbox 0)(Pp_glue((Pp_string\"Please report at \")(Pp_string http://coq.inria.fr/bugs/)(Pp_string .)))))))(str\"Anomaly \\\"Uncaught exception Stm.Vcs_aux.Expired.\\\"\\nPlease report at http://coq.inria.fr/bugs/.\"))))\n",
      "(Answer 7 Completed)\n",
      ") \n",
      "\n",
      "((Answer 8 Ack)\n",
      "(Answer 8(CoqExn((loc())(stm_ids())(backtrace(Backtrace()))(exn(Stm.Vcs_aux.Expired))(pp(Pp_glue((Pp_box(Pp_hovbox 0)(Pp_glue((Pp_string Anomaly)(Pp_print_break 1 0)(Pp_box Pp_hbox(Pp_glue((Pp_glue((Pp_string\"\\\"\")(Pp_string\"Uncaught exception \")(Pp_string Stm.Vcs_aux.Expired)(Pp_string .)))(Pp_string\"\\\"\")))))))(Pp_print_break 1 0)(Pp_box(Pp_hovbox 0)(Pp_glue((Pp_string\"Please report at \")(Pp_string http://coq.inria.fr/bugs/)(Pp_string .)))))))(str\"Anomaly \\\"Uncaught exception Stm.Vcs_aux.Expired.\\\"\\nPlease report at http://coq.inria.fr/bugs/.\"))))\n",
      "(Answer 8 Completed)\n",
      ") \n",
      "\n"
     ]
    }
   ],
   "source": [
    "for i in range(1, 7):\n",
    "    print(Exec(proc, i), \"\\n\")"
   ]
  },
  {
   "cell_type": "code",
   "execution_count": 15,
   "id": "4be41f00-b48e-4a97-bd7a-9deb351ad049",
   "metadata": {},
   "outputs": [
    {
     "name": "stdout",
     "output_type": "stream",
     "text": [
      "((Answer 47 Ack)\n",
      "(Answer 47(ObjList()))\n",
      "(Answer 47 Completed)\n",
      ") \n",
      "\n",
      "((Answer 48 Ack)\n",
      "(Answer 48(ObjList((CoqString\"none\\n============================\\nforall x : nat, x = x\"))))\n",
      "(Answer 48 Completed)\n",
      ") \n",
      "\n",
      "((Answer 49 Ack)\n",
      "(Answer 49(ObjList((CoqString\"none\\n============================\\nforall x : nat, x = x\"))))\n",
      "(Answer 49 Completed)\n",
      ") \n",
      "\n",
      "((Answer 50 Ack)\n",
      "(Answer 50(ObjList()))\n",
      "(Answer 50 Completed)\n",
      ") \n",
      "\n",
      "((Answer 51 Ack)\n",
      "(Answer 51(ObjList((CoqString\"\\n  x : nat\\n============================\\nx = x\"))))\n",
      "(Answer 51 Completed)\n",
      ") \n",
      "\n",
      "((Answer 52 Ack)\n",
      "(Answer 52(ObjList()))\n",
      "(Answer 52 Completed)\n",
      ") \n",
      "\n"
     ]
    }
   ],
   "source": [
    "for i in range(1, 7):\n",
    "    print(Query(proc, i), \"\\n\")"
   ]
  },
  {
   "cell_type": "code",
   "execution_count": 69,
   "id": "b32f0377-a2c1-4d71-b372-49bc568b1ab5",
   "metadata": {},
   "outputs": [
    {
     "name": "stdout",
     "output_type": "stream",
     "text": [
      "234"
     ]
    }
   ],
   "source": [
    "i = 1\n",
    "while \"eror\" not in Exec(i) and \"CoqExn\" not in Exec(i):\n",
    "    i += 1\n",
    "    print(i, end=\"\")"
   ]
  },
  {
   "cell_type": "code",
   "execution_count": null,
   "id": "4acb7590-0459-4110-adc3-31830d97c1b7",
   "metadata": {},
   "outputs": [],
   "source": []
  }
 ],
 "metadata": {
  "kernelspec": {
   "display_name": "Python 3 (ipykernel)",
   "language": "python",
   "name": "python3"
  },
  "language_info": {
   "codemirror_mode": {
    "name": "ipython",
    "version": 3
   },
   "file_extension": ".py",
   "mimetype": "text/x-python",
   "name": "python",
   "nbconvert_exporter": "python",
   "pygments_lexer": "ipython3",
   "version": "3.11.2"
  }
 },
 "nbformat": 4,
 "nbformat_minor": 5
}
