{
 "cells": [
  {
   "cell_type": "code",
   "execution_count": 1,
   "id": "ac6c25d9-20fa-439e-838a-1ba6bbfb863b",
   "metadata": {},
   "outputs": [
    {
     "name": "stdout",
     "output_type": "stream",
     "text": [
      "hellow world\n"
     ]
    }
   ],
   "source": [
    "print(\"hellow world\")\n",
    "\n",
    "import requests"
   ]
  },
  {
   "cell_type": "code",
   "execution_count": 5,
   "id": "a8b73923-6558-4a69-ad00-3c5589d1a896",
   "metadata": {},
   "outputs": [],
   "source": [
    "url = \"http://host.docker.internal:11434/api/generate\"\n",
    "payload = {\n",
    "    \"model\": \"qwen3:4b\",       # замените на нужную модель\n",
    "    \"prompt\": \"Напиши очень при очень краткое резюме по теме 'формальная верификация в coq' на русском языке\",\n",
    "    \"stream\": False\n",
    "}"
   ]
  },
  {
   "cell_type": "code",
   "execution_count": null,
   "id": "339831ec-12b7-418b-b2dd-d5a2d7a966ff",
   "metadata": {},
   "outputs": [],
   "source": [
    "resp = requests.post(url, json=payload, timeout=120)"
   ]
  },
  {
   "cell_type": "code",
   "execution_count": 4,
   "id": "b160d3c2-d021-4eaa-bdf6-a2a3ef6ed611",
   "metadata": {},
   "outputs": [
    {
     "ename": "HTTPError",
     "evalue": "404 Client Error: Not Found for url: http://host.docker.internal:11434/api/generate",
     "output_type": "error",
     "traceback": [
      "\u001b[31m---------------------------------------------------------------------------\u001b[39m",
      "\u001b[31mHTTPError\u001b[39m                                 Traceback (most recent call last)",
      "\u001b[36mCell\u001b[39m\u001b[36m \u001b[39m\u001b[32mIn[4]\u001b[39m\u001b[32m, line 1\u001b[39m\n\u001b[32m----> \u001b[39m\u001b[32m1\u001b[39m \u001b[43mresp\u001b[49m\u001b[43m.\u001b[49m\u001b[43mraise_for_status\u001b[49m\u001b[43m(\u001b[49m\u001b[43m)\u001b[49m\n\u001b[32m      2\u001b[39m data = resp.json()  \u001b[38;5;66;03m# вернёт JSON с результатом\u001b[39;00m\n\u001b[32m      3\u001b[39m \u001b[38;5;28mprint\u001b[39m(data)\n",
      "\u001b[36mFile \u001b[39m\u001b[32m/opt/venv/lib/python3.11/site-packages/requests/models.py:1026\u001b[39m, in \u001b[36mResponse.raise_for_status\u001b[39m\u001b[34m(self)\u001b[39m\n\u001b[32m   1021\u001b[39m     http_error_msg = (\n\u001b[32m   1022\u001b[39m         \u001b[33mf\u001b[39m\u001b[33m\"\u001b[39m\u001b[38;5;132;01m{\u001b[39;00m\u001b[38;5;28mself\u001b[39m.status_code\u001b[38;5;132;01m}\u001b[39;00m\u001b[33m Server Error: \u001b[39m\u001b[38;5;132;01m{\u001b[39;00mreason\u001b[38;5;132;01m}\u001b[39;00m\u001b[33m for url: \u001b[39m\u001b[38;5;132;01m{\u001b[39;00m\u001b[38;5;28mself\u001b[39m.url\u001b[38;5;132;01m}\u001b[39;00m\u001b[33m\"\u001b[39m\n\u001b[32m   1023\u001b[39m     )\n\u001b[32m   1025\u001b[39m \u001b[38;5;28;01mif\u001b[39;00m http_error_msg:\n\u001b[32m-> \u001b[39m\u001b[32m1026\u001b[39m     \u001b[38;5;28;01mraise\u001b[39;00m HTTPError(http_error_msg, response=\u001b[38;5;28mself\u001b[39m)\n",
      "\u001b[31mHTTPError\u001b[39m: 404 Client Error: Not Found for url: http://host.docker.internal:11434/api/generate"
     ]
    }
   ],
   "source": [
    "resp.raise_for_status()\n",
    "data = resp.json()  # вернёт JSON с результатом\n",
    "print(data)"
   ]
  },
  {
   "cell_type": "code",
   "execution_count": 104,
   "id": "eba59a0a-1c33-4c3c-864a-f1efd6a2771c",
   "metadata": {},
   "outputs": [],
   "source": [
    "import requests\n",
    "import json\n",
    "from typing import Optional\n",
    "\n",
    "API_BASE = \"http://host.docker.internal:11434\"  # Базовый URL API Ollama\n",
    "GENERATE_PATH = \"/api/generate\"  # Путь для генерации текста\n",
    "\n",
    "# Кастомное исключение для ошибок работы с Ollama API\n",
    "class OllamaAPIError(Exception):\n",
    "    pass\n",
    "\n",
    "def check_server() -> None:\n",
    "    \"\"\"\n",
    "    Проверяет доступность сервера Ollama.\n",
    "    Бросает исключение, если сервер недоступен или ответ не соответствует ожиданиям.\n",
    "    \"\"\"\n",
    "    try:\n",
    "        r = requests.get(API_BASE + \"/\", timeout=5)  # Запрос к корневому пути\n",
    "    except requests.RequestException as e:\n",
    "        # Если соединение не удалось\n",
    "        raise OllamaAPIError(f\"Cannot reach {API_BASE}: {e}\")\n",
    "    # Проверка статуса и содержимого ответа\n",
    "    if r.status_code != 200 or \"Ollama\" not in (r.text or \"\"):\n",
    "        raise OllamaAPIError(f\"Service at {API_BASE} responded unexpectedly: status={r.status_code}, body={r.text!r}\")\n",
    "\n",
    "def extract_text_from_json(obj) -> Optional[str]:\n",
    "    \"\"\"\n",
    "    Извлекает текст из JSON-объекта, который может содержать ответ модели.\n",
    "    Поддерживает разные форматы (OpenAI-like, Ollama-like).\n",
    "    \"\"\"\n",
    "    if obj is None:\n",
    "        return None\n",
    "    if isinstance(obj, str):\n",
    "        return obj\n",
    "    if isinstance(obj, dict):\n",
    "        # Проверка распространённых ключей\n",
    "        for key in (\"response\", \"text\", \"completion\", \"content\"):\n",
    "            if key in obj and isinstance(obj[key], str):\n",
    "                return obj[key]\n",
    "        # Обработка формата с choices[]\n",
    "        ch = obj.get(\"choices\")\n",
    "        if isinstance(ch, list) and ch:\n",
    "            first = ch[0]\n",
    "            if isinstance(first, dict):\n",
    "                # OpenAI streaming формат: delta.content\n",
    "                if \"delta\" in first and isinstance(first[\"delta\"], dict):\n",
    "                    return first[\"delta\"].get(\"content\")\n",
    "                # Прямой текст\n",
    "                if \"text\" in first and isinstance(first[\"text\"], str):\n",
    "                    return first[\"text\"]\n",
    "                # Формат message.content\n",
    "                if \"message\" in first and isinstance(first[\"message\"], dict):\n",
    "                    return first[\"message\"].get(\"content\")\n",
    "    return None\n",
    "\n",
    "def stream_until_dot(goal_text: str, failed_tactics = [], model: str = \"llama3:8b\", timeout: int = 120) -> str:\n",
    "    \"\"\"\n",
    "    Отправляет запрос к Ollama API с целью сгенерировать одну строку тактики Coq.\n",
    "    Читает потоковый ответ до первой точки '.' и возвращает собранный текст.\n",
    "    \n",
    "    :param goal_text: Цель в синтаксисе Coq, для которой требуется тактика\n",
    "    :param model: Название модели (по умолчанию llama3:8b)\n",
    "    :param timeout: Таймаут запроса в секундах\n",
    "    :return: Сгенерированная тактика (строка, заканчивающаяся точкой)\n",
    "    \"\"\"\n",
    "    check_server()  # Проверка доступности сервера\n",
    "\n",
    "    url = API_BASE + GENERATE_PATH\n",
    "    # Формируем инструкцию для модели\n",
    "    prompt = f\"\"\"You are a Coq tactic suggester.\n",
    "\n",
    "INPUT:\n",
    "A Coq goal is provided below in its ORIGINAL Coq format. Do not modify or repeat it.\n",
    "A list of previously tried tactics that FAILED is also provided; avoid using them again.\n",
    "\n",
    "GOAL:\n",
    "```coq\n",
    "{goal_text}\n",
    "````\n",
    "\n",
    "FAILED TACTICS:\n",
    "{failed_tactics}\n",
    "\n",
    "TASK:\n",
    "Output EXACTLY ONE Coq tactic line that makes the most direct progress toward solving the goal and is NOT in the failed tactics list.\n",
    "\n",
    "HARD RULES:\n",
    "\n",
    "* Output ONLY a single Coq tactic line terminated by a period.\n",
    "* No explanations, no prefixes, no code fences, no extra text, no alternatives.\n",
    "* Do NOT repeat or alter the goal.\n",
    "* Prefer the most direct, type-correct next step.\n",
    "* If multiple options exist, choose the single most straightforward one.\n",
    "* Semicolons (`;`) and proof brackets (`[...]`) are allowed, but the result must be ONE line.\n",
    "* Never output a tactic that appears in the FAILED TACTICS list.\n",
    "* Never answer \"I don't know\" or similar; always output your best single tactic.\n",
    "* Keep it minimal.\n",
    "* At the end it is necessary to have `.`\n",
    "* allowed `auto.`, `reflexivity.`, `trivial.`, `subst.`\n",
    "\n",
    "Respond with ONLY the tactic line.\"\"\"\n",
    "    # Тело запроса для Ollama API\n",
    "    payload = {\n",
    "        \"model\": model,\n",
    "        \"prompt\": prompt,\n",
    "        \"stream\": True  # Включаем потоковый режим\n",
    "    }\n",
    "    \n",
    "    # Отправка запроса\n",
    "    resp = requests.post(url, json=payload, stream=True, timeout=timeout)\n",
    "    if resp.status_code == 404:\n",
    "        # Ошибка 404 — сервер не настроен или не запущен\n",
    "        resp.close()\n",
    "        raise OllamaAPIError(\n",
    "            \"404 from /api/generate. Проверьте: контейнер запущен ли с 'ollama serve', доступен ли порт 11434, и не занят ли порт другим процессом. \"\n",
    "            \"Выполните `curl http://localhost:11434/` и `docker logs ollama`.\"\n",
    "        )\n",
    "    resp.raise_for_status()  # Проверка на другие HTTP-ошибки\n",
    "    \n",
    "    collected = \"\"  # Буфер для символов\n",
    "    try:\n",
    "        # Читаем поток построчно\n",
    "        for raw_line in resp.iter_lines(decode_unicode=True):\n",
    "            if raw_line is None:\n",
    "                continue\n",
    "            line = raw_line.strip()\n",
    "            if not line:\n",
    "                continue\n",
    "            # Попытка распарсить строку как JSON\n",
    "            try:\n",
    "                obj = json.loads(line)\n",
    "            except json.JSONDecodeError:\n",
    "                # Если не JSON — используем как текст\n",
    "                text = line\n",
    "            else:\n",
    "                # Извлекаем полезный текст из объекта\n",
    "                text = extract_text_from_json(obj) or \"\"\n",
    "            if not text:\n",
    "                continue\n",
    "            # Ищем первую точку в ответе\n",
    "            for ch in text:\n",
    "                if ch == \".\":\n",
    "                    # Закрываем соединение и возвращаем собранный ответ\n",
    "                    resp.close()\n",
    "                    return collected.strip() + \".\"\n",
    "                collected += ch\n",
    "        # Если поток закончился без точки — возвращаем что есть\n",
    "        resp.close()\n",
    "        return collected.strip()\n",
    "    finally:\n",
    "        # Гарантированное закрытие соединения\n",
    "        try:\n",
    "            resp.close()\n",
    "        except Exception:\n",
    "            pass\n"
   ]
  },
  {
   "cell_type": "code",
   "execution_count": 87,
   "id": "bdf70ef2-6323-41d0-b336-da5d5a04f714",
   "metadata": {
    "scrolled": true
   },
   "outputs": [
    {
     "name": "stdout",
     "output_type": "stream",
     "text": [
      "decide. \n",
      "______________________________________\n",
      "\n",
      "\n",
      "\n",
      "rewrite <- Hall. \n",
      "______________________________________\n",
      "\n",
      "\n",
      "\n",
      "unfold max_list, fold_left nat_add; \n",
      "______________________________________\n",
      "\n",
      "\n",
      "\n",
      "decide. \n",
      "______________________________________\n",
      "\n",
      "\n",
      "\n",
      "decision. \n",
      "______________________________________\n",
      "\n",
      "\n",
      "\n",
      "constructor; \n",
      "______________________________________\n",
      "\n",
      "\n",
      "\n",
      "simplify. \n",
      "______________________________________\n",
      "\n",
      "\n",
      "\n",
      "unfold_in_map. \n",
      "______________________________________\n",
      "\n",
      "\n",
      "\n",
      "auto. \n",
      "______________________________________\n",
      "\n",
      "\n",
      "\n",
      "intro H. \n",
      "______________________________________\n",
      "\n",
      "\n",
      "\n",
      "constructor. \n",
      "______________________________________\n",
      "\n",
      "\n",
      "\n",
      "congruence. \n",
      "______________________________________\n",
      "\n",
      "\n",
      "\n",
      "constr_solve. \n",
      "______________________________________\n",
      "\n",
      "\n",
      "\n",
      "destruct l as [x L]. \n",
      "______________________________________\n",
      "\n",
      "\n",
      "\n",
      "destruct l as [x xs]. \n",
      "______________________________________\n",
      "\n",
      "\n",
      "\n",
      "constructive_or. \n",
      "______________________________________\n",
      "\n",
      "\n",
      "\n",
      "independent. \n",
      "______________________________________\n",
      "\n",
      "\n",
      "\n",
      "instantiate (1). \n",
      "______________________________________\n",
      "\n",
      "\n",
      "\n",
      "unfold max_list, rewrite <- Hall, constructor. \n",
      "______________________________________\n",
      "\n",
      "\n",
      "\n",
      "constructor. \n",
      "______________________________________\n",
      "\n",
      "\n",
      "\n"
     ]
    }
   ],
   "source": [
    "for i in range(20):\n",
    "        print (stream_until_dot(\n",
    "    \"\"\"1 goal\n",
    "l : list nat\n",
    "Hall : forall x : nat, In x l\n",
    "______________________________________(1/1)\n",
    "In (S (max_list l)) l\n",
    "    \"\"\"), \"\\n______________________________________\\n\\n\\n\")"
   ]
  },
  {
   "cell_type": "code",
   "execution_count": 7,
   "id": "952c76ea-d1db-4a89-a5f0-93b1095604c0",
   "metadata": {},
   "outputs": [
    {
     "name": "stdout",
     "output_type": "stream",
     "text": [
      "Requirement already satisfied: sexpdata in /opt/venv/lib/python3.11/site-packages (1.0.2)\n"
     ]
    }
   ],
   "source": [
    "!pip install sexpdata"
   ]
  },
  {
   "cell_type": "code",
   "execution_count": 109,
   "id": "4ebd2928-af00-4a24-ae07-986bf5dd0aa9",
   "metadata": {},
   "outputs": [],
   "source": [
    "import subprocess, sexpdata\n",
    "from sexpdata import loads\n",
    "import select\n",
    "\n",
    "def read(proc):\n",
    "    timeout = 5  # секунд\n",
    "    ready, _, _ = select.select([proc.stdout], [], [], timeout)\n",
    "    if not ready:\n",
    "        return \"eror\"\n",
    "    \n",
    "    line = \"(\"\n",
    "    while \"Completed\" not in line:\n",
    "        line += proc.stdout.readline()\n",
    "        #print(line.split(\"\\n\")[-2])\n",
    "    return line + \")\"\n",
    "\n",
    "def Add(proc, line):\n",
    "    cmd = f'(Add () \"{line}\")\\n'\n",
    "    proc.stdin.write(cmd)\n",
    "    proc.stdin.flush()\n",
    "    return read(proc)\n",
    "\n",
    "def Exec(proc, i):\n",
    "    cmd = f'(Exec {i})\\n'\n",
    "    proc.stdin.write(cmd)\n",
    "    proc.stdin.flush()\n",
    "    return read(proc)\n",
    "\n",
    "def Cancel(proc, i):\n",
    "    cmd = f'(Cancel ({i}))\\n'\n",
    "    proc.stdin.write(cmd)\n",
    "    proc.stdin.flush()\n",
    "    return read(proc)\n",
    "\n",
    "def Query(proc, i):\n",
    "    cmd = f'(Query ((sid {i}) (pp ((pp_format PpStr)))) Goals)\\n'\n",
    "    proc.stdin.write(cmd)\n",
    "    proc.stdin.flush()\n",
    "    return read(proc)\n",
    "\n",
    "def find_a_leters(tree, leters, path=\"0\"):\n",
    "    results = []\n",
    "    if isinstance(tree, list) or isinstance(tree, tuple):\n",
    "        if tree and isinstance(tree[0], sexpdata.Symbol) and tree[0].value() in leters:\n",
    "            cur_tree = []\n",
    "            for i, elem in enumerate(tree):\n",
    "                if i != 0 and elem and isinstance(elem, list) \\\n",
    "                    and isinstance(elem[0], sexpdata.Symbol) and elem[0].value() in leters:\n",
    "                    break\n",
    "                cur_tree.append(elem)\n",
    "            results.append((path, cur_tree))\n",
    "        for i, elem in enumerate(tree):\n",
    "            results += find_a_leters(elem, leters, path + \".\" + str(i))\n",
    "    return results\n",
    "\n",
    "def solve(lemma):\n",
    "    proc = subprocess.Popen(\n",
    "        [\"sertop\"],\n",
    "        stdin=subprocess.PIPE, stdout=subprocess.PIPE, stderr=subprocess.PIPE, text=True\n",
    "    )\n",
    "    line = proc.stdout.readline()\n",
    "    while \"(contents Processed)\" not in line:\n",
    "        line = proc.stdout.readline()\n",
    "\n",
    "    added = 2\n",
    "    Add(proc, str(lemma))\n",
    "    Exec(proc, added)\n",
    "    ans = find_a_leters(loads(Query(proc, added)), \"CoqString\")[0][1][1]\n",
    "    print(ans)\n",
    "    print(\"============================\")\n",
    "\n",
    "    failed_tactics = []\n",
    "\n",
    "    while ans:\n",
    "        tactic = stream_until_dot(ans, failed_tactics)\n",
    "        #tactic = \"some eror..\"\n",
    "        if \".\" != tactic[-1] : tactic += '.'\n",
    "        print(tactic)\n",
    "        Add(proc, tactic)\n",
    "        ex = find_a_leters(loads(Exec(proc, added + 1)), \"CoqExn\")\n",
    "        if not ex:\n",
    "            added += 1\n",
    "            failed_tactics = []\n",
    "            \n",
    "            ans = find_a_leters(loads(Query(proc, added)), \"CoqString\")[0][1][1]\n",
    "            print(ans)\n",
    "            print(\"============================\")\n",
    "        else:\n",
    "            print(\"eror\")\n",
    "            print(\"============================\")\n",
    "            Cancel(proc, added + 1)\n",
    "            failed_tactics.append(tactic)\n",
    "\n",
    "    print(\"Qed.\")\n",
    "    "
   ]
  },
  {
   "cell_type": "code",
   "execution_count": 113,
   "id": "c01f4ca3-d77d-401b-82ca-849543638305",
   "metadata": {},
   "outputs": [
    {
     "name": "stdout",
     "output_type": "stream",
     "text": [
      "none\n",
      "============================\n",
      "forall x y z : nat,\n",
      "                             x = y -> y = z -> x = z\n",
      "============================\n",
      "rewrite -> 1.\n",
      "eror\n",
      "============================\n",
      "intros.\n",
      "\n",
      "  H0 : y = z\n",
      "  H : x = y\n",
      "  x, y, z : nat\n",
      "============================\n",
      "x = z\n",
      "============================\n",
      "rewrite H in H0.\n",
      "eror\n",
      "============================\n",
      "rewrite H in H0.\n",
      "eror\n",
      "============================\n",
      "rewrite H0 in |-*.\n",
      "eror\n",
      "============================\n",
      "rewrite H in H0.\n",
      "eror\n",
      "============================\n",
      "rewrite H in H0.\n",
      "eror\n",
      "============================\n",
      "rewrite H in H0.\n",
      "eror\n",
      "============================\n",
      "rewrite H in H0.\n",
      "eror\n",
      "============================\n",
      "rewrite H0 in H.\n",
      "eror\n",
      "============================\n",
      "rewrite H in H0.\n",
      "eror\n",
      "============================\n",
      "rewrite H0 in |-*.\n",
      "eror\n",
      "============================\n",
      "rewrite H in H0.\n",
      "eror\n",
      "============================\n",
      "rewrite H in H0.\n",
      "eror\n",
      "============================\n",
      "rewrite H in H0.\n",
      "eror\n",
      "============================\n",
      "rewrite H in H0.\n",
      "eror\n",
      "============================\n",
      "rewrite H in H0.\n",
      "eror\n",
      "============================\n"
     ]
    },
    {
     "ename": "KeyboardInterrupt",
     "evalue": "",
     "output_type": "error",
     "traceback": [
      "\u001b[31m---------------------------------------------------------------------------\u001b[39m",
      "\u001b[31mKeyboardInterrupt\u001b[39m                         Traceback (most recent call last)",
      "\u001b[36mCell\u001b[39m\u001b[36m \u001b[39m\u001b[32mIn[113]\u001b[39m\u001b[32m, line 1\u001b[39m\n\u001b[32m----> \u001b[39m\u001b[32m1\u001b[39m \u001b[43msolve\u001b[49m\u001b[43m(\u001b[49m\u001b[33;43m\"\u001b[39;49m\u001b[33;43mLemma test: forall (x y z : nat), x = y -> y = z -> x = z.\u001b[39;49m\u001b[33;43m\"\u001b[39;49m\u001b[43m)\u001b[49m\n",
      "\u001b[36mCell\u001b[39m\u001b[36m \u001b[39m\u001b[32mIn[109]\u001b[39m\u001b[32m, line 75\u001b[39m, in \u001b[36msolve\u001b[39m\u001b[34m(lemma)\u001b[39m\n\u001b[32m     72\u001b[39m failed_tactics = []\n\u001b[32m     74\u001b[39m \u001b[38;5;28;01mwhile\u001b[39;00m ans:\n\u001b[32m---> \u001b[39m\u001b[32m75\u001b[39m     tactic = \u001b[43mstream_until_dot\u001b[49m\u001b[43m(\u001b[49m\u001b[43mans\u001b[49m\u001b[43m,\u001b[49m\u001b[43m \u001b[49m\u001b[43mfailed_tactics\u001b[49m\u001b[43m)\u001b[49m\n\u001b[32m     76\u001b[39m     \u001b[38;5;66;03m#tactic = \"some eror..\"\u001b[39;00m\n\u001b[32m     77\u001b[39m     \u001b[38;5;28;01mif\u001b[39;00m \u001b[33m\"\u001b[39m\u001b[33m.\u001b[39m\u001b[33m\"\u001b[39m != tactic[-\u001b[32m1\u001b[39m] : tactic += \u001b[33m'\u001b[39m\u001b[33m.\u001b[39m\u001b[33m'\u001b[39m\n",
      "\u001b[36mCell\u001b[39m\u001b[36m \u001b[39m\u001b[32mIn[104]\u001b[39m\u001b[32m, line 110\u001b[39m, in \u001b[36mstream_until_dot\u001b[39m\u001b[34m(goal_text, failed_tactics, model, timeout)\u001b[39m\n\u001b[32m    103\u001b[39m payload = {\n\u001b[32m    104\u001b[39m     \u001b[33m\"\u001b[39m\u001b[33mmodel\u001b[39m\u001b[33m\"\u001b[39m: model,\n\u001b[32m    105\u001b[39m     \u001b[33m\"\u001b[39m\u001b[33mprompt\u001b[39m\u001b[33m\"\u001b[39m: prompt,\n\u001b[32m    106\u001b[39m     \u001b[33m\"\u001b[39m\u001b[33mstream\u001b[39m\u001b[33m\"\u001b[39m: \u001b[38;5;28;01mTrue\u001b[39;00m  \u001b[38;5;66;03m# Включаем потоковый режим\u001b[39;00m\n\u001b[32m    107\u001b[39m }\n\u001b[32m    109\u001b[39m \u001b[38;5;66;03m# Отправка запроса\u001b[39;00m\n\u001b[32m--> \u001b[39m\u001b[32m110\u001b[39m resp = \u001b[43mrequests\u001b[49m\u001b[43m.\u001b[49m\u001b[43mpost\u001b[49m\u001b[43m(\u001b[49m\u001b[43murl\u001b[49m\u001b[43m,\u001b[49m\u001b[43m \u001b[49m\u001b[43mjson\u001b[49m\u001b[43m=\u001b[49m\u001b[43mpayload\u001b[49m\u001b[43m,\u001b[49m\u001b[43m \u001b[49m\u001b[43mstream\u001b[49m\u001b[43m=\u001b[49m\u001b[38;5;28;43;01mTrue\u001b[39;49;00m\u001b[43m,\u001b[49m\u001b[43m \u001b[49m\u001b[43mtimeout\u001b[49m\u001b[43m=\u001b[49m\u001b[43mtimeout\u001b[49m\u001b[43m)\u001b[49m\n\u001b[32m    111\u001b[39m \u001b[38;5;28;01mif\u001b[39;00m resp.status_code == \u001b[32m404\u001b[39m:\n\u001b[32m    112\u001b[39m     \u001b[38;5;66;03m# Ошибка 404 — сервер не настроен или не запущен\u001b[39;00m\n\u001b[32m    113\u001b[39m     resp.close()\n",
      "\u001b[36mFile \u001b[39m\u001b[32m/opt/venv/lib/python3.11/site-packages/requests/api.py:115\u001b[39m, in \u001b[36mpost\u001b[39m\u001b[34m(url, data, json, **kwargs)\u001b[39m\n\u001b[32m    103\u001b[39m \u001b[38;5;28;01mdef\u001b[39;00m\u001b[38;5;250m \u001b[39m\u001b[34mpost\u001b[39m(url, data=\u001b[38;5;28;01mNone\u001b[39;00m, json=\u001b[38;5;28;01mNone\u001b[39;00m, **kwargs):\n\u001b[32m    104\u001b[39m \u001b[38;5;250m    \u001b[39m\u001b[33mr\u001b[39m\u001b[33;03m\"\"\"Sends a POST request.\u001b[39;00m\n\u001b[32m    105\u001b[39m \n\u001b[32m    106\u001b[39m \u001b[33;03m    :param url: URL for the new :class:`Request` object.\u001b[39;00m\n\u001b[32m   (...)\u001b[39m\u001b[32m    112\u001b[39m \u001b[33;03m    :rtype: requests.Response\u001b[39;00m\n\u001b[32m    113\u001b[39m \u001b[33;03m    \"\"\"\u001b[39;00m\n\u001b[32m--> \u001b[39m\u001b[32m115\u001b[39m     \u001b[38;5;28;01mreturn\u001b[39;00m \u001b[43mrequest\u001b[49m\u001b[43m(\u001b[49m\u001b[33;43m\"\u001b[39;49m\u001b[33;43mpost\u001b[39;49m\u001b[33;43m\"\u001b[39;49m\u001b[43m,\u001b[49m\u001b[43m \u001b[49m\u001b[43murl\u001b[49m\u001b[43m,\u001b[49m\u001b[43m \u001b[49m\u001b[43mdata\u001b[49m\u001b[43m=\u001b[49m\u001b[43mdata\u001b[49m\u001b[43m,\u001b[49m\u001b[43m \u001b[49m\u001b[43mjson\u001b[49m\u001b[43m=\u001b[49m\u001b[43mjson\u001b[49m\u001b[43m,\u001b[49m\u001b[43m \u001b[49m\u001b[43m*\u001b[49m\u001b[43m*\u001b[49m\u001b[43mkwargs\u001b[49m\u001b[43m)\u001b[49m\n",
      "\u001b[36mFile \u001b[39m\u001b[32m/opt/venv/lib/python3.11/site-packages/requests/api.py:59\u001b[39m, in \u001b[36mrequest\u001b[39m\u001b[34m(method, url, **kwargs)\u001b[39m\n\u001b[32m     55\u001b[39m \u001b[38;5;66;03m# By using the 'with' statement we are sure the session is closed, thus we\u001b[39;00m\n\u001b[32m     56\u001b[39m \u001b[38;5;66;03m# avoid leaving sockets open which can trigger a ResourceWarning in some\u001b[39;00m\n\u001b[32m     57\u001b[39m \u001b[38;5;66;03m# cases, and look like a memory leak in others.\u001b[39;00m\n\u001b[32m     58\u001b[39m \u001b[38;5;28;01mwith\u001b[39;00m sessions.Session() \u001b[38;5;28;01mas\u001b[39;00m session:\n\u001b[32m---> \u001b[39m\u001b[32m59\u001b[39m     \u001b[38;5;28;01mreturn\u001b[39;00m \u001b[43msession\u001b[49m\u001b[43m.\u001b[49m\u001b[43mrequest\u001b[49m\u001b[43m(\u001b[49m\u001b[43mmethod\u001b[49m\u001b[43m=\u001b[49m\u001b[43mmethod\u001b[49m\u001b[43m,\u001b[49m\u001b[43m \u001b[49m\u001b[43murl\u001b[49m\u001b[43m=\u001b[49m\u001b[43murl\u001b[49m\u001b[43m,\u001b[49m\u001b[43m \u001b[49m\u001b[43m*\u001b[49m\u001b[43m*\u001b[49m\u001b[43mkwargs\u001b[49m\u001b[43m)\u001b[49m\n",
      "\u001b[36mFile \u001b[39m\u001b[32m/opt/venv/lib/python3.11/site-packages/requests/sessions.py:589\u001b[39m, in \u001b[36mSession.request\u001b[39m\u001b[34m(self, method, url, params, data, headers, cookies, files, auth, timeout, allow_redirects, proxies, hooks, stream, verify, cert, json)\u001b[39m\n\u001b[32m    584\u001b[39m send_kwargs = {\n\u001b[32m    585\u001b[39m     \u001b[33m\"\u001b[39m\u001b[33mtimeout\u001b[39m\u001b[33m\"\u001b[39m: timeout,\n\u001b[32m    586\u001b[39m     \u001b[33m\"\u001b[39m\u001b[33mallow_redirects\u001b[39m\u001b[33m\"\u001b[39m: allow_redirects,\n\u001b[32m    587\u001b[39m }\n\u001b[32m    588\u001b[39m send_kwargs.update(settings)\n\u001b[32m--> \u001b[39m\u001b[32m589\u001b[39m resp = \u001b[38;5;28;43mself\u001b[39;49m\u001b[43m.\u001b[49m\u001b[43msend\u001b[49m\u001b[43m(\u001b[49m\u001b[43mprep\u001b[49m\u001b[43m,\u001b[49m\u001b[43m \u001b[49m\u001b[43m*\u001b[49m\u001b[43m*\u001b[49m\u001b[43msend_kwargs\u001b[49m\u001b[43m)\u001b[49m\n\u001b[32m    591\u001b[39m \u001b[38;5;28;01mreturn\u001b[39;00m resp\n",
      "\u001b[36mFile \u001b[39m\u001b[32m/opt/venv/lib/python3.11/site-packages/requests/sessions.py:703\u001b[39m, in \u001b[36mSession.send\u001b[39m\u001b[34m(self, request, **kwargs)\u001b[39m\n\u001b[32m    700\u001b[39m start = preferred_clock()\n\u001b[32m    702\u001b[39m \u001b[38;5;66;03m# Send the request\u001b[39;00m\n\u001b[32m--> \u001b[39m\u001b[32m703\u001b[39m r = \u001b[43madapter\u001b[49m\u001b[43m.\u001b[49m\u001b[43msend\u001b[49m\u001b[43m(\u001b[49m\u001b[43mrequest\u001b[49m\u001b[43m,\u001b[49m\u001b[43m \u001b[49m\u001b[43m*\u001b[49m\u001b[43m*\u001b[49m\u001b[43mkwargs\u001b[49m\u001b[43m)\u001b[49m\n\u001b[32m    705\u001b[39m \u001b[38;5;66;03m# Total elapsed time of the request (approximately)\u001b[39;00m\n\u001b[32m    706\u001b[39m elapsed = preferred_clock() - start\n",
      "\u001b[36mFile \u001b[39m\u001b[32m/opt/venv/lib/python3.11/site-packages/requests/adapters.py:644\u001b[39m, in \u001b[36mHTTPAdapter.send\u001b[39m\u001b[34m(self, request, stream, timeout, verify, cert, proxies)\u001b[39m\n\u001b[32m    641\u001b[39m     timeout = TimeoutSauce(connect=timeout, read=timeout)\n\u001b[32m    643\u001b[39m \u001b[38;5;28;01mtry\u001b[39;00m:\n\u001b[32m--> \u001b[39m\u001b[32m644\u001b[39m     resp = \u001b[43mconn\u001b[49m\u001b[43m.\u001b[49m\u001b[43murlopen\u001b[49m\u001b[43m(\u001b[49m\n\u001b[32m    645\u001b[39m \u001b[43m        \u001b[49m\u001b[43mmethod\u001b[49m\u001b[43m=\u001b[49m\u001b[43mrequest\u001b[49m\u001b[43m.\u001b[49m\u001b[43mmethod\u001b[49m\u001b[43m,\u001b[49m\n\u001b[32m    646\u001b[39m \u001b[43m        \u001b[49m\u001b[43murl\u001b[49m\u001b[43m=\u001b[49m\u001b[43murl\u001b[49m\u001b[43m,\u001b[49m\n\u001b[32m    647\u001b[39m \u001b[43m        \u001b[49m\u001b[43mbody\u001b[49m\u001b[43m=\u001b[49m\u001b[43mrequest\u001b[49m\u001b[43m.\u001b[49m\u001b[43mbody\u001b[49m\u001b[43m,\u001b[49m\n\u001b[32m    648\u001b[39m \u001b[43m        \u001b[49m\u001b[43mheaders\u001b[49m\u001b[43m=\u001b[49m\u001b[43mrequest\u001b[49m\u001b[43m.\u001b[49m\u001b[43mheaders\u001b[49m\u001b[43m,\u001b[49m\n\u001b[32m    649\u001b[39m \u001b[43m        \u001b[49m\u001b[43mredirect\u001b[49m\u001b[43m=\u001b[49m\u001b[38;5;28;43;01mFalse\u001b[39;49;00m\u001b[43m,\u001b[49m\n\u001b[32m    650\u001b[39m \u001b[43m        \u001b[49m\u001b[43massert_same_host\u001b[49m\u001b[43m=\u001b[49m\u001b[38;5;28;43;01mFalse\u001b[39;49;00m\u001b[43m,\u001b[49m\n\u001b[32m    651\u001b[39m \u001b[43m        \u001b[49m\u001b[43mpreload_content\u001b[49m\u001b[43m=\u001b[49m\u001b[38;5;28;43;01mFalse\u001b[39;49;00m\u001b[43m,\u001b[49m\n\u001b[32m    652\u001b[39m \u001b[43m        \u001b[49m\u001b[43mdecode_content\u001b[49m\u001b[43m=\u001b[49m\u001b[38;5;28;43;01mFalse\u001b[39;49;00m\u001b[43m,\u001b[49m\n\u001b[32m    653\u001b[39m \u001b[43m        \u001b[49m\u001b[43mretries\u001b[49m\u001b[43m=\u001b[49m\u001b[38;5;28;43mself\u001b[39;49m\u001b[43m.\u001b[49m\u001b[43mmax_retries\u001b[49m\u001b[43m,\u001b[49m\n\u001b[32m    654\u001b[39m \u001b[43m        \u001b[49m\u001b[43mtimeout\u001b[49m\u001b[43m=\u001b[49m\u001b[43mtimeout\u001b[49m\u001b[43m,\u001b[49m\n\u001b[32m    655\u001b[39m \u001b[43m        \u001b[49m\u001b[43mchunked\u001b[49m\u001b[43m=\u001b[49m\u001b[43mchunked\u001b[49m\u001b[43m,\u001b[49m\n\u001b[32m    656\u001b[39m \u001b[43m    \u001b[49m\u001b[43m)\u001b[49m\n\u001b[32m    658\u001b[39m \u001b[38;5;28;01mexcept\u001b[39;00m (ProtocolError, \u001b[38;5;167;01mOSError\u001b[39;00m) \u001b[38;5;28;01mas\u001b[39;00m err:\n\u001b[32m    659\u001b[39m     \u001b[38;5;28;01mraise\u001b[39;00m \u001b[38;5;167;01mConnectionError\u001b[39;00m(err, request=request)\n",
      "\u001b[36mFile \u001b[39m\u001b[32m/opt/venv/lib/python3.11/site-packages/urllib3/connectionpool.py:787\u001b[39m, in \u001b[36mHTTPConnectionPool.urlopen\u001b[39m\u001b[34m(self, method, url, body, headers, retries, redirect, assert_same_host, timeout, pool_timeout, release_conn, chunked, body_pos, preload_content, decode_content, **response_kw)\u001b[39m\n\u001b[32m    784\u001b[39m response_conn = conn \u001b[38;5;28;01mif\u001b[39;00m \u001b[38;5;129;01mnot\u001b[39;00m release_conn \u001b[38;5;28;01melse\u001b[39;00m \u001b[38;5;28;01mNone\u001b[39;00m\n\u001b[32m    786\u001b[39m \u001b[38;5;66;03m# Make the request on the HTTPConnection object\u001b[39;00m\n\u001b[32m--> \u001b[39m\u001b[32m787\u001b[39m response = \u001b[38;5;28;43mself\u001b[39;49m\u001b[43m.\u001b[49m\u001b[43m_make_request\u001b[49m\u001b[43m(\u001b[49m\n\u001b[32m    788\u001b[39m \u001b[43m    \u001b[49m\u001b[43mconn\u001b[49m\u001b[43m,\u001b[49m\n\u001b[32m    789\u001b[39m \u001b[43m    \u001b[49m\u001b[43mmethod\u001b[49m\u001b[43m,\u001b[49m\n\u001b[32m    790\u001b[39m \u001b[43m    \u001b[49m\u001b[43murl\u001b[49m\u001b[43m,\u001b[49m\n\u001b[32m    791\u001b[39m \u001b[43m    \u001b[49m\u001b[43mtimeout\u001b[49m\u001b[43m=\u001b[49m\u001b[43mtimeout_obj\u001b[49m\u001b[43m,\u001b[49m\n\u001b[32m    792\u001b[39m \u001b[43m    \u001b[49m\u001b[43mbody\u001b[49m\u001b[43m=\u001b[49m\u001b[43mbody\u001b[49m\u001b[43m,\u001b[49m\n\u001b[32m    793\u001b[39m \u001b[43m    \u001b[49m\u001b[43mheaders\u001b[49m\u001b[43m=\u001b[49m\u001b[43mheaders\u001b[49m\u001b[43m,\u001b[49m\n\u001b[32m    794\u001b[39m \u001b[43m    \u001b[49m\u001b[43mchunked\u001b[49m\u001b[43m=\u001b[49m\u001b[43mchunked\u001b[49m\u001b[43m,\u001b[49m\n\u001b[32m    795\u001b[39m \u001b[43m    \u001b[49m\u001b[43mretries\u001b[49m\u001b[43m=\u001b[49m\u001b[43mretries\u001b[49m\u001b[43m,\u001b[49m\n\u001b[32m    796\u001b[39m \u001b[43m    \u001b[49m\u001b[43mresponse_conn\u001b[49m\u001b[43m=\u001b[49m\u001b[43mresponse_conn\u001b[49m\u001b[43m,\u001b[49m\n\u001b[32m    797\u001b[39m \u001b[43m    \u001b[49m\u001b[43mpreload_content\u001b[49m\u001b[43m=\u001b[49m\u001b[43mpreload_content\u001b[49m\u001b[43m,\u001b[49m\n\u001b[32m    798\u001b[39m \u001b[43m    \u001b[49m\u001b[43mdecode_content\u001b[49m\u001b[43m=\u001b[49m\u001b[43mdecode_content\u001b[49m\u001b[43m,\u001b[49m\n\u001b[32m    799\u001b[39m \u001b[43m    \u001b[49m\u001b[43m*\u001b[49m\u001b[43m*\u001b[49m\u001b[43mresponse_kw\u001b[49m\u001b[43m,\u001b[49m\n\u001b[32m    800\u001b[39m \u001b[43m\u001b[49m\u001b[43m)\u001b[49m\n\u001b[32m    802\u001b[39m \u001b[38;5;66;03m# Everything went great!\u001b[39;00m\n\u001b[32m    803\u001b[39m clean_exit = \u001b[38;5;28;01mTrue\u001b[39;00m\n",
      "\u001b[36mFile \u001b[39m\u001b[32m/opt/venv/lib/python3.11/site-packages/urllib3/connectionpool.py:534\u001b[39m, in \u001b[36mHTTPConnectionPool._make_request\u001b[39m\u001b[34m(self, conn, method, url, body, headers, retries, timeout, chunked, response_conn, preload_content, decode_content, enforce_content_length)\u001b[39m\n\u001b[32m    532\u001b[39m \u001b[38;5;66;03m# Receive the response from the server\u001b[39;00m\n\u001b[32m    533\u001b[39m \u001b[38;5;28;01mtry\u001b[39;00m:\n\u001b[32m--> \u001b[39m\u001b[32m534\u001b[39m     response = \u001b[43mconn\u001b[49m\u001b[43m.\u001b[49m\u001b[43mgetresponse\u001b[49m\u001b[43m(\u001b[49m\u001b[43m)\u001b[49m\n\u001b[32m    535\u001b[39m \u001b[38;5;28;01mexcept\u001b[39;00m (BaseSSLError, \u001b[38;5;167;01mOSError\u001b[39;00m) \u001b[38;5;28;01mas\u001b[39;00m e:\n\u001b[32m    536\u001b[39m     \u001b[38;5;28mself\u001b[39m._raise_timeout(err=e, url=url, timeout_value=read_timeout)\n",
      "\u001b[36mFile \u001b[39m\u001b[32m/opt/venv/lib/python3.11/site-packages/urllib3/connection.py:565\u001b[39m, in \u001b[36mHTTPConnection.getresponse\u001b[39m\u001b[34m(self)\u001b[39m\n\u001b[32m    562\u001b[39m _shutdown = \u001b[38;5;28mgetattr\u001b[39m(\u001b[38;5;28mself\u001b[39m.sock, \u001b[33m\"\u001b[39m\u001b[33mshutdown\u001b[39m\u001b[33m\"\u001b[39m, \u001b[38;5;28;01mNone\u001b[39;00m)\n\u001b[32m    564\u001b[39m \u001b[38;5;66;03m# Get the response from http.client.HTTPConnection\u001b[39;00m\n\u001b[32m--> \u001b[39m\u001b[32m565\u001b[39m httplib_response = \u001b[38;5;28;43msuper\u001b[39;49m\u001b[43m(\u001b[49m\u001b[43m)\u001b[49m\u001b[43m.\u001b[49m\u001b[43mgetresponse\u001b[49m\u001b[43m(\u001b[49m\u001b[43m)\u001b[49m\n\u001b[32m    567\u001b[39m \u001b[38;5;28;01mtry\u001b[39;00m:\n\u001b[32m    568\u001b[39m     assert_header_parsing(httplib_response.msg)\n",
      "\u001b[36mFile \u001b[39m\u001b[32m/usr/lib/python3.11/http/client.py:1374\u001b[39m, in \u001b[36mHTTPConnection.getresponse\u001b[39m\u001b[34m(self)\u001b[39m\n\u001b[32m   1372\u001b[39m \u001b[38;5;28;01mtry\u001b[39;00m:\n\u001b[32m   1373\u001b[39m     \u001b[38;5;28;01mtry\u001b[39;00m:\n\u001b[32m-> \u001b[39m\u001b[32m1374\u001b[39m         \u001b[43mresponse\u001b[49m\u001b[43m.\u001b[49m\u001b[43mbegin\u001b[49m\u001b[43m(\u001b[49m\u001b[43m)\u001b[49m\n\u001b[32m   1375\u001b[39m     \u001b[38;5;28;01mexcept\u001b[39;00m \u001b[38;5;167;01mConnectionError\u001b[39;00m:\n\u001b[32m   1376\u001b[39m         \u001b[38;5;28mself\u001b[39m.close()\n",
      "\u001b[36mFile \u001b[39m\u001b[32m/usr/lib/python3.11/http/client.py:318\u001b[39m, in \u001b[36mHTTPResponse.begin\u001b[39m\u001b[34m(self)\u001b[39m\n\u001b[32m    316\u001b[39m \u001b[38;5;66;03m# read until we get a non-100 response\u001b[39;00m\n\u001b[32m    317\u001b[39m \u001b[38;5;28;01mwhile\u001b[39;00m \u001b[38;5;28;01mTrue\u001b[39;00m:\n\u001b[32m--> \u001b[39m\u001b[32m318\u001b[39m     version, status, reason = \u001b[38;5;28;43mself\u001b[39;49m\u001b[43m.\u001b[49m\u001b[43m_read_status\u001b[49m\u001b[43m(\u001b[49m\u001b[43m)\u001b[49m\n\u001b[32m    319\u001b[39m     \u001b[38;5;28;01mif\u001b[39;00m status != CONTINUE:\n\u001b[32m    320\u001b[39m         \u001b[38;5;28;01mbreak\u001b[39;00m\n",
      "\u001b[36mFile \u001b[39m\u001b[32m/usr/lib/python3.11/http/client.py:279\u001b[39m, in \u001b[36mHTTPResponse._read_status\u001b[39m\u001b[34m(self)\u001b[39m\n\u001b[32m    278\u001b[39m \u001b[38;5;28;01mdef\u001b[39;00m\u001b[38;5;250m \u001b[39m\u001b[34m_read_status\u001b[39m(\u001b[38;5;28mself\u001b[39m):\n\u001b[32m--> \u001b[39m\u001b[32m279\u001b[39m     line = \u001b[38;5;28mstr\u001b[39m(\u001b[38;5;28mself\u001b[39m.fp.readline(_MAXLINE + \u001b[32m1\u001b[39m), \u001b[33m\"\u001b[39m\u001b[33miso-8859-1\u001b[39m\u001b[33m\"\u001b[39m)\n\u001b[32m    280\u001b[39m     \u001b[38;5;28;01mif\u001b[39;00m \u001b[38;5;28mlen\u001b[39m(line) > _MAXLINE:\n\u001b[32m    281\u001b[39m         \u001b[38;5;28;01mraise\u001b[39;00m LineTooLong(\u001b[33m\"\u001b[39m\u001b[33mstatus line\u001b[39m\u001b[33m\"\u001b[39m)\n",
      "\u001b[36mFile \u001b[39m\u001b[32m/usr/lib/python3.11/socket.py:706\u001b[39m, in \u001b[36mSocketIO.readinto\u001b[39m\u001b[34m(self, b)\u001b[39m\n\u001b[32m    704\u001b[39m \u001b[38;5;28;01mwhile\u001b[39;00m \u001b[38;5;28;01mTrue\u001b[39;00m:\n\u001b[32m    705\u001b[39m     \u001b[38;5;28;01mtry\u001b[39;00m:\n\u001b[32m--> \u001b[39m\u001b[32m706\u001b[39m         \u001b[38;5;28;01mreturn\u001b[39;00m \u001b[38;5;28;43mself\u001b[39;49m\u001b[43m.\u001b[49m\u001b[43m_sock\u001b[49m\u001b[43m.\u001b[49m\u001b[43mrecv_into\u001b[49m\u001b[43m(\u001b[49m\u001b[43mb\u001b[49m\u001b[43m)\u001b[49m\n\u001b[32m    707\u001b[39m     \u001b[38;5;28;01mexcept\u001b[39;00m timeout:\n\u001b[32m    708\u001b[39m         \u001b[38;5;28mself\u001b[39m._timeout_occurred = \u001b[38;5;28;01mTrue\u001b[39;00m\n",
      "\u001b[31mKeyboardInterrupt\u001b[39m: "
     ]
    }
   ],
   "source": [
    "solve(\"Lemma test: forall (x y z : nat), x = y -> y = z -> x = z.\")"
   ]
  },
  {
   "cell_type": "code",
   "execution_count": 44,
   "id": "f447127d-32c0-4065-a052-e948725fb9a6",
   "metadata": {},
   "outputs": [
    {
     "data": {
      "text/plain": [
       "'((Answer 0 Ack)\\n(Answer 0(Added 2((fname ToplevelInput)(line_nb 1)(bol_pos 0)(line_nb_last 1)(bol_pos_last 0)(bp 0)(ep 36))NewAddTip))\\n(Answer 0 Completed)\\n)'"
      ]
     },
     "execution_count": 44,
     "metadata": {},
     "output_type": "execute_result"
    }
   ],
   "source": [
    "proc = subprocess.Popen(\n",
    "    [\"sertop\"],\n",
    "    stdin=subprocess.PIPE, stdout=subprocess.PIPE, stderr=subprocess.PIPE, text=True\n",
    ")\n",
    "line = proc.stdout.readline()\n",
    "while \"(contents Processed)\" not in line:\n",
    "    line = proc.stdout.readline()\n",
    "\n",
    "Add(proc, \"Lemma test: forall (x y : nat), x = y -> y = x.\")"
   ]
  },
  {
   "cell_type": "code",
   "execution_count": 46,
   "id": "a8201fdb-80d2-4f4e-a740-106311234607",
   "metadata": {},
   "outputs": [
    {
     "data": {
      "text/plain": [
       "'((Answer 2 Ack)\\n(Answer 2(Added 4((fname ToplevelInput)(line_nb 1)(bol_pos 0)(line_nb_last 1)(bol_pos_last 0)(bp 0)(ep 6))NewAddTip))\\n(Answer 2 Completed)\\n)'"
      ]
     },
     "execution_count": 46,
     "metadata": {},
     "output_type": "execute_result"
    }
   ],
   "source": [
    "Add(proc, \"Proof.\")"
   ]
  },
  {
   "cell_type": "code",
   "execution_count": 13,
   "id": "b8f38e6f-4fb4-4f3e-92a0-aff0d134bea0",
   "metadata": {},
   "outputs": [
    {
     "data": {
      "text/plain": [
       "'((Answer 40 Ack)\\n(Answer 40(Added 5((fname ToplevelInput)(line_nb 1)(bol_pos 0)(line_nb_last 1)(bol_pos_last 0)(bp 0)(ep 9))NewAddTip))\\n(Answer 40 Completed)\\n)'"
      ]
     },
     "execution_count": 13,
     "metadata": {},
     "output_type": "execute_result"
    }
   ],
   "source": [
    "Add(proc, \"intros x y H; rewrite H.\")"
   ]
  },
  {
   "cell_type": "code",
   "execution_count": 5,
   "id": "bfa41102-eb9d-4119-b37d-9071f7f6c8a8",
   "metadata": {},
   "outputs": [
    {
     "data": {
      "text/plain": [
       "'((Answer 2 Ack)\\n(Answer 2(Added 5((fname ToplevelInput)(line_nb 1)(bol_pos 0)(line_nb_last 1)(bol_pos_last 0)(bp 0)(ep 5))NewAddTip))\\n(Answer 2 Completed)\\n)'"
      ]
     },
     "execution_count": 5,
     "metadata": {},
     "output_type": "execute_result"
    }
   ],
   "source": [
    "Add(proc, \"auto.\")"
   ]
  },
  {
   "cell_type": "code",
   "execution_count": 10,
   "id": "55d5a543-77d7-48cc-afce-366072f0e5a8",
   "metadata": {},
   "outputs": [
    {
     "name": "stdout",
     "output_type": "stream",
     "text": [
      "((Answer 27 Ack)\n",
      "(Feedback((doc_id 0)(span_id 3)(route 0)(contents Processed)))\n",
      "(Answer 27(Canceled(4)))\n",
      "(Answer 27 Completed)\n",
      ")\n"
     ]
    }
   ],
   "source": [
    "print(Cancel(proc, 4))"
   ]
  },
  {
   "cell_type": "code",
   "execution_count": 47,
   "id": "20c192f4-ca52-42ae-ae1f-d15bb55f4881",
   "metadata": {},
   "outputs": [
    {
     "name": "stdout",
     "output_type": "stream",
     "text": [
      "((Answer 3 Ack)\n",
      "(Feedback((doc_id 0)(span_id 1)(route 0)(contents Processed)))\n",
      "(Answer 3 Completed)\n",
      ") \n",
      "\n",
      "((Answer 4 Ack)\n",
      "(Feedback((doc_id 0)(span_id 2)(route 0)(contents(ProcessingIn master))))\n",
      "(Feedback((doc_id 0)(span_id 1)(route 0)(contents Processed)))\n",
      "(Feedback((doc_id 0)(span_id 2)(route 0)(contents Processed)))\n",
      "(Answer 4 Completed)\n",
      ") \n",
      "\n",
      "((Answer 5 Ack)\n",
      "(Feedback((doc_id 0)(span_id 3)(route 0)(contents(ProcessingIn master))))\n",
      "(Feedback((doc_id 0)(span_id 2)(route 0)(contents Processed)))\n",
      "(Feedback((doc_id 0)(span_id 3)(route 0)(contents Processed)))\n",
      "(Answer 5 Completed)\n",
      ") \n",
      "\n",
      "((Answer 6 Ack)\n",
      "(Feedback((doc_id 0)(span_id 4)(route 0)(contents(ProcessingIn master))))\n",
      "(Feedback((doc_id 0)(span_id 3)(route 0)(contents Processed)))\n",
      "(Feedback((doc_id 0)(span_id 4)(route 0)(contents Processed)))\n",
      "(Answer 6 Completed)\n",
      ") \n",
      "\n",
      "((Answer 7 Ack)\n",
      "(Answer 7(CoqExn((loc())(stm_ids())(backtrace(Backtrace()))(exn(Stm.Vcs_aux.Expired))(pp(Pp_glue((Pp_box(Pp_hovbox 0)(Pp_glue((Pp_string Anomaly)(Pp_print_break 1 0)(Pp_box Pp_hbox(Pp_glue((Pp_glue((Pp_string\"\\\"\")(Pp_string\"Uncaught exception \")(Pp_string Stm.Vcs_aux.Expired)(Pp_string .)))(Pp_string\"\\\"\")))))))(Pp_print_break 1 0)(Pp_box(Pp_hovbox 0)(Pp_glue((Pp_string\"Please report at \")(Pp_string http://coq.inria.fr/bugs/)(Pp_string .)))))))(str\"Anomaly \\\"Uncaught exception Stm.Vcs_aux.Expired.\\\"\\nPlease report at http://coq.inria.fr/bugs/.\"))))\n",
      "(Answer 7 Completed)\n",
      ") \n",
      "\n",
      "((Answer 8 Ack)\n",
      "(Answer 8(CoqExn((loc())(stm_ids())(backtrace(Backtrace()))(exn(Stm.Vcs_aux.Expired))(pp(Pp_glue((Pp_box(Pp_hovbox 0)(Pp_glue((Pp_string Anomaly)(Pp_print_break 1 0)(Pp_box Pp_hbox(Pp_glue((Pp_glue((Pp_string\"\\\"\")(Pp_string\"Uncaught exception \")(Pp_string Stm.Vcs_aux.Expired)(Pp_string .)))(Pp_string\"\\\"\")))))))(Pp_print_break 1 0)(Pp_box(Pp_hovbox 0)(Pp_glue((Pp_string\"Please report at \")(Pp_string http://coq.inria.fr/bugs/)(Pp_string .)))))))(str\"Anomaly \\\"Uncaught exception Stm.Vcs_aux.Expired.\\\"\\nPlease report at http://coq.inria.fr/bugs/.\"))))\n",
      "(Answer 8 Completed)\n",
      ") \n",
      "\n"
     ]
    }
   ],
   "source": [
    "for i in range(1, 7):\n",
    "    print(Exec(proc, i), \"\\n\")"
   ]
  },
  {
   "cell_type": "code",
   "execution_count": 15,
   "id": "4be41f00-b48e-4a97-bd7a-9deb351ad049",
   "metadata": {},
   "outputs": [
    {
     "name": "stdout",
     "output_type": "stream",
     "text": [
      "((Answer 47 Ack)\n",
      "(Answer 47(ObjList()))\n",
      "(Answer 47 Completed)\n",
      ") \n",
      "\n",
      "((Answer 48 Ack)\n",
      "(Answer 48(ObjList((CoqString\"none\\n============================\\nforall x : nat, x = x\"))))\n",
      "(Answer 48 Completed)\n",
      ") \n",
      "\n",
      "((Answer 49 Ack)\n",
      "(Answer 49(ObjList((CoqString\"none\\n============================\\nforall x : nat, x = x\"))))\n",
      "(Answer 49 Completed)\n",
      ") \n",
      "\n",
      "((Answer 50 Ack)\n",
      "(Answer 50(ObjList()))\n",
      "(Answer 50 Completed)\n",
      ") \n",
      "\n",
      "((Answer 51 Ack)\n",
      "(Answer 51(ObjList((CoqString\"\\n  x : nat\\n============================\\nx = x\"))))\n",
      "(Answer 51 Completed)\n",
      ") \n",
      "\n",
      "((Answer 52 Ack)\n",
      "(Answer 52(ObjList()))\n",
      "(Answer 52 Completed)\n",
      ") \n",
      "\n"
     ]
    }
   ],
   "source": [
    "for i in range(1, 7):\n",
    "    print(Query(proc, i), \"\\n\")"
   ]
  },
  {
   "cell_type": "code",
   "execution_count": 69,
   "id": "b32f0377-a2c1-4d71-b372-49bc568b1ab5",
   "metadata": {},
   "outputs": [
    {
     "name": "stdout",
     "output_type": "stream",
     "text": [
      "234"
     ]
    }
   ],
   "source": [
    "i = 1\n",
    "while \"eror\" not in Exec(i) and \"CoqExn\" not in Exec(i):\n",
    "    i += 1\n",
    "    print(i, end=\"\")"
   ]
  },
  {
   "cell_type": "code",
   "execution_count": null,
   "id": "4acb7590-0459-4110-adc3-31830d97c1b7",
   "metadata": {},
   "outputs": [],
   "source": []
  }
 ],
 "metadata": {
  "kernelspec": {
   "display_name": "Python 3 (ipykernel)",
   "language": "python",
   "name": "python3"
  },
  "language_info": {
   "codemirror_mode": {
    "name": "ipython",
    "version": 3
   },
   "file_extension": ".py",
   "mimetype": "text/x-python",
   "name": "python",
   "nbconvert_exporter": "python",
   "pygments_lexer": "ipython3",
   "version": "3.11.2"
  }
 },
 "nbformat": 4,
 "nbformat_minor": 5
}
