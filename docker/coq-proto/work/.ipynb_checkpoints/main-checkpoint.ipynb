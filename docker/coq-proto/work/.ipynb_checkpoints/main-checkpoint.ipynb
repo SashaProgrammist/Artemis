{
 "cells": [
  {
   "cell_type": "code",
   "execution_count": 1,
   "id": "ac6c25d9-20fa-439e-838a-1ba6bbfb863b",
   "metadata": {},
   "outputs": [
    {
     "name": "stdout",
     "output_type": "stream",
     "text": [
      "hellow world\n"
     ]
    }
   ],
   "source": [
    "print(\"hellow world\")\n",
    "\n",
    "import requests"
   ]
  },
  {
   "cell_type": "code",
   "execution_count": 2,
   "id": "a8b73923-6558-4a69-ad00-3c5589d1a896",
   "metadata": {},
   "outputs": [],
   "source": [
    "url = \"http://host.docker.internal:11434/api/generate\"\n",
    "payload = {\n",
    "    \"model\": \"llama3:8b\",       # замените на нужную модель\n",
    "    \"prompt\": \"Напиши очень при очень краткое резюме по теме 'формальная верификация' на русском языке\",\n",
    "    \"stream\": False\n",
    "}"
   ]
  },
  {
   "cell_type": "code",
   "execution_count": 3,
   "id": "339831ec-12b7-418b-b2dd-d5a2d7a966ff",
   "metadata": {},
   "outputs": [
    {
     "ename": "ReadTimeout",
     "evalue": "HTTPConnectionPool(host='host.docker.internal', port=11434): Read timed out. (read timeout=120)",
     "output_type": "error",
     "traceback": [
      "\u001b[31m---------------------------------------------------------------------------\u001b[39m",
      "\u001b[31mTimeoutError\u001b[39m                              Traceback (most recent call last)",
      "\u001b[36mFile \u001b[39m\u001b[32m/opt/venv/lib/python3.11/site-packages/urllib3/connectionpool.py:534\u001b[39m, in \u001b[36mHTTPConnectionPool._make_request\u001b[39m\u001b[34m(self, conn, method, url, body, headers, retries, timeout, chunked, response_conn, preload_content, decode_content, enforce_content_length)\u001b[39m\n\u001b[32m    533\u001b[39m \u001b[38;5;28;01mtry\u001b[39;00m:\n\u001b[32m--> \u001b[39m\u001b[32m534\u001b[39m     response = \u001b[43mconn\u001b[49m\u001b[43m.\u001b[49m\u001b[43mgetresponse\u001b[49m\u001b[43m(\u001b[49m\u001b[43m)\u001b[49m\n\u001b[32m    535\u001b[39m \u001b[38;5;28;01mexcept\u001b[39;00m (BaseSSLError, \u001b[38;5;167;01mOSError\u001b[39;00m) \u001b[38;5;28;01mas\u001b[39;00m e:\n",
      "\u001b[36mFile \u001b[39m\u001b[32m/opt/venv/lib/python3.11/site-packages/urllib3/connection.py:565\u001b[39m, in \u001b[36mHTTPConnection.getresponse\u001b[39m\u001b[34m(self)\u001b[39m\n\u001b[32m    564\u001b[39m \u001b[38;5;66;03m# Get the response from http.client.HTTPConnection\u001b[39;00m\n\u001b[32m--> \u001b[39m\u001b[32m565\u001b[39m httplib_response = \u001b[38;5;28;43msuper\u001b[39;49m\u001b[43m(\u001b[49m\u001b[43m)\u001b[49m\u001b[43m.\u001b[49m\u001b[43mgetresponse\u001b[49m\u001b[43m(\u001b[49m\u001b[43m)\u001b[49m\n\u001b[32m    567\u001b[39m \u001b[38;5;28;01mtry\u001b[39;00m:\n",
      "\u001b[36mFile \u001b[39m\u001b[32m/usr/lib/python3.11/http/client.py:1374\u001b[39m, in \u001b[36mHTTPConnection.getresponse\u001b[39m\u001b[34m(self)\u001b[39m\n\u001b[32m   1373\u001b[39m \u001b[38;5;28;01mtry\u001b[39;00m:\n\u001b[32m-> \u001b[39m\u001b[32m1374\u001b[39m     \u001b[43mresponse\u001b[49m\u001b[43m.\u001b[49m\u001b[43mbegin\u001b[49m\u001b[43m(\u001b[49m\u001b[43m)\u001b[49m\n\u001b[32m   1375\u001b[39m \u001b[38;5;28;01mexcept\u001b[39;00m \u001b[38;5;167;01mConnectionError\u001b[39;00m:\n",
      "\u001b[36mFile \u001b[39m\u001b[32m/usr/lib/python3.11/http/client.py:318\u001b[39m, in \u001b[36mHTTPResponse.begin\u001b[39m\u001b[34m(self)\u001b[39m\n\u001b[32m    317\u001b[39m \u001b[38;5;28;01mwhile\u001b[39;00m \u001b[38;5;28;01mTrue\u001b[39;00m:\n\u001b[32m--> \u001b[39m\u001b[32m318\u001b[39m     version, status, reason = \u001b[38;5;28;43mself\u001b[39;49m\u001b[43m.\u001b[49m\u001b[43m_read_status\u001b[49m\u001b[43m(\u001b[49m\u001b[43m)\u001b[49m\n\u001b[32m    319\u001b[39m     \u001b[38;5;28;01mif\u001b[39;00m status != CONTINUE:\n",
      "\u001b[36mFile \u001b[39m\u001b[32m/usr/lib/python3.11/http/client.py:279\u001b[39m, in \u001b[36mHTTPResponse._read_status\u001b[39m\u001b[34m(self)\u001b[39m\n\u001b[32m    278\u001b[39m \u001b[38;5;28;01mdef\u001b[39;00m\u001b[38;5;250m \u001b[39m\u001b[34m_read_status\u001b[39m(\u001b[38;5;28mself\u001b[39m):\n\u001b[32m--> \u001b[39m\u001b[32m279\u001b[39m     line = \u001b[38;5;28mstr\u001b[39m(\u001b[38;5;28;43mself\u001b[39;49m\u001b[43m.\u001b[49m\u001b[43mfp\u001b[49m\u001b[43m.\u001b[49m\u001b[43mreadline\u001b[49m\u001b[43m(\u001b[49m\u001b[43m_MAXLINE\u001b[49m\u001b[43m \u001b[49m\u001b[43m+\u001b[49m\u001b[43m \u001b[49m\u001b[32;43m1\u001b[39;49m\u001b[43m)\u001b[49m, \u001b[33m\"\u001b[39m\u001b[33miso-8859-1\u001b[39m\u001b[33m\"\u001b[39m)\n\u001b[32m    280\u001b[39m     \u001b[38;5;28;01mif\u001b[39;00m \u001b[38;5;28mlen\u001b[39m(line) > _MAXLINE:\n",
      "\u001b[36mFile \u001b[39m\u001b[32m/usr/lib/python3.11/socket.py:706\u001b[39m, in \u001b[36mSocketIO.readinto\u001b[39m\u001b[34m(self, b)\u001b[39m\n\u001b[32m    705\u001b[39m \u001b[38;5;28;01mtry\u001b[39;00m:\n\u001b[32m--> \u001b[39m\u001b[32m706\u001b[39m     \u001b[38;5;28;01mreturn\u001b[39;00m \u001b[38;5;28;43mself\u001b[39;49m\u001b[43m.\u001b[49m\u001b[43m_sock\u001b[49m\u001b[43m.\u001b[49m\u001b[43mrecv_into\u001b[49m\u001b[43m(\u001b[49m\u001b[43mb\u001b[49m\u001b[43m)\u001b[49m\n\u001b[32m    707\u001b[39m \u001b[38;5;28;01mexcept\u001b[39;00m timeout:\n",
      "\u001b[31mTimeoutError\u001b[39m: timed out",
      "\nThe above exception was the direct cause of the following exception:\n",
      "\u001b[31mReadTimeoutError\u001b[39m                          Traceback (most recent call last)",
      "\u001b[36mFile \u001b[39m\u001b[32m/opt/venv/lib/python3.11/site-packages/requests/adapters.py:644\u001b[39m, in \u001b[36mHTTPAdapter.send\u001b[39m\u001b[34m(self, request, stream, timeout, verify, cert, proxies)\u001b[39m\n\u001b[32m    643\u001b[39m \u001b[38;5;28;01mtry\u001b[39;00m:\n\u001b[32m--> \u001b[39m\u001b[32m644\u001b[39m     resp = \u001b[43mconn\u001b[49m\u001b[43m.\u001b[49m\u001b[43murlopen\u001b[49m\u001b[43m(\u001b[49m\n\u001b[32m    645\u001b[39m \u001b[43m        \u001b[49m\u001b[43mmethod\u001b[49m\u001b[43m=\u001b[49m\u001b[43mrequest\u001b[49m\u001b[43m.\u001b[49m\u001b[43mmethod\u001b[49m\u001b[43m,\u001b[49m\n\u001b[32m    646\u001b[39m \u001b[43m        \u001b[49m\u001b[43murl\u001b[49m\u001b[43m=\u001b[49m\u001b[43murl\u001b[49m\u001b[43m,\u001b[49m\n\u001b[32m    647\u001b[39m \u001b[43m        \u001b[49m\u001b[43mbody\u001b[49m\u001b[43m=\u001b[49m\u001b[43mrequest\u001b[49m\u001b[43m.\u001b[49m\u001b[43mbody\u001b[49m\u001b[43m,\u001b[49m\n\u001b[32m    648\u001b[39m \u001b[43m        \u001b[49m\u001b[43mheaders\u001b[49m\u001b[43m=\u001b[49m\u001b[43mrequest\u001b[49m\u001b[43m.\u001b[49m\u001b[43mheaders\u001b[49m\u001b[43m,\u001b[49m\n\u001b[32m    649\u001b[39m \u001b[43m        \u001b[49m\u001b[43mredirect\u001b[49m\u001b[43m=\u001b[49m\u001b[38;5;28;43;01mFalse\u001b[39;49;00m\u001b[43m,\u001b[49m\n\u001b[32m    650\u001b[39m \u001b[43m        \u001b[49m\u001b[43massert_same_host\u001b[49m\u001b[43m=\u001b[49m\u001b[38;5;28;43;01mFalse\u001b[39;49;00m\u001b[43m,\u001b[49m\n\u001b[32m    651\u001b[39m \u001b[43m        \u001b[49m\u001b[43mpreload_content\u001b[49m\u001b[43m=\u001b[49m\u001b[38;5;28;43;01mFalse\u001b[39;49;00m\u001b[43m,\u001b[49m\n\u001b[32m    652\u001b[39m \u001b[43m        \u001b[49m\u001b[43mdecode_content\u001b[49m\u001b[43m=\u001b[49m\u001b[38;5;28;43;01mFalse\u001b[39;49;00m\u001b[43m,\u001b[49m\n\u001b[32m    653\u001b[39m \u001b[43m        \u001b[49m\u001b[43mretries\u001b[49m\u001b[43m=\u001b[49m\u001b[38;5;28;43mself\u001b[39;49m\u001b[43m.\u001b[49m\u001b[43mmax_retries\u001b[49m\u001b[43m,\u001b[49m\n\u001b[32m    654\u001b[39m \u001b[43m        \u001b[49m\u001b[43mtimeout\u001b[49m\u001b[43m=\u001b[49m\u001b[43mtimeout\u001b[49m\u001b[43m,\u001b[49m\n\u001b[32m    655\u001b[39m \u001b[43m        \u001b[49m\u001b[43mchunked\u001b[49m\u001b[43m=\u001b[49m\u001b[43mchunked\u001b[49m\u001b[43m,\u001b[49m\n\u001b[32m    656\u001b[39m \u001b[43m    \u001b[49m\u001b[43m)\u001b[49m\n\u001b[32m    658\u001b[39m \u001b[38;5;28;01mexcept\u001b[39;00m (ProtocolError, \u001b[38;5;167;01mOSError\u001b[39;00m) \u001b[38;5;28;01mas\u001b[39;00m err:\n",
      "\u001b[36mFile \u001b[39m\u001b[32m/opt/venv/lib/python3.11/site-packages/urllib3/connectionpool.py:841\u001b[39m, in \u001b[36mHTTPConnectionPool.urlopen\u001b[39m\u001b[34m(self, method, url, body, headers, retries, redirect, assert_same_host, timeout, pool_timeout, release_conn, chunked, body_pos, preload_content, decode_content, **response_kw)\u001b[39m\n\u001b[32m    839\u001b[39m     new_e = ProtocolError(\u001b[33m\"\u001b[39m\u001b[33mConnection aborted.\u001b[39m\u001b[33m\"\u001b[39m, new_e)\n\u001b[32m--> \u001b[39m\u001b[32m841\u001b[39m retries = \u001b[43mretries\u001b[49m\u001b[43m.\u001b[49m\u001b[43mincrement\u001b[49m\u001b[43m(\u001b[49m\n\u001b[32m    842\u001b[39m \u001b[43m    \u001b[49m\u001b[43mmethod\u001b[49m\u001b[43m,\u001b[49m\u001b[43m \u001b[49m\u001b[43murl\u001b[49m\u001b[43m,\u001b[49m\u001b[43m \u001b[49m\u001b[43merror\u001b[49m\u001b[43m=\u001b[49m\u001b[43mnew_e\u001b[49m\u001b[43m,\u001b[49m\u001b[43m \u001b[49m\u001b[43m_pool\u001b[49m\u001b[43m=\u001b[49m\u001b[38;5;28;43mself\u001b[39;49m\u001b[43m,\u001b[49m\u001b[43m \u001b[49m\u001b[43m_stacktrace\u001b[49m\u001b[43m=\u001b[49m\u001b[43msys\u001b[49m\u001b[43m.\u001b[49m\u001b[43mexc_info\u001b[49m\u001b[43m(\u001b[49m\u001b[43m)\u001b[49m\u001b[43m[\u001b[49m\u001b[32;43m2\u001b[39;49m\u001b[43m]\u001b[49m\n\u001b[32m    843\u001b[39m \u001b[43m\u001b[49m\u001b[43m)\u001b[49m\n\u001b[32m    844\u001b[39m retries.sleep()\n",
      "\u001b[36mFile \u001b[39m\u001b[32m/opt/venv/lib/python3.11/site-packages/urllib3/util/retry.py:474\u001b[39m, in \u001b[36mRetry.increment\u001b[39m\u001b[34m(self, method, url, response, error, _pool, _stacktrace)\u001b[39m\n\u001b[32m    473\u001b[39m \u001b[38;5;28;01mif\u001b[39;00m read \u001b[38;5;129;01mis\u001b[39;00m \u001b[38;5;28;01mFalse\u001b[39;00m \u001b[38;5;129;01mor\u001b[39;00m method \u001b[38;5;129;01mis\u001b[39;00m \u001b[38;5;28;01mNone\u001b[39;00m \u001b[38;5;129;01mor\u001b[39;00m \u001b[38;5;129;01mnot\u001b[39;00m \u001b[38;5;28mself\u001b[39m._is_method_retryable(method):\n\u001b[32m--> \u001b[39m\u001b[32m474\u001b[39m     \u001b[38;5;28;01mraise\u001b[39;00m \u001b[43mreraise\u001b[49m\u001b[43m(\u001b[49m\u001b[38;5;28;43mtype\u001b[39;49m\u001b[43m(\u001b[49m\u001b[43merror\u001b[49m\u001b[43m)\u001b[49m\u001b[43m,\u001b[49m\u001b[43m \u001b[49m\u001b[43merror\u001b[49m\u001b[43m,\u001b[49m\u001b[43m \u001b[49m\u001b[43m_stacktrace\u001b[49m\u001b[43m)\u001b[49m\n\u001b[32m    475\u001b[39m \u001b[38;5;28;01melif\u001b[39;00m read \u001b[38;5;129;01mis\u001b[39;00m \u001b[38;5;129;01mnot\u001b[39;00m \u001b[38;5;28;01mNone\u001b[39;00m:\n",
      "\u001b[36mFile \u001b[39m\u001b[32m/opt/venv/lib/python3.11/site-packages/urllib3/util/util.py:39\u001b[39m, in \u001b[36mreraise\u001b[39m\u001b[34m(tp, value, tb)\u001b[39m\n\u001b[32m     38\u001b[39m         \u001b[38;5;28;01mraise\u001b[39;00m value.with_traceback(tb)\n\u001b[32m---> \u001b[39m\u001b[32m39\u001b[39m     \u001b[38;5;28;01mraise\u001b[39;00m value\n\u001b[32m     40\u001b[39m \u001b[38;5;28;01mfinally\u001b[39;00m:\n",
      "\u001b[36mFile \u001b[39m\u001b[32m/opt/venv/lib/python3.11/site-packages/urllib3/connectionpool.py:787\u001b[39m, in \u001b[36mHTTPConnectionPool.urlopen\u001b[39m\u001b[34m(self, method, url, body, headers, retries, redirect, assert_same_host, timeout, pool_timeout, release_conn, chunked, body_pos, preload_content, decode_content, **response_kw)\u001b[39m\n\u001b[32m    786\u001b[39m \u001b[38;5;66;03m# Make the request on the HTTPConnection object\u001b[39;00m\n\u001b[32m--> \u001b[39m\u001b[32m787\u001b[39m response = \u001b[38;5;28;43mself\u001b[39;49m\u001b[43m.\u001b[49m\u001b[43m_make_request\u001b[49m\u001b[43m(\u001b[49m\n\u001b[32m    788\u001b[39m \u001b[43m    \u001b[49m\u001b[43mconn\u001b[49m\u001b[43m,\u001b[49m\n\u001b[32m    789\u001b[39m \u001b[43m    \u001b[49m\u001b[43mmethod\u001b[49m\u001b[43m,\u001b[49m\n\u001b[32m    790\u001b[39m \u001b[43m    \u001b[49m\u001b[43murl\u001b[49m\u001b[43m,\u001b[49m\n\u001b[32m    791\u001b[39m \u001b[43m    \u001b[49m\u001b[43mtimeout\u001b[49m\u001b[43m=\u001b[49m\u001b[43mtimeout_obj\u001b[49m\u001b[43m,\u001b[49m\n\u001b[32m    792\u001b[39m \u001b[43m    \u001b[49m\u001b[43mbody\u001b[49m\u001b[43m=\u001b[49m\u001b[43mbody\u001b[49m\u001b[43m,\u001b[49m\n\u001b[32m    793\u001b[39m \u001b[43m    \u001b[49m\u001b[43mheaders\u001b[49m\u001b[43m=\u001b[49m\u001b[43mheaders\u001b[49m\u001b[43m,\u001b[49m\n\u001b[32m    794\u001b[39m \u001b[43m    \u001b[49m\u001b[43mchunked\u001b[49m\u001b[43m=\u001b[49m\u001b[43mchunked\u001b[49m\u001b[43m,\u001b[49m\n\u001b[32m    795\u001b[39m \u001b[43m    \u001b[49m\u001b[43mretries\u001b[49m\u001b[43m=\u001b[49m\u001b[43mretries\u001b[49m\u001b[43m,\u001b[49m\n\u001b[32m    796\u001b[39m \u001b[43m    \u001b[49m\u001b[43mresponse_conn\u001b[49m\u001b[43m=\u001b[49m\u001b[43mresponse_conn\u001b[49m\u001b[43m,\u001b[49m\n\u001b[32m    797\u001b[39m \u001b[43m    \u001b[49m\u001b[43mpreload_content\u001b[49m\u001b[43m=\u001b[49m\u001b[43mpreload_content\u001b[49m\u001b[43m,\u001b[49m\n\u001b[32m    798\u001b[39m \u001b[43m    \u001b[49m\u001b[43mdecode_content\u001b[49m\u001b[43m=\u001b[49m\u001b[43mdecode_content\u001b[49m\u001b[43m,\u001b[49m\n\u001b[32m    799\u001b[39m \u001b[43m    \u001b[49m\u001b[43m*\u001b[49m\u001b[43m*\u001b[49m\u001b[43mresponse_kw\u001b[49m\u001b[43m,\u001b[49m\n\u001b[32m    800\u001b[39m \u001b[43m\u001b[49m\u001b[43m)\u001b[49m\n\u001b[32m    802\u001b[39m \u001b[38;5;66;03m# Everything went great!\u001b[39;00m\n",
      "\u001b[36mFile \u001b[39m\u001b[32m/opt/venv/lib/python3.11/site-packages/urllib3/connectionpool.py:536\u001b[39m, in \u001b[36mHTTPConnectionPool._make_request\u001b[39m\u001b[34m(self, conn, method, url, body, headers, retries, timeout, chunked, response_conn, preload_content, decode_content, enforce_content_length)\u001b[39m\n\u001b[32m    535\u001b[39m \u001b[38;5;28;01mexcept\u001b[39;00m (BaseSSLError, \u001b[38;5;167;01mOSError\u001b[39;00m) \u001b[38;5;28;01mas\u001b[39;00m e:\n\u001b[32m--> \u001b[39m\u001b[32m536\u001b[39m     \u001b[38;5;28;43mself\u001b[39;49m\u001b[43m.\u001b[49m\u001b[43m_raise_timeout\u001b[49m\u001b[43m(\u001b[49m\u001b[43merr\u001b[49m\u001b[43m=\u001b[49m\u001b[43me\u001b[49m\u001b[43m,\u001b[49m\u001b[43m \u001b[49m\u001b[43murl\u001b[49m\u001b[43m=\u001b[49m\u001b[43murl\u001b[49m\u001b[43m,\u001b[49m\u001b[43m \u001b[49m\u001b[43mtimeout_value\u001b[49m\u001b[43m=\u001b[49m\u001b[43mread_timeout\u001b[49m\u001b[43m)\u001b[49m\n\u001b[32m    537\u001b[39m     \u001b[38;5;28;01mraise\u001b[39;00m\n",
      "\u001b[36mFile \u001b[39m\u001b[32m/opt/venv/lib/python3.11/site-packages/urllib3/connectionpool.py:367\u001b[39m, in \u001b[36mHTTPConnectionPool._raise_timeout\u001b[39m\u001b[34m(self, err, url, timeout_value)\u001b[39m\n\u001b[32m    366\u001b[39m \u001b[38;5;28;01mif\u001b[39;00m \u001b[38;5;28misinstance\u001b[39m(err, SocketTimeout):\n\u001b[32m--> \u001b[39m\u001b[32m367\u001b[39m     \u001b[38;5;28;01mraise\u001b[39;00m ReadTimeoutError(\n\u001b[32m    368\u001b[39m         \u001b[38;5;28mself\u001b[39m, url, \u001b[33mf\u001b[39m\u001b[33m\"\u001b[39m\u001b[33mRead timed out. (read timeout=\u001b[39m\u001b[38;5;132;01m{\u001b[39;00mtimeout_value\u001b[38;5;132;01m}\u001b[39;00m\u001b[33m)\u001b[39m\u001b[33m\"\u001b[39m\n\u001b[32m    369\u001b[39m     ) \u001b[38;5;28;01mfrom\u001b[39;00m\u001b[38;5;250m \u001b[39m\u001b[34;01merr\u001b[39;00m\n\u001b[32m    371\u001b[39m \u001b[38;5;66;03m# See the above comment about EAGAIN in Python 3.\u001b[39;00m\n",
      "\u001b[31mReadTimeoutError\u001b[39m: HTTPConnectionPool(host='host.docker.internal', port=11434): Read timed out. (read timeout=120)",
      "\nDuring handling of the above exception, another exception occurred:\n",
      "\u001b[31mReadTimeout\u001b[39m                               Traceback (most recent call last)",
      "\u001b[36mCell\u001b[39m\u001b[36m \u001b[39m\u001b[32mIn[3]\u001b[39m\u001b[32m, line 1\u001b[39m\n\u001b[32m----> \u001b[39m\u001b[32m1\u001b[39m resp = \u001b[43mrequests\u001b[49m\u001b[43m.\u001b[49m\u001b[43mpost\u001b[49m\u001b[43m(\u001b[49m\u001b[43murl\u001b[49m\u001b[43m,\u001b[49m\u001b[43m \u001b[49m\u001b[43mjson\u001b[49m\u001b[43m=\u001b[49m\u001b[43mpayload\u001b[49m\u001b[43m,\u001b[49m\u001b[43m \u001b[49m\u001b[43mtimeout\u001b[49m\u001b[43m=\u001b[49m\u001b[32;43m120\u001b[39;49m\u001b[43m)\u001b[49m\n",
      "\u001b[36mFile \u001b[39m\u001b[32m/opt/venv/lib/python3.11/site-packages/requests/api.py:115\u001b[39m, in \u001b[36mpost\u001b[39m\u001b[34m(url, data, json, **kwargs)\u001b[39m\n\u001b[32m    103\u001b[39m \u001b[38;5;28;01mdef\u001b[39;00m\u001b[38;5;250m \u001b[39m\u001b[34mpost\u001b[39m(url, data=\u001b[38;5;28;01mNone\u001b[39;00m, json=\u001b[38;5;28;01mNone\u001b[39;00m, **kwargs):\n\u001b[32m    104\u001b[39m \u001b[38;5;250m    \u001b[39m\u001b[33mr\u001b[39m\u001b[33;03m\"\"\"Sends a POST request.\u001b[39;00m\n\u001b[32m    105\u001b[39m \n\u001b[32m    106\u001b[39m \u001b[33;03m    :param url: URL for the new :class:`Request` object.\u001b[39;00m\n\u001b[32m   (...)\u001b[39m\u001b[32m    112\u001b[39m \u001b[33;03m    :rtype: requests.Response\u001b[39;00m\n\u001b[32m    113\u001b[39m \u001b[33;03m    \"\"\"\u001b[39;00m\n\u001b[32m--> \u001b[39m\u001b[32m115\u001b[39m     \u001b[38;5;28;01mreturn\u001b[39;00m \u001b[43mrequest\u001b[49m\u001b[43m(\u001b[49m\u001b[33;43m\"\u001b[39;49m\u001b[33;43mpost\u001b[39;49m\u001b[33;43m\"\u001b[39;49m\u001b[43m,\u001b[49m\u001b[43m \u001b[49m\u001b[43murl\u001b[49m\u001b[43m,\u001b[49m\u001b[43m \u001b[49m\u001b[43mdata\u001b[49m\u001b[43m=\u001b[49m\u001b[43mdata\u001b[49m\u001b[43m,\u001b[49m\u001b[43m \u001b[49m\u001b[43mjson\u001b[49m\u001b[43m=\u001b[49m\u001b[43mjson\u001b[49m\u001b[43m,\u001b[49m\u001b[43m \u001b[49m\u001b[43m*\u001b[49m\u001b[43m*\u001b[49m\u001b[43mkwargs\u001b[49m\u001b[43m)\u001b[49m\n",
      "\u001b[36mFile \u001b[39m\u001b[32m/opt/venv/lib/python3.11/site-packages/requests/api.py:59\u001b[39m, in \u001b[36mrequest\u001b[39m\u001b[34m(method, url, **kwargs)\u001b[39m\n\u001b[32m     55\u001b[39m \u001b[38;5;66;03m# By using the 'with' statement we are sure the session is closed, thus we\u001b[39;00m\n\u001b[32m     56\u001b[39m \u001b[38;5;66;03m# avoid leaving sockets open which can trigger a ResourceWarning in some\u001b[39;00m\n\u001b[32m     57\u001b[39m \u001b[38;5;66;03m# cases, and look like a memory leak in others.\u001b[39;00m\n\u001b[32m     58\u001b[39m \u001b[38;5;28;01mwith\u001b[39;00m sessions.Session() \u001b[38;5;28;01mas\u001b[39;00m session:\n\u001b[32m---> \u001b[39m\u001b[32m59\u001b[39m     \u001b[38;5;28;01mreturn\u001b[39;00m \u001b[43msession\u001b[49m\u001b[43m.\u001b[49m\u001b[43mrequest\u001b[49m\u001b[43m(\u001b[49m\u001b[43mmethod\u001b[49m\u001b[43m=\u001b[49m\u001b[43mmethod\u001b[49m\u001b[43m,\u001b[49m\u001b[43m \u001b[49m\u001b[43murl\u001b[49m\u001b[43m=\u001b[49m\u001b[43murl\u001b[49m\u001b[43m,\u001b[49m\u001b[43m \u001b[49m\u001b[43m*\u001b[49m\u001b[43m*\u001b[49m\u001b[43mkwargs\u001b[49m\u001b[43m)\u001b[49m\n",
      "\u001b[36mFile \u001b[39m\u001b[32m/opt/venv/lib/python3.11/site-packages/requests/sessions.py:589\u001b[39m, in \u001b[36mSession.request\u001b[39m\u001b[34m(self, method, url, params, data, headers, cookies, files, auth, timeout, allow_redirects, proxies, hooks, stream, verify, cert, json)\u001b[39m\n\u001b[32m    584\u001b[39m send_kwargs = {\n\u001b[32m    585\u001b[39m     \u001b[33m\"\u001b[39m\u001b[33mtimeout\u001b[39m\u001b[33m\"\u001b[39m: timeout,\n\u001b[32m    586\u001b[39m     \u001b[33m\"\u001b[39m\u001b[33mallow_redirects\u001b[39m\u001b[33m\"\u001b[39m: allow_redirects,\n\u001b[32m    587\u001b[39m }\n\u001b[32m    588\u001b[39m send_kwargs.update(settings)\n\u001b[32m--> \u001b[39m\u001b[32m589\u001b[39m resp = \u001b[38;5;28;43mself\u001b[39;49m\u001b[43m.\u001b[49m\u001b[43msend\u001b[49m\u001b[43m(\u001b[49m\u001b[43mprep\u001b[49m\u001b[43m,\u001b[49m\u001b[43m \u001b[49m\u001b[43m*\u001b[49m\u001b[43m*\u001b[49m\u001b[43msend_kwargs\u001b[49m\u001b[43m)\u001b[49m\n\u001b[32m    591\u001b[39m \u001b[38;5;28;01mreturn\u001b[39;00m resp\n",
      "\u001b[36mFile \u001b[39m\u001b[32m/opt/venv/lib/python3.11/site-packages/requests/sessions.py:703\u001b[39m, in \u001b[36mSession.send\u001b[39m\u001b[34m(self, request, **kwargs)\u001b[39m\n\u001b[32m    700\u001b[39m start = preferred_clock()\n\u001b[32m    702\u001b[39m \u001b[38;5;66;03m# Send the request\u001b[39;00m\n\u001b[32m--> \u001b[39m\u001b[32m703\u001b[39m r = \u001b[43madapter\u001b[49m\u001b[43m.\u001b[49m\u001b[43msend\u001b[49m\u001b[43m(\u001b[49m\u001b[43mrequest\u001b[49m\u001b[43m,\u001b[49m\u001b[43m \u001b[49m\u001b[43m*\u001b[49m\u001b[43m*\u001b[49m\u001b[43mkwargs\u001b[49m\u001b[43m)\u001b[49m\n\u001b[32m    705\u001b[39m \u001b[38;5;66;03m# Total elapsed time of the request (approximately)\u001b[39;00m\n\u001b[32m    706\u001b[39m elapsed = preferred_clock() - start\n",
      "\u001b[36mFile \u001b[39m\u001b[32m/opt/venv/lib/python3.11/site-packages/requests/adapters.py:690\u001b[39m, in \u001b[36mHTTPAdapter.send\u001b[39m\u001b[34m(self, request, stream, timeout, verify, cert, proxies)\u001b[39m\n\u001b[32m    688\u001b[39m     \u001b[38;5;28;01mraise\u001b[39;00m SSLError(e, request=request)\n\u001b[32m    689\u001b[39m \u001b[38;5;28;01melif\u001b[39;00m \u001b[38;5;28misinstance\u001b[39m(e, ReadTimeoutError):\n\u001b[32m--> \u001b[39m\u001b[32m690\u001b[39m     \u001b[38;5;28;01mraise\u001b[39;00m ReadTimeout(e, request=request)\n\u001b[32m    691\u001b[39m \u001b[38;5;28;01melif\u001b[39;00m \u001b[38;5;28misinstance\u001b[39m(e, _InvalidHeader):\n\u001b[32m    692\u001b[39m     \u001b[38;5;28;01mraise\u001b[39;00m InvalidHeader(e, request=request)\n",
      "\u001b[31mReadTimeout\u001b[39m: HTTPConnectionPool(host='host.docker.internal', port=11434): Read timed out. (read timeout=120)"
     ]
    }
   ],
   "source": [
    "resp = requests.post(url, json=payload, timeout=120)"
   ]
  },
  {
   "cell_type": "code",
   "execution_count": null,
   "id": "b160d3c2-d021-4eaa-bdf6-a2a3ef6ed611",
   "metadata": {},
   "outputs": [],
   "source": [
    "resp.raise_for_status()\n",
    "data = resp.json()  # вернёт JSON с результатом\n",
    "print(data)"
   ]
  },
  {
   "cell_type": "code",
   "execution_count": 6,
   "id": "eba59a0a-1c33-4c3c-864a-f1efd6a2771c",
   "metadata": {},
   "outputs": [],
   "source": [
    "import requests\n",
    "import json\n",
    "from typing import Optional\n",
    "\n",
    "API_BASE = \"http://host.docker.internal:11434\"  # Базовый URL API Ollama\n",
    "GENERATE_PATH = \"/api/generate\"  # Путь для генерации текста\n",
    "\n",
    "# Кастомное исключение для ошибок работы с Ollama API\n",
    "class OllamaAPIError(Exception):\n",
    "    pass\n",
    "\n",
    "def check_server() -> None:\n",
    "    \"\"\"\n",
    "    Проверяет доступность сервера Ollama.\n",
    "    Бросает исключение, если сервер недоступен или ответ не соответствует ожиданиям.\n",
    "    \"\"\"\n",
    "    try:\n",
    "        r = requests.get(API_BASE + \"/\", timeout=5)  # Запрос к корневому пути\n",
    "    except requests.RequestException as e:\n",
    "        # Если соединение не удалось\n",
    "        raise OllamaAPIError(f\"Cannot reach {API_BASE}: {e}\")\n",
    "    # Проверка статуса и содержимого ответа\n",
    "    if r.status_code != 200 or \"Ollama\" not in (r.text or \"\"):\n",
    "        raise OllamaAPIError(f\"Service at {API_BASE} responded unexpectedly: status={r.status_code}, body={r.text!r}\")\n",
    "\n",
    "def extract_text_from_json(obj) -> Optional[str]:\n",
    "    \"\"\"\n",
    "    Извлекает текст из JSON-объекта, который может содержать ответ модели.\n",
    "    Поддерживает разные форматы (OpenAI-like, Ollama-like).\n",
    "    \"\"\"\n",
    "    if obj is None:\n",
    "        return None\n",
    "    if isinstance(obj, str):\n",
    "        return obj\n",
    "    if isinstance(obj, dict):\n",
    "        # Проверка распространённых ключей\n",
    "        for key in (\"response\", \"text\", \"completion\", \"content\"):\n",
    "            if key in obj and isinstance(obj[key], str):\n",
    "                return obj[key]\n",
    "        # Обработка формата с choices[]\n",
    "        ch = obj.get(\"choices\")\n",
    "        if isinstance(ch, list) and ch:\n",
    "            first = ch[0]\n",
    "            if isinstance(first, dict):\n",
    "                # OpenAI streaming формат: delta.content\n",
    "                if \"delta\" in first and isinstance(first[\"delta\"], dict):\n",
    "                    return first[\"delta\"].get(\"content\")\n",
    "                # Прямой текст\n",
    "                if \"text\" in first and isinstance(first[\"text\"], str):\n",
    "                    return first[\"text\"]\n",
    "                # Формат message.content\n",
    "                if \"message\" in first and isinstance(first[\"message\"], dict):\n",
    "                    return first[\"message\"].get(\"content\")\n",
    "    return None\n",
    "\n",
    "def stream_until_dot(goal_text: str, model: str = \"llama3:8b\", timeout: int = 120) -> str:\n",
    "    \"\"\"\n",
    "    Отправляет запрос к Ollama API с целью сгенерировать одну строку тактики Coq.\n",
    "    Читает потоковый ответ до первой точки '.' и возвращает собранный текст.\n",
    "    \n",
    "    :param goal_text: Цель в синтаксисе Coq, для которой требуется тактика\n",
    "    :param model: Название модели (по умолчанию llama3:8b)\n",
    "    :param timeout: Таймаут запроса в секундах\n",
    "    :return: Сгенерированная тактика (строка, заканчивающаяся точкой)\n",
    "    \"\"\"\n",
    "    check_server()  # Проверка доступности сервера\n",
    "\n",
    "    url = API_BASE + GENERATE_PATH\n",
    "    # Формируем инструкцию для модели\n",
    "    prompt = f\"\"\"You are a Coq tactic suggester.\n",
    "\n",
    "INPUT:\n",
    "A Coq goal is provided below in its ORIGINAL Coq format. Do not modify or repeat it.\n",
    "\n",
    "```coq\n",
    "{goal_text}\n",
    "````\n",
    "\n",
    "TASK:\n",
    "Output EXACTLY ONE Coq tactic line that makes the most direct progress toward solving the goal.\n",
    "\n",
    "HARD RULES:\n",
    "\n",
    "* Output ONLY a single Coq tactic line terminated by a period.\n",
    "* No explanations, no prefixes, no code fences, no extra text, no alternatives.\n",
    "* Do NOT repeat or alter the goal.\n",
    "* Prefer the most direct, type-correct next step.\n",
    "* If multiple options exist, choose the single most straightforward one.\n",
    "* Semicolons (`;`) and proof brackets (`[...]`) are allowed, but the result must be ONE line.\n",
    "* Never answer \"I don't know\" or similar; always output your best single tactic.\n",
    "* Keep it minimal.\n",
    "* At the end it is necessary to have `.`\n",
    "\n",
    "Respond with ONLY the tactic line.\"\"\"\n",
    "    # Тело запроса для Ollama API\n",
    "    payload = {\n",
    "        \"model\": model,\n",
    "        \"prompt\": prompt,\n",
    "        \"stream\": True  # Включаем потоковый режим\n",
    "    }\n",
    "    \n",
    "    # Отправка запроса\n",
    "    resp = requests.post(url, json=payload, stream=True, timeout=timeout)\n",
    "    if resp.status_code == 404:\n",
    "        # Ошибка 404 — сервер не настроен или не запущен\n",
    "        resp.close()\n",
    "        raise OllamaAPIError(\n",
    "            \"404 from /api/generate. Проверьте: контейнер запущен ли с 'ollama serve', доступен ли порт 11434, и не занят ли порт другим процессом. \"\n",
    "            \"Выполните `curl http://localhost:11434/` и `docker logs ollama`.\"\n",
    "        )\n",
    "    resp.raise_for_status()  # Проверка на другие HTTP-ошибки\n",
    "    \n",
    "    collected = \"\"  # Буфер для символов\n",
    "    try:\n",
    "        # Читаем поток построчно\n",
    "        for raw_line in resp.iter_lines(decode_unicode=True):\n",
    "            if raw_line is None:\n",
    "                continue\n",
    "            line = raw_line.strip()\n",
    "            if not line:\n",
    "                continue\n",
    "            # Попытка распарсить строку как JSON\n",
    "            try:\n",
    "                obj = json.loads(line)\n",
    "            except json.JSONDecodeError:\n",
    "                # Если не JSON — используем как текст\n",
    "                text = line\n",
    "            else:\n",
    "                # Извлекаем полезный текст из объекта\n",
    "                text = extract_text_from_json(obj) or \"\"\n",
    "            if not text:\n",
    "                continue\n",
    "            # Ищем первую точку в ответе\n",
    "            for ch in text:\n",
    "                if ch == \".\":\n",
    "                    # Закрываем соединение и возвращаем собранный ответ\n",
    "                    resp.close()\n",
    "                    return collected.strip() + \".\"\n",
    "                collected += ch\n",
    "        # Если поток закончился без точки — возвращаем что есть\n",
    "        resp.close()\n",
    "        return collected.strip()\n",
    "    finally:\n",
    "        # Гарантированное закрытие соединения\n",
    "        try:\n",
    "            resp.close()\n",
    "        except Exception:\n",
    "            pass\n"
   ]
  },
  {
   "cell_type": "code",
   "execution_count": 9,
   "id": "bdf70ef2-6323-41d0-b336-da5d5a04f714",
   "metadata": {},
   "outputs": [
    {
     "name": "stdout",
     "output_type": "stream",
     "text": [
      "unfold Answer6Ack in *. \n",
      "______________________________________\n",
      "\n",
      "\n",
      "\n",
      "refl. \n",
      "______________________________________\n",
      "\n",
      "\n",
      "\n",
      "unfold Answer; simpl. \n",
      "______________________________________\n",
      "\n",
      "\n",
      "\n",
      "reflexivity. \n",
      "______________________________________\n",
      "\n",
      "\n",
      "\n",
      "constructor 6. \n",
      "______________________________________\n",
      "\n",
      "\n",
      "\n",
      "unfold Answer. \n",
      "______________________________________\n",
      "\n",
      "\n",
      "\n",
      "unfold Answer6Ack. \n",
      "______________________________________\n",
      "\n",
      "\n",
      "\n",
      "dependent elim Answer6; \n",
      "______________________________________\n",
      "\n",
      "\n",
      "\n",
      "unfold Answer6. \n",
      "______________________________________\n",
      "\n",
      "\n",
      "\n",
      "trivial. \n",
      "______________________________________\n",
      "\n",
      "\n",
      "\n",
      "constructor 2. \n",
      "______________________________________\n",
      "\n",
      "\n",
      "\n",
      "constructor 6. \n",
      "______________________________________\n",
      "\n",
      "\n",
      "\n",
      "destruct x. \n",
      "______________________________________\n",
      "\n",
      "\n",
      "\n",
      "refine econstructor 2. \n",
      "______________________________________\n",
      "\n",
      "\n",
      "\n",
      "unfold Answer 6. \n",
      "______________________________________\n",
      "\n",
      "\n",
      "\n",
      "unfold Answer; \n",
      "______________________________________\n",
      "\n",
      "\n",
      "\n",
      "trivial. \n",
      "______________________________________\n",
      "\n",
      "\n",
      "\n",
      "unfold Answer 6 in *; \n",
      "______________________________________\n",
      "\n",
      "\n",
      "\n",
      "refl. \n",
      "______________________________________\n",
      "\n",
      "\n",
      "\n",
      "congruence. \n",
      "______________________________________\n",
      "\n",
      "\n",
      "\n"
     ]
    }
   ],
   "source": [
    "for i in range(20):\n",
    "    print (stream_until_dot(\n",
    "    \"\"\"\n",
    "((Answer 6 Ack)\n",
    "(Answer 6(ObjList((CoqGoal((goals(((info((evar(Ser_Evar 2))(name())))(ty(Prod((binder_name(Name(Id x)))(binder_relevance Relevant))(App(Ind(((MutInd(KerName(MPfile(DirPath((Id Datatypes)(Id Init)(Id Coq))))(Id list))())0)(Instance(()()))))((Ind(((MutInd(KerName(MPfile(DirPath((Id Datatypes)(Id Init)(Id Coq))))(Id nat))())0)(Instance(()()))))))(App(Ind(((MutInd(KerName(MPfile(DirPath((Id Logic)(Id Init)(Id Coq))))(Id eq))())0)(Instance(()()))))((App(Ind(((MutInd(KerName(MPfile(DirPath((Id Datatypes)(Id Init)(Id Coq))))(Id list))())0)(Instance(()()))))((Ind(((MutInd(KerName(MPfile(DirPath((Id Datatypes)(Id Init)(Id Coq))))(Id nat))())0)(Instance(()()))))))(Rel 1)(Rel 1)))))(hyp()))))(stack())(bullet())(shelf())(given_up()))))))\n",
    "(Answer 6 Completed)\n",
    "    \"\"\"), \"\\n______________________________________\\n\\n\\n\")"
   ]
  },
  {
   "cell_type": "code",
   "execution_count": 8,
   "id": "952c76ea-d1db-4a89-a5f0-93b1095604c0",
   "metadata": {},
   "outputs": [
    {
     "name": "stdout",
     "output_type": "stream",
     "text": [
      "Collecting sexpdata\n",
      "  Downloading sexpdata-1.0.2-py3-none-any.whl.metadata (3.6 kB)\n",
      "Downloading sexpdata-1.0.2-py3-none-any.whl (10 kB)\n",
      "Installing collected packages: sexpdata\n",
      "Successfully installed sexpdata-1.0.2\n"
     ]
    }
   ],
   "source": [
    "!pip install sexpdata"
   ]
  },
  {
   "cell_type": "code",
   "execution_count": 24,
   "id": "4ebd2928-af00-4a24-ae07-986bf5dd0aa9",
   "metadata": {},
   "outputs": [
    {
     "name": "stdout",
     "output_type": "stream",
     "text": [
      "(Feedback\n",
      " ((doc_id 0) (span_id 0) (route 0)\n",
      "  (contents\n",
      "   (FileLoaded Coq.Init.Prelude\n",
      "    /root/.opam/default/lib/coq/theories/Init/Prelude.vo))))\n"
     ]
    }
   ],
   "source": [
    "import subprocess\n",
    "\n",
    "p = subprocess.Popen(\n",
    "    [\"sertop\",\"--printer=human\",\"--print0\"],\n",
    "    stdin=subprocess.PIPE, stdout=subprocess.PIPE, stderr=subprocess.PIPE, text=True\n",
    ")\n",
    "\n",
    "# отправляем Add + Exec (пример)\n",
    "p.stdin.write('(Add () \"Lemma t : True. Proof. now auto. Qed.\")\\n')\n",
    "p.stdin.write('(Exec 1)\\n')\n",
    "p.stdin.flush()\n",
    "\n",
    "while \n",
    "# читаем до \\0\n",
    "resp = []\n",
    "while True:\n",
    "    ch = p.stdout.read(1)\n",
    "    if not ch:\n",
    "        break\n",
    "    if ch == '\\0':\n",
    "        break\n",
    "    resp.append(ch)\n",
    "print(''.join(resp))\n"
   ]
  },
  {
   "cell_type": "code",
   "execution_count": 50,
   "id": "55538aa6-2b89-4b64-91aa-85c9a4b478a7",
   "metadata": {},
   "outputs": [
    {
     "ename": "KeyboardInterrupt",
     "evalue": "",
     "output_type": "error",
     "traceback": [
      "\u001b[31m---------------------------------------------------------------------------\u001b[39m",
      "\u001b[31mKeyboardInterrupt\u001b[39m                         Traceback (most recent call last)",
      "\u001b[36mCell\u001b[39m\u001b[36m \u001b[39m\u001b[32mIn[50]\u001b[39m\u001b[32m, line 3\u001b[39m\n\u001b[32m      1\u001b[39m resp = []\n\u001b[32m      2\u001b[39m \u001b[38;5;28;01mwhile\u001b[39;00m \u001b[38;5;28;01mTrue\u001b[39;00m:\n\u001b[32m----> \u001b[39m\u001b[32m3\u001b[39m     ch = \u001b[43mp\u001b[49m\u001b[43m.\u001b[49m\u001b[43mstdout\u001b[49m\u001b[43m.\u001b[49m\u001b[43mread\u001b[49m\u001b[43m(\u001b[49m\u001b[32;43m1\u001b[39;49m\u001b[43m)\u001b[49m\n\u001b[32m      4\u001b[39m     \u001b[38;5;28;01mif\u001b[39;00m \u001b[38;5;129;01mnot\u001b[39;00m ch:\n\u001b[32m      5\u001b[39m         \u001b[38;5;28;01mbreak\u001b[39;00m\n",
      "\u001b[31mKeyboardInterrupt\u001b[39m: "
     ]
    }
   ],
   "source": [
    "\n",
    "resp = []\n",
    "while True:\n",
    "    ch = p.stdout.read(1)\n",
    "    if not ch:\n",
    "        break\n",
    "    if ch == '\\0':\n",
    "        break\n",
    "    resp.append(ch)\n",
    "print(''.join(resp))"
   ]
  },
  {
   "cell_type": "code",
   "execution_count": 23,
   "id": "6e4e6260-6ded-4f86-a3e4-93bcf02a40d5",
   "metadata": {},
   "outputs": [
    {
     "name": "stdout",
     "output_type": "stream",
     "text": [
      "1 OK\n",
      "\n",
      "2 OK\n"
     ]
    },
    {
     "ename": "BrokenPipeError",
     "evalue": "[Errno 32] Broken pipe",
     "output_type": "error",
     "traceback": [
      "\u001b[31m---------------------------------------------------------------------------\u001b[39m",
      "\u001b[31mBrokenPipeError\u001b[39m                           Traceback (most recent call last)",
      "\u001b[36mCell\u001b[39m\u001b[36m \u001b[39m\u001b[32mIn[23]\u001b[39m\u001b[32m, line 21\u001b[39m\n\u001b[32m     18\u001b[39m \u001b[38;5;28mprint\u001b[39m(\u001b[33m\"\u001b[39m\u001b[33m2 OK\u001b[39m\u001b[33m\"\u001b[39m)\n\u001b[32m     20\u001b[39m proc.stdin.write(\u001b[33m'\u001b[39m\u001b[33m(Exec 1)\u001b[39m\u001b[38;5;130;01m\\n\u001b[39;00m\u001b[33m'\u001b[39m)  \u001b[38;5;66;03m# 1 = sid, из ответа Add\u001b[39;00m\n\u001b[32m---> \u001b[39m\u001b[32m21\u001b[39m \u001b[43mproc\u001b[49m\u001b[43m.\u001b[49m\u001b[43mstdin\u001b[49m\u001b[43m.\u001b[49m\u001b[43mflush\u001b[49m\u001b[43m(\u001b[49m\u001b[43m)\u001b[49m\n\u001b[32m     22\u001b[39m \u001b[38;5;28mprint\u001b[39m(proc.stdout.readline())\n\u001b[32m     24\u001b[39m line = proc.stdout.readline()\n",
      "\u001b[31mBrokenPipeError\u001b[39m: [Errno 32] Broken pipe"
     ]
    }
   ],
   "source": [
    "import subprocess\n",
    "\n",
    "proc = subprocess.Popen(\n",
    "    [\"sertop\", \"--human\"],\n",
    "    stdin=subprocess.PIPE,\n",
    "    stdout=subprocess.PIPE,\n",
    "    stderr=subprocess.PIPE,\n",
    "    text=True\n",
    ")\n",
    "\n",
    "cmd = '(Add () \"Lemma test: forall x: nat, x = x.\")\\n'\n",
    "proc.stdin.write(cmd)\n",
    "proc.stdin.flush()\n",
    "print(\"1 OK\")\n",
    "\n",
    "response = proc.stdout.readline()\n",
    "print(response)\n",
    "print(\"2 OK\")\n",
    "\n",
    "proc.stdin.write('(Exec 1)\\n')  # 1 = sid, из ответа Add\n",
    "proc.stdin.flush()\n",
    "print(proc.stdout.readline())\n",
    "\n",
    "line = proc.stdout.readline()\n",
    "print(line)\n",
    "while \"(span_id 1)\" not in line and line:\n",
    "    line = proc.stdout.readline()\n",
    "line = proc.stdout.readline()"
   ]
  },
  {
   "cell_type": "code",
   "execution_count": 16,
   "id": "a4dd04bb-e3c5-4510-b2d9-69c9b135aafa",
   "metadata": {},
   "outputs": [
    {
     "ename": "BrokenPipeError",
     "evalue": "[Errno 32] Broken pipe",
     "output_type": "error",
     "traceback": [
      "\u001b[31m---------------------------------------------------------------------------\u001b[39m",
      "\u001b[31mBrokenPipeError\u001b[39m                           Traceback (most recent call last)",
      "\u001b[36mCell\u001b[39m\u001b[36m \u001b[39m\u001b[32mIn[16]\u001b[39m\u001b[32m, line 3\u001b[39m\n\u001b[32m      1\u001b[39m cmd = \u001b[33m'\u001b[39m\u001b[33m(Add () \u001b[39m\u001b[33m\"\u001b[39m\u001b[33mLemma test: forall x: nat, x = x.\u001b[39m\u001b[33m\"\u001b[39m\u001b[33m)\u001b[39m\u001b[38;5;130;01m\\n\u001b[39;00m\u001b[33m'\u001b[39m\n\u001b[32m      2\u001b[39m proc.stdin.write(cmd)\n\u001b[32m----> \u001b[39m\u001b[32m3\u001b[39m \u001b[43mproc\u001b[49m\u001b[43m.\u001b[49m\u001b[43mstdin\u001b[49m\u001b[43m.\u001b[49m\u001b[43mflush\u001b[49m\u001b[43m(\u001b[49m\u001b[43m)\u001b[49m\n",
      "\u001b[31mBrokenPipeError\u001b[39m: [Errno 32] Broken pipe"
     ]
    }
   ],
   "source": [
    "cmd = '(Add () \"Lemma test: forall x: nat, x = x.\")\\n'\n",
    "proc.stdin.write(cmd)\n",
    "proc.stdin.flush()"
   ]
  },
  {
   "cell_type": "code",
   "execution_count": 14,
   "id": "f7ebfe5a-224d-4836-8dfb-d9f9e92adbab",
   "metadata": {},
   "outputs": [
    {
     "name": "stdout",
     "output_type": "stream",
     "text": [
      "(Answer 0 Completed)\n",
      "\n"
     ]
    }
   ],
   "source": [
    "print(proc.stdout.readline())"
   ]
  },
  {
   "cell_type": "code",
   "execution_count": 13,
   "id": "8e648460-6a8c-4378-9c36-04a7b97e7ce6",
   "metadata": {},
   "outputs": [
    {
     "name": "stdout",
     "output_type": "stream",
     "text": [
      "1\n",
      "2\n"
     ]
    },
    {
     "ename": "KeyboardInterrupt",
     "evalue": "",
     "output_type": "error",
     "traceback": [
      "\u001b[31m---------------------------------------------------------------------------\u001b[39m",
      "\u001b[31mKeyboardInterrupt\u001b[39m                         Traceback (most recent call last)",
      "\u001b[36mCell\u001b[39m\u001b[36m \u001b[39m\u001b[32mIn[13]\u001b[39m\u001b[32m, line 78\u001b[39m\n\u001b[32m     76\u001b[39m \u001b[38;5;28mprint\u001b[39m(\u001b[32m2\u001b[39m)\n\u001b[32m     77\u001b[39m \u001b[38;5;66;03m# Добавляем лемму\u001b[39;00m\n\u001b[32m---> \u001b[39m\u001b[32m78\u001b[39m resp = \u001b[43mcli\u001b[49m\u001b[43m.\u001b[49m\u001b[43madd_sentence\u001b[49m\u001b[43m(\u001b[49m\u001b[33;43m\"\u001b[39;49m\u001b[33;43mLemma test: forall x: nat, x = x.\u001b[39;49m\u001b[33;43m\"\u001b[39;49m\u001b[43m)\u001b[49m\n\u001b[32m     79\u001b[39m \u001b[38;5;28mprint\u001b[39m(\u001b[33m\"\u001b[39m\u001b[38;5;130;01m\\t\u001b[39;00m\u001b[33m\"\u001b[39m.join(resp))\n\u001b[32m     80\u001b[39m sid = \u001b[32m1\u001b[39m  \u001b[38;5;66;03m# Обычно sid = 1 для первой Add\u001b[39;00m\n",
      "\u001b[36mCell\u001b[39m\u001b[36m \u001b[39m\u001b[32mIn[13]\u001b[39m\u001b[32m, line 33\u001b[39m, in \u001b[36mSerapiClient.add_sentence\u001b[39m\u001b[34m(self, sentence)\u001b[39m\n\u001b[32m     31\u001b[39m \u001b[38;5;28;01mdef\u001b[39;00m\u001b[38;5;250m \u001b[39m\u001b[34madd_sentence\u001b[39m(\u001b[38;5;28mself\u001b[39m, sentence: \u001b[38;5;28mstr\u001b[39m):\n\u001b[32m     32\u001b[39m     \u001b[38;5;28mself\u001b[39m.send(\u001b[33mf\u001b[39m\u001b[33m'\u001b[39m\u001b[33m(Add () \u001b[39m\u001b[33m\"\u001b[39m\u001b[38;5;132;01m{\u001b[39;00msentence\u001b[38;5;132;01m}\u001b[39;00m\u001b[33m\"\u001b[39m\u001b[33m)\u001b[39m\u001b[33m'\u001b[39m)\n\u001b[32m---> \u001b[39m\u001b[32m33\u001b[39m     \u001b[38;5;28;01mreturn\u001b[39;00m \u001b[38;5;28;43mself\u001b[39;49m\u001b[43m.\u001b[49m\u001b[43mread_response\u001b[49m\u001b[43m(\u001b[49m\u001b[43m)\u001b[49m\n",
      "\u001b[36mCell\u001b[39m\u001b[36m \u001b[39m\u001b[32mIn[13]\u001b[39m\u001b[32m, line 24\u001b[39m, in \u001b[36mSerapiClient.read_response\u001b[39m\u001b[34m(self)\u001b[39m\n\u001b[32m     22\u001b[39m response = []\n\u001b[32m     23\u001b[39m \u001b[38;5;28;01mwhile\u001b[39;00m \u001b[38;5;28;01mTrue\u001b[39;00m:\n\u001b[32m---> \u001b[39m\u001b[32m24\u001b[39m     line = \u001b[38;5;28mself\u001b[39m.proc.stdout.readline().strip()\n\u001b[32m     25\u001b[39m     response.append(line)\n\u001b[32m     26\u001b[39m     \u001b[38;5;28;01mif\u001b[39;00m \u001b[33mf\u001b[39m\u001b[33m\"\u001b[39m\u001b[33m(Answer \u001b[39m\u001b[38;5;132;01m{\u001b[39;00m\u001b[38;5;28mself\u001b[39m.next_id\u001b[38;5;132;01m}\u001b[39;00m\u001b[33m Completed)\u001b[39m\u001b[33m\"\u001b[39m \u001b[38;5;129;01min\u001b[39;00m line:\n",
      "\u001b[36mFile \u001b[39m\u001b[32m<frozen codecs>:319\u001b[39m, in \u001b[36mdecode\u001b[39m\u001b[34m(self, input, final)\u001b[39m\n",
      "\u001b[31mKeyboardInterrupt\u001b[39m: "
     ]
    }
   ],
   "source": [
    "import subprocess\n",
    "import sexpdata\n",
    "\n",
    "class SerapiClient:\n",
    "    def __init__(self):\n",
    "        self.proc = subprocess.Popen(\n",
    "            [\"sertop\", \"--implicit\", \"--sexp\"],\n",
    "            stdin=subprocess.PIPE,\n",
    "            stdout=subprocess.PIPE,\n",
    "            stderr=subprocess.PIPE,\n",
    "            text=True\n",
    "        )\n",
    "        self.next_id = 0\n",
    "\n",
    "    def send(self, cmd: str):\n",
    "        \"\"\"Отправка команды в sertop\"\"\"\n",
    "        self.proc.stdin.write(cmd + \"\\n\")\n",
    "        self.proc.stdin.flush()\n",
    "\n",
    "    def read_response(self):\n",
    "        \"\"\"Читает все строки до (Completed <id>)\"\"\"\n",
    "        response = []\n",
    "        while True:\n",
    "            line = self.proc.stdout.readline().strip()\n",
    "            response.append(line)\n",
    "            if f\"(Answer {self.next_id} Completed)\" in line:\n",
    "                break\n",
    "        self.next_id += 1\n",
    "        return response\n",
    "\n",
    "    def add_sentence(self, sentence: str):\n",
    "        self.send(f'(Add () \"{sentence}\")')\n",
    "        return self.read_response()\n",
    "\n",
    "    def exec_sid(self, sid: int):\n",
    "        self.send(f'(Exec {sid})')\n",
    "        return self.read_response()\n",
    "\n",
    "    def get_goals(self, sid: int):\n",
    "        self.send(f'(Query ((sid {sid})) Goals)')\n",
    "        return self.read_response()\n",
    "\n",
    "    @staticmethod\n",
    "    def format_goals(response):\n",
    "        \"\"\"Парсинг и вывод целей как в CoqIDE\"\"\"\n",
    "        parsed = sexpdata.loads(\" \".join(response))\n",
    "        # Найдем блок с Goals\n",
    "        for elem in parsed:\n",
    "            if isinstance(elem, list) and len(elem) > 1 and elem[0].value() == \"Answer\":\n",
    "                inner = elem[2]\n",
    "                if isinstance(inner, list) and inner[0].value() == \"ObjList\":\n",
    "                    goals_block = inner[1][0]\n",
    "                    return SerapiClient.pretty_goals(goals_block)\n",
    "        return \"No goals\"\n",
    "\n",
    "    @staticmethod\n",
    "    def pretty_goals(goals_block):\n",
    "        # goals_block — это S-expression, извлекаем список целей\n",
    "        goals = []\n",
    "        for g in goals_block[1]:\n",
    "            hypotheses = [f\"{h[0].value()} : {SerapiClient.term_to_str(h[1])}\" for h in g[1][0][1]]\n",
    "            goal = SerapiClient.term_to_str(g[1][1][1])\n",
    "            out = \"\\n\".join(hypotheses)\n",
    "            out += \"\\n\" + \"=\"*30 + \"\\n\" + goal\n",
    "            goals.append(out)\n",
    "        return \"\\n\\n\".join(goals)\n",
    "\n",
    "    @staticmethod\n",
    "    def term_to_str(term):\n",
    "        # Простейшее преобразование терма (в реальности лучше нормализовать)\n",
    "        return \" \".join(str(x.value()) if isinstance(x, sexpdata.Symbol) else str(x) for x in term)\n",
    "\n",
    "print(1)\n",
    "# --- Использование ---\n",
    "cli = SerapiClient()\n",
    "print(2)\n",
    "# Добавляем лемму\n",
    "resp = cli.add_sentence(\"Lemma test: forall x: nat, x = x.\")\n",
    "print(\"\\t\".join(resp))\n",
    "sid = 1  # Обычно sid = 1 для первой Add\n",
    "print(3)\n",
    "# Выполняем Exec\n",
    "cli.exec_sid(sid)\n",
    "print(4)\n",
    "# Получаем цели\n",
    "resp = cli.get_goals(sid)\n",
    "print(cli.format_goals(resp))\n"
   ]
  },
  {
   "cell_type": "code",
   "execution_count": 9,
   "id": "faa31685-a08b-4832-8233-292689daa512",
   "metadata": {},
   "outputs": [],
   "source": [
    "import subprocess\n",
    "\n",
    "proc = subprocess.Popen(\n",
    "    [\"sertop\", \"--implicit\"],  # можно добавить --sexp для вывода S-expressions\n",
    "    stdin=subprocess.PIPE,\n",
    "    stdout=subprocess.PIPE,\n",
    "    stderr=subprocess.PIPE,\n",
    "    text=True\n",
    ")\n"
   ]
  },
  {
   "cell_type": "code",
   "execution_count": 2,
   "id": "a03c2144-356d-4b65-8ce5-ac0363d2a836",
   "metadata": {},
   "outputs": [],
   "source": [
    "cmd = '(Add () \"Lemma test: forall x: nat, x = x.\")\\n'\n",
    "proc.stdin.write(cmd)\n",
    "proc.stdin.flush()"
   ]
  },
  {
   "cell_type": "code",
   "execution_count": 3,
   "id": "a0b802cf-79b1-4efd-8c43-a9d30d585c1b",
   "metadata": {},
   "outputs": [
    {
     "name": "stdout",
     "output_type": "stream",
     "text": [
      "(Feedback((doc_id 0)(span_id 0)(route 0)(contents(FileLoaded Coq.Init.Prelude /root/.opam/default/lib/coq/theories/Init/Prelude.vo))))\n",
      "\n"
     ]
    }
   ],
   "source": [
    "response = proc.stdout.readline()\n",
    "print(response)"
   ]
  },
  {
   "cell_type": "code",
   "execution_count": 4,
   "id": "0c9c159a-ce9e-448d-bac0-68c3ca8658bf",
   "metadata": {},
   "outputs": [
    {
     "name": "stdout",
     "output_type": "stream",
     "text": [
      "(Feedback((doc_id 0)(span_id 0)(route 0)(contents(FileLoaded Coq.Init.Notations /root/.opam/default/lib/coq/theories/Init/Notations.vo))))\n",
      "\n"
     ]
    }
   ],
   "source": [
    "proc.stdin.write('(Exec 1)\\n')  # 1 = sid, из ответа Add\n",
    "proc.stdin.flush()\n",
    "print(proc.stdout.readline())"
   ]
  },
  {
   "cell_type": "code",
   "execution_count": 5,
   "id": "d59d49b1-a698-4a1b-8c24-41312af9cfe9",
   "metadata": {},
   "outputs": [
    {
     "name": "stdout",
     "output_type": "stream",
     "text": [
      "(Feedback((doc_id 0)(span_id 0)(route 0)(contents(FileLoaded Coq.Init.Logic /root/.opam/default/lib/coq/theories/Init/Logic.vo))))\n",
      "\n"
     ]
    }
   ],
   "source": [
    "proc.stdin.write('(Query ((sid 1)) Goals)\\n')\n",
    "proc.stdin.flush()\n",
    "print(proc.stdout.readline())"
   ]
  },
  {
   "cell_type": "code",
   "execution_count": 6,
   "id": "1dbee56b-86ba-4432-a4fc-2a456c7cb37a",
   "metadata": {},
   "outputs": [
    {
     "name": "stdout",
     "output_type": "stream",
     "text": [
      "(Feedback((doc_id 0)(span_id 0)(route 0)(contents(FileLoaded Coq.Init.Ltac /root/.opam/default/lib/coq/theories/Init/Ltac.vo))))\n",
      "\n"
     ]
    }
   ],
   "source": [
    "proc.stdin.write('(Query ((pp (pp_format PpStr)) (sid 1)) Goals)\\n')\n",
    "proc.stdin.flush()\n",
    "print(proc.stdout.readline())\n"
   ]
  },
  {
   "cell_type": "code",
   "execution_count": 1,
   "id": "34eb94cd-e41d-47b2-952a-b4ff164ed290",
   "metadata": {},
   "outputs": [
    {
     "ename": "FileNotFoundError",
     "evalue": "[Errno 2] No such file or directory: 'coq-serapi'",
     "output_type": "error",
     "traceback": [
      "\u001b[31m---------------------------------------------------------------------------\u001b[39m",
      "\u001b[31mFileNotFoundError\u001b[39m                         Traceback (most recent call last)",
      "\u001b[36mCell\u001b[39m\u001b[36m \u001b[39m\u001b[32mIn[1]\u001b[39m\u001b[32m, line 5\u001b[39m\n\u001b[32m      2\u001b[39m \u001b[38;5;28;01mimport\u001b[39;00m\u001b[38;5;250m \u001b[39m\u001b[34;01mjson\u001b[39;00m\n\u001b[32m      4\u001b[39m \u001b[38;5;66;03m# Запуск coq-serapi (убедись, что установлен через opam: `opam install coq-serapi`)\u001b[39;00m\n\u001b[32m----> \u001b[39m\u001b[32m5\u001b[39m process = \u001b[43msubprocess\u001b[49m\u001b[43m.\u001b[49m\u001b[43mPopen\u001b[49m\u001b[43m(\u001b[49m\n\u001b[32m      6\u001b[39m \u001b[43m    \u001b[49m\u001b[43m[\u001b[49m\u001b[33;43m\"\u001b[39;49m\u001b[33;43mcoq-serapi\u001b[39;49m\u001b[33;43m\"\u001b[39;49m\u001b[43m,\u001b[49m\u001b[43m \u001b[49m\u001b[33;43m\"\u001b[39;49m\u001b[33;43m--prelude\u001b[39;49m\u001b[33;43m\"\u001b[39;49m\u001b[43m]\u001b[49m\u001b[43m,\u001b[49m\u001b[43m  \u001b[49m\u001b[38;5;66;43;03m# Можно добавить `--async` для STM\u001b[39;49;00m\n\u001b[32m      7\u001b[39m \u001b[43m    \u001b[49m\u001b[43mstdin\u001b[49m\u001b[43m=\u001b[49m\u001b[43msubprocess\u001b[49m\u001b[43m.\u001b[49m\u001b[43mPIPE\u001b[49m\u001b[43m,\u001b[49m\n\u001b[32m      8\u001b[39m \u001b[43m    \u001b[49m\u001b[43mstdout\u001b[49m\u001b[43m=\u001b[49m\u001b[43msubprocess\u001b[49m\u001b[43m.\u001b[49m\u001b[43mPIPE\u001b[49m\u001b[43m,\u001b[49m\n\u001b[32m      9\u001b[39m \u001b[43m    \u001b[49m\u001b[43mstderr\u001b[49m\u001b[43m=\u001b[49m\u001b[43msubprocess\u001b[49m\u001b[43m.\u001b[49m\u001b[43mPIPE\u001b[49m\u001b[43m,\u001b[49m\n\u001b[32m     10\u001b[39m \u001b[43m    \u001b[49m\u001b[43mtext\u001b[49m\u001b[43m=\u001b[49m\u001b[38;5;28;43;01mTrue\u001b[39;49;00m\u001b[43m,\u001b[49m\n\u001b[32m     11\u001b[39m \u001b[43m    \u001b[49m\u001b[43mbufsize\u001b[49m\u001b[43m=\u001b[49m\u001b[32;43m1\u001b[39;49m\n\u001b[32m     12\u001b[39m \u001b[43m)\u001b[49m\n\u001b[32m     14\u001b[39m \u001b[38;5;28;01mdef\u001b[39;00m\u001b[38;5;250m \u001b[39m\u001b[34msend_command\u001b[39m(cmd):\n\u001b[32m     15\u001b[39m     process.stdin.write(cmd + \u001b[33m\"\u001b[39m\u001b[38;5;130;01m\\n\u001b[39;00m\u001b[33m\"\u001b[39m)\n",
      "\u001b[36mFile \u001b[39m\u001b[32m/usr/lib/python3.11/subprocess.py:1024\u001b[39m, in \u001b[36mPopen.__init__\u001b[39m\u001b[34m(self, args, bufsize, executable, stdin, stdout, stderr, preexec_fn, close_fds, shell, cwd, env, universal_newlines, startupinfo, creationflags, restore_signals, start_new_session, pass_fds, user, group, extra_groups, encoding, errors, text, umask, pipesize, process_group)\u001b[39m\n\u001b[32m   1020\u001b[39m         \u001b[38;5;28;01mif\u001b[39;00m \u001b[38;5;28mself\u001b[39m.text_mode:\n\u001b[32m   1021\u001b[39m             \u001b[38;5;28mself\u001b[39m.stderr = io.TextIOWrapper(\u001b[38;5;28mself\u001b[39m.stderr,\n\u001b[32m   1022\u001b[39m                     encoding=encoding, errors=errors)\n\u001b[32m-> \u001b[39m\u001b[32m1024\u001b[39m     \u001b[38;5;28;43mself\u001b[39;49m\u001b[43m.\u001b[49m\u001b[43m_execute_child\u001b[49m\u001b[43m(\u001b[49m\u001b[43margs\u001b[49m\u001b[43m,\u001b[49m\u001b[43m \u001b[49m\u001b[43mexecutable\u001b[49m\u001b[43m,\u001b[49m\u001b[43m \u001b[49m\u001b[43mpreexec_fn\u001b[49m\u001b[43m,\u001b[49m\u001b[43m \u001b[49m\u001b[43mclose_fds\u001b[49m\u001b[43m,\u001b[49m\n\u001b[32m   1025\u001b[39m \u001b[43m                        \u001b[49m\u001b[43mpass_fds\u001b[49m\u001b[43m,\u001b[49m\u001b[43m \u001b[49m\u001b[43mcwd\u001b[49m\u001b[43m,\u001b[49m\u001b[43m \u001b[49m\u001b[43menv\u001b[49m\u001b[43m,\u001b[49m\n\u001b[32m   1026\u001b[39m \u001b[43m                        \u001b[49m\u001b[43mstartupinfo\u001b[49m\u001b[43m,\u001b[49m\u001b[43m \u001b[49m\u001b[43mcreationflags\u001b[49m\u001b[43m,\u001b[49m\u001b[43m \u001b[49m\u001b[43mshell\u001b[49m\u001b[43m,\u001b[49m\n\u001b[32m   1027\u001b[39m \u001b[43m                        \u001b[49m\u001b[43mp2cread\u001b[49m\u001b[43m,\u001b[49m\u001b[43m \u001b[49m\u001b[43mp2cwrite\u001b[49m\u001b[43m,\u001b[49m\n\u001b[32m   1028\u001b[39m \u001b[43m                        \u001b[49m\u001b[43mc2pread\u001b[49m\u001b[43m,\u001b[49m\u001b[43m \u001b[49m\u001b[43mc2pwrite\u001b[49m\u001b[43m,\u001b[49m\n\u001b[32m   1029\u001b[39m \u001b[43m                        \u001b[49m\u001b[43merrread\u001b[49m\u001b[43m,\u001b[49m\u001b[43m \u001b[49m\u001b[43merrwrite\u001b[49m\u001b[43m,\u001b[49m\n\u001b[32m   1030\u001b[39m \u001b[43m                        \u001b[49m\u001b[43mrestore_signals\u001b[49m\u001b[43m,\u001b[49m\n\u001b[32m   1031\u001b[39m \u001b[43m                        \u001b[49m\u001b[43mgid\u001b[49m\u001b[43m,\u001b[49m\u001b[43m \u001b[49m\u001b[43mgids\u001b[49m\u001b[43m,\u001b[49m\u001b[43m \u001b[49m\u001b[43muid\u001b[49m\u001b[43m,\u001b[49m\u001b[43m \u001b[49m\u001b[43mumask\u001b[49m\u001b[43m,\u001b[49m\n\u001b[32m   1032\u001b[39m \u001b[43m                        \u001b[49m\u001b[43mstart_new_session\u001b[49m\u001b[43m,\u001b[49m\u001b[43m \u001b[49m\u001b[43mprocess_group\u001b[49m\u001b[43m)\u001b[49m\n\u001b[32m   1033\u001b[39m \u001b[38;5;28;01mexcept\u001b[39;00m:\n\u001b[32m   1034\u001b[39m     \u001b[38;5;66;03m# Cleanup if the child failed starting.\u001b[39;00m\n\u001b[32m   1035\u001b[39m     \u001b[38;5;28;01mfor\u001b[39;00m f \u001b[38;5;129;01min\u001b[39;00m \u001b[38;5;28mfilter\u001b[39m(\u001b[38;5;28;01mNone\u001b[39;00m, (\u001b[38;5;28mself\u001b[39m.stdin, \u001b[38;5;28mself\u001b[39m.stdout, \u001b[38;5;28mself\u001b[39m.stderr)):\n",
      "\u001b[36mFile \u001b[39m\u001b[32m/usr/lib/python3.11/subprocess.py:1901\u001b[39m, in \u001b[36mPopen._execute_child\u001b[39m\u001b[34m(self, args, executable, preexec_fn, close_fds, pass_fds, cwd, env, startupinfo, creationflags, shell, p2cread, p2cwrite, c2pread, c2pwrite, errread, errwrite, restore_signals, gid, gids, uid, umask, start_new_session, process_group)\u001b[39m\n\u001b[32m   1899\u001b[39m     \u001b[38;5;28;01mif\u001b[39;00m errno_num != \u001b[32m0\u001b[39m:\n\u001b[32m   1900\u001b[39m         err_msg = os.strerror(errno_num)\n\u001b[32m-> \u001b[39m\u001b[32m1901\u001b[39m     \u001b[38;5;28;01mraise\u001b[39;00m child_exception_type(errno_num, err_msg, err_filename)\n\u001b[32m   1902\u001b[39m \u001b[38;5;28;01mraise\u001b[39;00m child_exception_type(err_msg)\n",
      "\u001b[31mFileNotFoundError\u001b[39m: [Errno 2] No such file or directory: 'coq-serapi'"
     ]
    }
   ],
   "source": [
    "import subprocess\n",
    "import json\n",
    "\n",
    "# Запуск coq-serapi (убедись, что установлен через opam: `opam install coq-serapi`)\n",
    "process = subprocess.Popen(\n",
    "    [\"coq-serapi\", \"--prelude\"],  # Можно добавить `--async` для STM\n",
    "    stdin=subprocess.PIPE,\n",
    "    stdout=subprocess.PIPE,\n",
    "    stderr=subprocess.PIPE,\n",
    "    text=True,\n",
    "    bufsize=1\n",
    ")\n",
    "\n",
    "def send_command(cmd):\n",
    "    process.stdin.write(cmd + \"\\n\")\n",
    "    process.stdin.flush()\n",
    "    return read_response()\n",
    "\n",
    "def read_response():\n",
    "    lines = []\n",
    "    while True:\n",
    "        line = process.stdout.readline()\n",
    "        if not line:\n",
    "            break\n",
    "        lines.append(line.strip())\n",
    "        if line.strip().endswith(\")\"):  # Примитивная проверка конца ответа\n",
    "            break\n",
    "    return \"\\n\".join(lines)\n",
    "\n",
    "# Пример добавления тактики\n",
    "cmd_add = '(Add () \"Theorem t: True.\")'  # Добавляем теорему\n",
    "print(\">>>\", cmd_add)\n",
    "print(send_command(cmd_add))\n",
    "\n",
    "cmd_exec = '(Exec 1)'  # Выполняем добавленную команду\n",
    "print(\">>>\", cmd_exec)\n",
    "print(send_command(cmd_exec))\n",
    "\n",
    "cmd_add2 = '(Add () \"Proof.\")'  # Начало доказательства\n",
    "print(\">>>\", cmd_add2)\n",
    "print(send_command(cmd_add2))\n",
    "\n",
    "cmd_add3 = '(Add () \"exact I.\")'  # Применяем тактику\n",
    "print(\">>>\", cmd_add3)\n",
    "print(send_command(cmd_add3))\n",
    "\n",
    "cmd_qed = '(Add () \"Qed.\")'  # Завершаем\n",
    "print(\">>>\", cmd_qed)\n",
    "print(send_command(cmd_qed))\n",
    "\n",
    "process.terminate()\n"
   ]
  },
  {
   "cell_type": "code",
   "execution_count": null,
   "id": "34db823c-0e9e-4b9f-b6a7-6652ae0c4db8",
   "metadata": {},
   "outputs": [],
   "source": []
  }
 ],
 "metadata": {
  "kernelspec": {
   "display_name": "Python 3 (ipykernel)",
   "language": "python",
   "name": "python3"
  },
  "language_info": {
   "codemirror_mode": {
    "name": "ipython",
    "version": 3
   },
   "file_extension": ".py",
   "mimetype": "text/x-python",
   "name": "python",
   "nbconvert_exporter": "python",
   "pygments_lexer": "ipython3",
   "version": "3.11.2"
  }
 },
 "nbformat": 4,
 "nbformat_minor": 5
}
