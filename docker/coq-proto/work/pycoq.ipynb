{
 "cells": [
  {
   "cell_type": "code",
   "execution_count": 1,
   "id": "e898c154-7b2c-4b6e-bac1-06ad0587caee",
   "metadata": {},
   "outputs": [
    {
     "name": "stdout",
     "output_type": "stream",
     "text": [
      "Requirement already satisfied: sexpdata in /opt/venv/lib/python3.11/site-packages (1.0.2)\n"
     ]
    }
   ],
   "source": [
    "!pip install sexpdata"
   ]
  },
  {
   "cell_type": "code",
   "execution_count": 20,
   "id": "d8f1f08a-cfb3-4c3f-a66d-859651009d6d",
   "metadata": {},
   "outputs": [],
   "source": [
    "import subprocess, sexpdata\n",
    "from sexpdata import loads\n",
    "\n",
    "proc = subprocess.Popen(\n",
    "    [\"sertop\"],\n",
    "    stdin=subprocess.PIPE, stdout=subprocess.PIPE, stderr=subprocess.PIPE, text=True\n",
    ")\n",
    "\n",
    "def read(_proc):\n",
    "    line = \"(\"\n",
    "    while \"Completed\" not in line:\n",
    "        line += _proc.stdout.readline()\n",
    "        print(line.split(\"\\n\")[-2])\n",
    "    return line + \")\"\n",
    "\n",
    "line = proc.stdout.readline()\n",
    "while \"(contents Processed)\" not in line:\n",
    "    line = proc.stdout.readline()\n",
    "\n",
    "\n",
    "def add(_proc, line):\n",
    "    cmd = f'(Add () \"{line}\")\\n'\n",
    "    proc.stdin.write(cmd)\n",
    "    proc.stdin.flush()\n",
    "    return read(proc)"
   ]
  },
  {
   "cell_type": "code",
   "execution_count": 21,
   "id": "4e604393-555d-45c5-afc2-7c69871f411b",
   "metadata": {
    "scrolled": true
   },
   "outputs": [
    {
     "name": "stdout",
     "output_type": "stream",
     "text": [
      "((Answer 0 Ack)\n",
      "(Feedback((doc_id 0)(span_id 2)(route 0)(contents(ProcessingIn master))))\n",
      "(Feedback((doc_id 0)(span_id 1)(route 0)(contents Processed)))\n",
      "(Feedback((doc_id 0)(span_id 2)(route 0)(contents(FileLoaded Coq.Lists.List /root/.opam/4.14.1/lib/coq/theories/Lists/List.vo))))\n",
      "(Feedback((doc_id 0)(span_id 2)(route 0)(contents(FileLoaded Coq.Arith.PeanoNat /root/.opam/4.14.1/lib/coq/theories/Arith/PeanoNat.vo))))\n",
      "(Feedback((doc_id 0)(span_id 2)(route 0)(contents(FileLoaded Coq.Numbers.Natural.Abstract.NAxioms /root/.opam/4.14.1/lib/coq/theories/Numbers/Natural/Abstract/NAxioms.vo))))\n",
      "(Feedback((doc_id 0)(span_id 2)(route 0)(contents(FileLoaded Coq.Bool.Bool /root/.opam/4.14.1/lib/coq/theories/Bool/Bool.vo))))\n",
      "(Feedback((doc_id 0)(span_id 2)(route 0)(contents(FileLoaded Coq.Classes.DecidableClass /root/.opam/4.14.1/lib/coq/theories/Classes/DecidableClass.vo))))\n",
      "(Feedback((doc_id 0)(span_id 2)(route 0)(contents(FileLoaded Coq.Numbers.NatInt.NZAxioms /root/.opam/4.14.1/lib/coq/theories/Numbers/NatInt/NZAxioms.vo))))\n",
      "(Feedback((doc_id 0)(span_id 2)(route 0)(contents(FileLoaded Coq.Structures.Equalities /root/.opam/4.14.1/lib/coq/theories/Structures/Equalities.vo))))\n",
      "(Feedback((doc_id 0)(span_id 2)(route 0)(contents(FileLoaded Coq.Classes.RelationClasses /root/.opam/4.14.1/lib/coq/theories/Classes/RelationClasses.vo))))\n",
      "(Feedback((doc_id 0)(span_id 2)(route 0)(contents(FileLoaded Coq.Classes.Init /root/.opam/4.14.1/lib/coq/theories/Classes/Init.vo))))\n",
      "(Feedback((doc_id 0)(span_id 2)(route 0)(contents(FileLoaded Coq.Program.Basics /root/.opam/4.14.1/lib/coq/theories/Program/Basics.vo))))\n",
      "(Feedback((doc_id 0)(span_id 2)(route 0)(contents(FileLoaded Coq.Program.Tactics /root/.opam/4.14.1/lib/coq/theories/Program/Tactics.vo))))\n",
      "(Feedback((doc_id 0)(span_id 2)(route 0)(contents(FileLoaded Coq.Relations.Relation_Definitions /root/.opam/4.14.1/lib/coq/theories/Relations/Relation_Definitions.vo))))\n",
      "(Feedback((doc_id 0)(span_id 2)(route 0)(contents(FileLoaded Coq.Classes.Morphisms /root/.opam/4.14.1/lib/coq/theories/Classes/Morphisms.vo))))\n",
      "(Feedback((doc_id 0)(span_id 2)(route 0)(contents(FileLoaded Coq.Setoids.Setoid /root/.opam/4.14.1/lib/coq/theories/Setoids/Setoid.vo))))\n",
      "(Feedback((doc_id 0)(span_id 2)(route 0)(contents(FileLoaded Coq.Classes.SetoidTactics /root/.opam/4.14.1/lib/coq/theories/Classes/SetoidTactics.vo))))\n",
      "(Feedback((doc_id 0)(span_id 2)(route 0)(contents(FileLoaded Coq.Classes.CRelationClasses /root/.opam/4.14.1/lib/coq/theories/Classes/CRelationClasses.vo))))\n",
      "(Feedback((doc_id 0)(span_id 2)(route 0)(contents(FileLoaded Coq.Classes.CMorphisms /root/.opam/4.14.1/lib/coq/theories/Classes/CMorphisms.vo))))\n",
      "(Feedback((doc_id 0)(span_id 2)(route 0)(contents(FileLoaded Coq.Classes.Morphisms_Prop /root/.opam/4.14.1/lib/coq/theories/Classes/Morphisms_Prop.vo))))\n",
      "(Feedback((doc_id 0)(span_id 2)(route 0)(contents(FileLoaded Coq.Classes.Equivalence /root/.opam/4.14.1/lib/coq/theories/Classes/Equivalence.vo))))\n",
      "(Feedback((doc_id 0)(span_id 2)(route 0)(contents(FileLoaded Coq.ssr.ssrsetoid /root/.opam/4.14.1/lib/coq/theories/ssr/ssrsetoid.vo))))\n",
      "(Feedback((doc_id 0)(span_id 2)(route 0)(contents(FileLoaded Coq.ssr.ssrclasses /root/.opam/4.14.1/lib/coq/theories/ssr/ssrclasses.vo))))\n",
      "(Feedback((doc_id 0)(span_id 2)(route 0)(contents(FileLoaded Coq.ssr.ssrunder /root/.opam/4.14.1/lib/coq/theories/ssr/ssrunder.vo))))\n",
      "(Feedback((doc_id 0)(span_id 2)(route 0)(contents(FileLoaded Coq.Structures.Orders /root/.opam/4.14.1/lib/coq/theories/Structures/Orders.vo))))\n",
      "(Feedback((doc_id 0)(span_id 2)(route 0)(contents(FileLoaded Coq.Relations.Relations /root/.opam/4.14.1/lib/coq/theories/Relations/Relations.vo))))\n",
      "(Feedback((doc_id 0)(span_id 2)(route 0)(contents(FileLoaded Coq.Relations.Relation_Operators /root/.opam/4.14.1/lib/coq/theories/Relations/Relation_Operators.vo))))\n",
      "(Feedback((doc_id 0)(span_id 2)(route 0)(contents(FileLoaded Coq.Relations.Operators_Properties /root/.opam/4.14.1/lib/coq/theories/Relations/Operators_Properties.vo))))\n",
      "(Feedback((doc_id 0)(span_id 2)(route 0)(contents(FileLoaded Coq.Numbers.NumPrelude /root/.opam/4.14.1/lib/coq/theories/Numbers/NumPrelude.vo))))\n",
      "(Feedback((doc_id 0)(span_id 2)(route 0)(contents(FileLoaded Coq.Structures.GenericMinMax /root/.opam/4.14.1/lib/coq/theories/Structures/GenericMinMax.vo))))\n",
      "(Feedback((doc_id 0)(span_id 2)(route 0)(contents(FileLoaded Coq.Structures.OrdersTac /root/.opam/4.14.1/lib/coq/theories/Structures/OrdersTac.vo))))\n",
      "(Feedback((doc_id 0)(span_id 2)(route 0)(contents(FileLoaded Coq.Structures.OrdersFacts /root/.opam/4.14.1/lib/coq/theories/Structures/OrdersFacts.vo))))\n",
      "(Feedback((doc_id 0)(span_id 2)(route 0)(contents(FileLoaded Coq.Numbers.NatInt.NZParity /root/.opam/4.14.1/lib/coq/theories/Numbers/NatInt/NZParity.vo))))\n",
      "(Feedback((doc_id 0)(span_id 2)(route 0)(contents(FileLoaded Coq.Numbers.NatInt.NZMulOrder /root/.opam/4.14.1/lib/coq/theories/Numbers/NatInt/NZMulOrder.vo))))\n",
      "(Feedback((doc_id 0)(span_id 2)(route 0)(contents(FileLoaded Coq.Numbers.NatInt.NZAddOrder /root/.opam/4.14.1/lib/coq/theories/Numbers/NatInt/NZAddOrder.vo))))\n",
      "(Feedback((doc_id 0)(span_id 2)(route 0)(contents(FileLoaded Coq.Numbers.NatInt.NZBase /root/.opam/4.14.1/lib/coq/theories/Numbers/NatInt/NZBase.vo))))\n",
      "(Feedback((doc_id 0)(span_id 2)(route 0)(contents(FileLoaded Coq.Numbers.NatInt.NZMul /root/.opam/4.14.1/lib/coq/theories/Numbers/NatInt/NZMul.vo))))\n",
      "(Feedback((doc_id 0)(span_id 2)(route 0)(contents(FileLoaded Coq.Numbers.NatInt.NZAdd /root/.opam/4.14.1/lib/coq/theories/Numbers/NatInt/NZAdd.vo))))\n",
      "(Feedback((doc_id 0)(span_id 2)(route 0)(contents(FileLoaded Coq.Numbers.NatInt.NZOrder /root/.opam/4.14.1/lib/coq/theories/Numbers/NatInt/NZOrder.vo))))\n",
      "(Feedback((doc_id 0)(span_id 2)(route 0)(contents(FileLoaded Coq.Logic.Decidable /root/.opam/4.14.1/lib/coq/theories/Logic/Decidable.vo))))\n",
      "(Feedback((doc_id 0)(span_id 2)(route 0)(contents(FileLoaded Coq.Numbers.NatInt.NZPow /root/.opam/4.14.1/lib/coq/theories/Numbers/NatInt/NZPow.vo))))\n",
      "(Feedback((doc_id 0)(span_id 2)(route 0)(contents(FileLoaded Coq.Numbers.NatInt.NZSqrt /root/.opam/4.14.1/lib/coq/theories/Numbers/NatInt/NZSqrt.vo))))\n",
      "(Feedback((doc_id 0)(span_id 2)(route 0)(contents(FileLoaded Coq.Numbers.NatInt.NZLog /root/.opam/4.14.1/lib/coq/theories/Numbers/NatInt/NZLog.vo))))\n",
      "(Feedback((doc_id 0)(span_id 2)(route 0)(contents(FileLoaded Coq.Numbers.NatInt.NZDiv /root/.opam/4.14.1/lib/coq/theories/Numbers/NatInt/NZDiv.vo))))\n",
      "(Feedback((doc_id 0)(span_id 2)(route 0)(contents(FileLoaded Coq.Numbers.NatInt.NZGcd /root/.opam/4.14.1/lib/coq/theories/Numbers/NatInt/NZGcd.vo))))\n",
      "(Feedback((doc_id 0)(span_id 2)(route 0)(contents(FileLoaded Coq.Numbers.NatInt.NZBits /root/.opam/4.14.1/lib/coq/theories/Numbers/NatInt/NZBits.vo))))\n",
      "(Feedback((doc_id 0)(span_id 2)(route 0)(contents(FileLoaded Coq.Numbers.Natural.Abstract.NProperties /root/.opam/4.14.1/lib/coq/theories/Numbers/Natural/Abstract/NProperties.vo))))\n",
      "(Feedback((doc_id 0)(span_id 2)(route 0)(contents(FileLoaded Coq.Numbers.Natural.Abstract.NMaxMin /root/.opam/4.14.1/lib/coq/theories/Numbers/Natural/Abstract/NMaxMin.vo))))\n",
      "(Feedback((doc_id 0)(span_id 2)(route 0)(contents(FileLoaded Coq.Numbers.Natural.Abstract.NSub /root/.opam/4.14.1/lib/coq/theories/Numbers/Natural/Abstract/NSub.vo))))\n",
      "(Feedback((doc_id 0)(span_id 2)(route 0)(contents(FileLoaded Coq.Numbers.Natural.Abstract.NMulOrder /root/.opam/4.14.1/lib/coq/theories/Numbers/Natural/Abstract/NMulOrder.vo))))\n",
      "(Feedback((doc_id 0)(span_id 2)(route 0)(contents(FileLoaded Coq.Numbers.Natural.Abstract.NAddOrder /root/.opam/4.14.1/lib/coq/theories/Numbers/Natural/Abstract/NAddOrder.vo))))\n",
      "(Feedback((doc_id 0)(span_id 2)(route 0)(contents(FileLoaded Coq.Numbers.Natural.Abstract.NOrder /root/.opam/4.14.1/lib/coq/theories/Numbers/Natural/Abstract/NOrder.vo))))\n",
      "(Feedback((doc_id 0)(span_id 2)(route 0)(contents(FileLoaded Coq.Numbers.Natural.Abstract.NAdd /root/.opam/4.14.1/lib/coq/theories/Numbers/Natural/Abstract/NAdd.vo))))\n",
      "(Feedback((doc_id 0)(span_id 2)(route 0)(contents(FileLoaded Coq.Numbers.Natural.Abstract.NBase /root/.opam/4.14.1/lib/coq/theories/Numbers/Natural/Abstract/NBase.vo))))\n",
      "(Feedback((doc_id 0)(span_id 2)(route 0)(contents(FileLoaded Coq.Numbers.Natural.Abstract.NParity /root/.opam/4.14.1/lib/coq/theories/Numbers/Natural/Abstract/NParity.vo))))\n",
      "(Feedback((doc_id 0)(span_id 2)(route 0)(contents(FileLoaded Coq.Numbers.Natural.Abstract.NPow /root/.opam/4.14.1/lib/coq/theories/Numbers/Natural/Abstract/NPow.vo))))\n",
      "(Feedback((doc_id 0)(span_id 2)(route 0)(contents(FileLoaded Coq.Numbers.Natural.Abstract.NSqrt /root/.opam/4.14.1/lib/coq/theories/Numbers/Natural/Abstract/NSqrt.vo))))\n",
      "(Feedback((doc_id 0)(span_id 2)(route 0)(contents(FileLoaded Coq.Numbers.Natural.Abstract.NLog /root/.opam/4.14.1/lib/coq/theories/Numbers/Natural/Abstract/NLog.vo))))\n",
      "(Feedback((doc_id 0)(span_id 2)(route 0)(contents(FileLoaded Coq.Numbers.Natural.Abstract.NDiv /root/.opam/4.14.1/lib/coq/theories/Numbers/Natural/Abstract/NDiv.vo))))\n",
      "(Feedback((doc_id 0)(span_id 2)(route 0)(contents(FileLoaded Coq.Numbers.Natural.Abstract.NDiv0 /root/.opam/4.14.1/lib/coq/theories/Numbers/Natural/Abstract/NDiv0.vo))))\n",
      "(Feedback((doc_id 0)(span_id 2)(route 0)(contents(FileLoaded Coq.Numbers.Natural.Abstract.NGcd /root/.opam/4.14.1/lib/coq/theories/Numbers/Natural/Abstract/NGcd.vo))))\n",
      "(Feedback((doc_id 0)(span_id 2)(route 0)(contents(FileLoaded Coq.Numbers.Natural.Abstract.NLcm /root/.opam/4.14.1/lib/coq/theories/Numbers/Natural/Abstract/NLcm.vo))))\n",
      "(Feedback((doc_id 0)(span_id 2)(route 0)(contents(FileLoaded Coq.Numbers.Natural.Abstract.NLcm0 /root/.opam/4.14.1/lib/coq/theories/Numbers/Natural/Abstract/NLcm0.vo))))\n",
      "(Feedback((doc_id 0)(span_id 2)(route 0)(contents(FileLoaded Coq.Numbers.Natural.Abstract.NBits /root/.opam/4.14.1/lib/coq/theories/Numbers/Natural/Abstract/NBits.vo))))\n",
      "(Feedback((doc_id 0)(span_id 2)(route 0)(contents Processed)))\n",
      "(Answer 0(Added 2((fname ToplevelInput)(line_nb 1)(bol_pos 0)(line_nb_last 1)(bol_pos_last 0)(bp 0)(ep 30))NewAddTip))\n",
      "(Answer 0 Completed)\n"
     ]
    },
    {
     "data": {
      "text/plain": [
       "'((Answer 0 Ack)\\n(Feedback((doc_id 0)(span_id 2)(route 0)(contents(ProcessingIn master))))\\n(Feedback((doc_id 0)(span_id 1)(route 0)(contents Processed)))\\n(Feedback((doc_id 0)(span_id 2)(route 0)(contents(FileLoaded Coq.Lists.List /root/.opam/4.14.1/lib/coq/theories/Lists/List.vo))))\\n(Feedback((doc_id 0)(span_id 2)(route 0)(contents(FileLoaded Coq.Arith.PeanoNat /root/.opam/4.14.1/lib/coq/theories/Arith/PeanoNat.vo))))\\n(Feedback((doc_id 0)(span_id 2)(route 0)(contents(FileLoaded Coq.Numbers.Natural.Abstract.NAxioms /root/.opam/4.14.1/lib/coq/theories/Numbers/Natural/Abstract/NAxioms.vo))))\\n(Feedback((doc_id 0)(span_id 2)(route 0)(contents(FileLoaded Coq.Bool.Bool /root/.opam/4.14.1/lib/coq/theories/Bool/Bool.vo))))\\n(Feedback((doc_id 0)(span_id 2)(route 0)(contents(FileLoaded Coq.Classes.DecidableClass /root/.opam/4.14.1/lib/coq/theories/Classes/DecidableClass.vo))))\\n(Feedback((doc_id 0)(span_id 2)(route 0)(contents(FileLoaded Coq.Numbers.NatInt.NZAxioms /root/.opam/4.14.1/lib/coq/theories/Numbers/NatInt/NZAxioms.vo))))\\n(Feedback((doc_id 0)(span_id 2)(route 0)(contents(FileLoaded Coq.Structures.Equalities /root/.opam/4.14.1/lib/coq/theories/Structures/Equalities.vo))))\\n(Feedback((doc_id 0)(span_id 2)(route 0)(contents(FileLoaded Coq.Classes.RelationClasses /root/.opam/4.14.1/lib/coq/theories/Classes/RelationClasses.vo))))\\n(Feedback((doc_id 0)(span_id 2)(route 0)(contents(FileLoaded Coq.Classes.Init /root/.opam/4.14.1/lib/coq/theories/Classes/Init.vo))))\\n(Feedback((doc_id 0)(span_id 2)(route 0)(contents(FileLoaded Coq.Program.Basics /root/.opam/4.14.1/lib/coq/theories/Program/Basics.vo))))\\n(Feedback((doc_id 0)(span_id 2)(route 0)(contents(FileLoaded Coq.Program.Tactics /root/.opam/4.14.1/lib/coq/theories/Program/Tactics.vo))))\\n(Feedback((doc_id 0)(span_id 2)(route 0)(contents(FileLoaded Coq.Relations.Relation_Definitions /root/.opam/4.14.1/lib/coq/theories/Relations/Relation_Definitions.vo))))\\n(Feedback((doc_id 0)(span_id 2)(route 0)(contents(FileLoaded Coq.Classes.Morphisms /root/.opam/4.14.1/lib/coq/theories/Classes/Morphisms.vo))))\\n(Feedback((doc_id 0)(span_id 2)(route 0)(contents(FileLoaded Coq.Setoids.Setoid /root/.opam/4.14.1/lib/coq/theories/Setoids/Setoid.vo))))\\n(Feedback((doc_id 0)(span_id 2)(route 0)(contents(FileLoaded Coq.Classes.SetoidTactics /root/.opam/4.14.1/lib/coq/theories/Classes/SetoidTactics.vo))))\\n(Feedback((doc_id 0)(span_id 2)(route 0)(contents(FileLoaded Coq.Classes.CRelationClasses /root/.opam/4.14.1/lib/coq/theories/Classes/CRelationClasses.vo))))\\n(Feedback((doc_id 0)(span_id 2)(route 0)(contents(FileLoaded Coq.Classes.CMorphisms /root/.opam/4.14.1/lib/coq/theories/Classes/CMorphisms.vo))))\\n(Feedback((doc_id 0)(span_id 2)(route 0)(contents(FileLoaded Coq.Classes.Morphisms_Prop /root/.opam/4.14.1/lib/coq/theories/Classes/Morphisms_Prop.vo))))\\n(Feedback((doc_id 0)(span_id 2)(route 0)(contents(FileLoaded Coq.Classes.Equivalence /root/.opam/4.14.1/lib/coq/theories/Classes/Equivalence.vo))))\\n(Feedback((doc_id 0)(span_id 2)(route 0)(contents(FileLoaded Coq.ssr.ssrsetoid /root/.opam/4.14.1/lib/coq/theories/ssr/ssrsetoid.vo))))\\n(Feedback((doc_id 0)(span_id 2)(route 0)(contents(FileLoaded Coq.ssr.ssrclasses /root/.opam/4.14.1/lib/coq/theories/ssr/ssrclasses.vo))))\\n(Feedback((doc_id 0)(span_id 2)(route 0)(contents(FileLoaded Coq.ssr.ssrunder /root/.opam/4.14.1/lib/coq/theories/ssr/ssrunder.vo))))\\n(Feedback((doc_id 0)(span_id 2)(route 0)(contents(FileLoaded Coq.Structures.Orders /root/.opam/4.14.1/lib/coq/theories/Structures/Orders.vo))))\\n(Feedback((doc_id 0)(span_id 2)(route 0)(contents(FileLoaded Coq.Relations.Relations /root/.opam/4.14.1/lib/coq/theories/Relations/Relations.vo))))\\n(Feedback((doc_id 0)(span_id 2)(route 0)(contents(FileLoaded Coq.Relations.Relation_Operators /root/.opam/4.14.1/lib/coq/theories/Relations/Relation_Operators.vo))))\\n(Feedback((doc_id 0)(span_id 2)(route 0)(contents(FileLoaded Coq.Relations.Operators_Properties /root/.opam/4.14.1/lib/coq/theories/Relations/Operators_Properties.vo))))\\n(Feedback((doc_id 0)(span_id 2)(route 0)(contents(FileLoaded Coq.Numbers.NumPrelude /root/.opam/4.14.1/lib/coq/theories/Numbers/NumPrelude.vo))))\\n(Feedback((doc_id 0)(span_id 2)(route 0)(contents(FileLoaded Coq.Structures.GenericMinMax /root/.opam/4.14.1/lib/coq/theories/Structures/GenericMinMax.vo))))\\n(Feedback((doc_id 0)(span_id 2)(route 0)(contents(FileLoaded Coq.Structures.OrdersTac /root/.opam/4.14.1/lib/coq/theories/Structures/OrdersTac.vo))))\\n(Feedback((doc_id 0)(span_id 2)(route 0)(contents(FileLoaded Coq.Structures.OrdersFacts /root/.opam/4.14.1/lib/coq/theories/Structures/OrdersFacts.vo))))\\n(Feedback((doc_id 0)(span_id 2)(route 0)(contents(FileLoaded Coq.Numbers.NatInt.NZParity /root/.opam/4.14.1/lib/coq/theories/Numbers/NatInt/NZParity.vo))))\\n(Feedback((doc_id 0)(span_id 2)(route 0)(contents(FileLoaded Coq.Numbers.NatInt.NZMulOrder /root/.opam/4.14.1/lib/coq/theories/Numbers/NatInt/NZMulOrder.vo))))\\n(Feedback((doc_id 0)(span_id 2)(route 0)(contents(FileLoaded Coq.Numbers.NatInt.NZAddOrder /root/.opam/4.14.1/lib/coq/theories/Numbers/NatInt/NZAddOrder.vo))))\\n(Feedback((doc_id 0)(span_id 2)(route 0)(contents(FileLoaded Coq.Numbers.NatInt.NZBase /root/.opam/4.14.1/lib/coq/theories/Numbers/NatInt/NZBase.vo))))\\n(Feedback((doc_id 0)(span_id 2)(route 0)(contents(FileLoaded Coq.Numbers.NatInt.NZMul /root/.opam/4.14.1/lib/coq/theories/Numbers/NatInt/NZMul.vo))))\\n(Feedback((doc_id 0)(span_id 2)(route 0)(contents(FileLoaded Coq.Numbers.NatInt.NZAdd /root/.opam/4.14.1/lib/coq/theories/Numbers/NatInt/NZAdd.vo))))\\n(Feedback((doc_id 0)(span_id 2)(route 0)(contents(FileLoaded Coq.Numbers.NatInt.NZOrder /root/.opam/4.14.1/lib/coq/theories/Numbers/NatInt/NZOrder.vo))))\\n(Feedback((doc_id 0)(span_id 2)(route 0)(contents(FileLoaded Coq.Logic.Decidable /root/.opam/4.14.1/lib/coq/theories/Logic/Decidable.vo))))\\n(Feedback((doc_id 0)(span_id 2)(route 0)(contents(FileLoaded Coq.Numbers.NatInt.NZPow /root/.opam/4.14.1/lib/coq/theories/Numbers/NatInt/NZPow.vo))))\\n(Feedback((doc_id 0)(span_id 2)(route 0)(contents(FileLoaded Coq.Numbers.NatInt.NZSqrt /root/.opam/4.14.1/lib/coq/theories/Numbers/NatInt/NZSqrt.vo))))\\n(Feedback((doc_id 0)(span_id 2)(route 0)(contents(FileLoaded Coq.Numbers.NatInt.NZLog /root/.opam/4.14.1/lib/coq/theories/Numbers/NatInt/NZLog.vo))))\\n(Feedback((doc_id 0)(span_id 2)(route 0)(contents(FileLoaded Coq.Numbers.NatInt.NZDiv /root/.opam/4.14.1/lib/coq/theories/Numbers/NatInt/NZDiv.vo))))\\n(Feedback((doc_id 0)(span_id 2)(route 0)(contents(FileLoaded Coq.Numbers.NatInt.NZGcd /root/.opam/4.14.1/lib/coq/theories/Numbers/NatInt/NZGcd.vo))))\\n(Feedback((doc_id 0)(span_id 2)(route 0)(contents(FileLoaded Coq.Numbers.NatInt.NZBits /root/.opam/4.14.1/lib/coq/theories/Numbers/NatInt/NZBits.vo))))\\n(Feedback((doc_id 0)(span_id 2)(route 0)(contents(FileLoaded Coq.Numbers.Natural.Abstract.NProperties /root/.opam/4.14.1/lib/coq/theories/Numbers/Natural/Abstract/NProperties.vo))))\\n(Feedback((doc_id 0)(span_id 2)(route 0)(contents(FileLoaded Coq.Numbers.Natural.Abstract.NMaxMin /root/.opam/4.14.1/lib/coq/theories/Numbers/Natural/Abstract/NMaxMin.vo))))\\n(Feedback((doc_id 0)(span_id 2)(route 0)(contents(FileLoaded Coq.Numbers.Natural.Abstract.NSub /root/.opam/4.14.1/lib/coq/theories/Numbers/Natural/Abstract/NSub.vo))))\\n(Feedback((doc_id 0)(span_id 2)(route 0)(contents(FileLoaded Coq.Numbers.Natural.Abstract.NMulOrder /root/.opam/4.14.1/lib/coq/theories/Numbers/Natural/Abstract/NMulOrder.vo))))\\n(Feedback((doc_id 0)(span_id 2)(route 0)(contents(FileLoaded Coq.Numbers.Natural.Abstract.NAddOrder /root/.opam/4.14.1/lib/coq/theories/Numbers/Natural/Abstract/NAddOrder.vo))))\\n(Feedback((doc_id 0)(span_id 2)(route 0)(contents(FileLoaded Coq.Numbers.Natural.Abstract.NOrder /root/.opam/4.14.1/lib/coq/theories/Numbers/Natural/Abstract/NOrder.vo))))\\n(Feedback((doc_id 0)(span_id 2)(route 0)(contents(FileLoaded Coq.Numbers.Natural.Abstract.NAdd /root/.opam/4.14.1/lib/coq/theories/Numbers/Natural/Abstract/NAdd.vo))))\\n(Feedback((doc_id 0)(span_id 2)(route 0)(contents(FileLoaded Coq.Numbers.Natural.Abstract.NBase /root/.opam/4.14.1/lib/coq/theories/Numbers/Natural/Abstract/NBase.vo))))\\n(Feedback((doc_id 0)(span_id 2)(route 0)(contents(FileLoaded Coq.Numbers.Natural.Abstract.NParity /root/.opam/4.14.1/lib/coq/theories/Numbers/Natural/Abstract/NParity.vo))))\\n(Feedback((doc_id 0)(span_id 2)(route 0)(contents(FileLoaded Coq.Numbers.Natural.Abstract.NPow /root/.opam/4.14.1/lib/coq/theories/Numbers/Natural/Abstract/NPow.vo))))\\n(Feedback((doc_id 0)(span_id 2)(route 0)(contents(FileLoaded Coq.Numbers.Natural.Abstract.NSqrt /root/.opam/4.14.1/lib/coq/theories/Numbers/Natural/Abstract/NSqrt.vo))))\\n(Feedback((doc_id 0)(span_id 2)(route 0)(contents(FileLoaded Coq.Numbers.Natural.Abstract.NLog /root/.opam/4.14.1/lib/coq/theories/Numbers/Natural/Abstract/NLog.vo))))\\n(Feedback((doc_id 0)(span_id 2)(route 0)(contents(FileLoaded Coq.Numbers.Natural.Abstract.NDiv /root/.opam/4.14.1/lib/coq/theories/Numbers/Natural/Abstract/NDiv.vo))))\\n(Feedback((doc_id 0)(span_id 2)(route 0)(contents(FileLoaded Coq.Numbers.Natural.Abstract.NDiv0 /root/.opam/4.14.1/lib/coq/theories/Numbers/Natural/Abstract/NDiv0.vo))))\\n(Feedback((doc_id 0)(span_id 2)(route 0)(contents(FileLoaded Coq.Numbers.Natural.Abstract.NGcd /root/.opam/4.14.1/lib/coq/theories/Numbers/Natural/Abstract/NGcd.vo))))\\n(Feedback((doc_id 0)(span_id 2)(route 0)(contents(FileLoaded Coq.Numbers.Natural.Abstract.NLcm /root/.opam/4.14.1/lib/coq/theories/Numbers/Natural/Abstract/NLcm.vo))))\\n(Feedback((doc_id 0)(span_id 2)(route 0)(contents(FileLoaded Coq.Numbers.Natural.Abstract.NLcm0 /root/.opam/4.14.1/lib/coq/theories/Numbers/Natural/Abstract/NLcm0.vo))))\\n(Feedback((doc_id 0)(span_id 2)(route 0)(contents(FileLoaded Coq.Numbers.Natural.Abstract.NBits /root/.opam/4.14.1/lib/coq/theories/Numbers/Natural/Abstract/NBits.vo))))\\n(Feedback((doc_id 0)(span_id 2)(route 0)(contents Processed)))\\n(Answer 0(Added 2((fname ToplevelInput)(line_nb 1)(bol_pos 0)(line_nb_last 1)(bol_pos_last 0)(bp 0)(ep 30))NewAddTip))\\n(Answer 0 Completed)\\n)'"
      ]
     },
     "execution_count": 21,
     "metadata": {},
     "output_type": "execute_result"
    }
   ],
   "source": [
    "cmd = '(Add () \"Require Import Coq.Lists.List.\")\\n'\n",
    "proc.stdin.write(cmd)\n",
    "proc.stdin.flush()\n",
    "read(proc)\n"
   ]
  },
  {
   "cell_type": "code",
   "execution_count": 22,
   "id": "a1074879-f56b-43cd-bb64-0c024e468f02",
   "metadata": {
    "scrolled": true
   },
   "outputs": [
    {
     "name": "stdout",
     "output_type": "stream",
     "text": [
      "((Answer 1 Ack)\n",
      "(Feedback((doc_id 0)(span_id 3)(route 0)(contents(ProcessingIn master))))\n",
      "(Feedback((doc_id 0)(span_id 2)(route 0)(contents Processed)))\n",
      "(Feedback((doc_id 0)(span_id 3)(route 0)(contents Processed)))\n",
      "(Answer 1(Added 3((fname ToplevelInput)(line_nb 1)(bol_pos 0)(line_nb_last 1)(bol_pos_last 0)(bp 0)(ep 21))NewAddTip))\n",
      "(Answer 1 Completed)\n"
     ]
    },
    {
     "data": {
      "text/plain": [
       "'((Answer 1 Ack)\\n(Feedback((doc_id 0)(span_id 3)(route 0)(contents(ProcessingIn master))))\\n(Feedback((doc_id 0)(span_id 2)(route 0)(contents Processed)))\\n(Feedback((doc_id 0)(span_id 3)(route 0)(contents Processed)))\\n(Answer 1(Added 3((fname ToplevelInput)(line_nb 1)(bol_pos 0)(line_nb_last 1)(bol_pos_last 0)(bp 0)(ep 21))NewAddTip))\\n(Answer 1 Completed)\\n)'"
      ]
     },
     "execution_count": 22,
     "metadata": {},
     "output_type": "execute_result"
    }
   ],
   "source": [
    "cmd = '(Add () \"Import ListNotations.\")\\n'\n",
    "proc.stdin.write(cmd)\n",
    "proc.stdin.flush()\n",
    "read(proc)"
   ]
  },
  {
   "cell_type": "code",
   "execution_count": 23,
   "id": "4fb23418-f0d9-4692-8bff-cb51b7bcfbb6",
   "metadata": {},
   "outputs": [],
   "source": [
    "#cmd = '(Add () \"Lemma test: ~ (exists (l : list nat), forall x, In x l).\")\\n'\n",
    "#cmd = '(Add () \"Lemma test: forall (x y: nat), x = y -> forall (z : nat), y = z -> x = z.\")\\n'\n",
    "cmd = '(Add () \"Lemma test: forall (x : list nat), x = x.\")\\n'\n",
    "proc.stdin.write(cmd)\n",
    "proc.stdin.flush()"
   ]
  },
  {
   "cell_type": "code",
   "execution_count": 24,
   "id": "28653010-9aef-4ceb-898e-da5d8cd18164",
   "metadata": {
    "scrolled": true
   },
   "outputs": [
    {
     "name": "stdout",
     "output_type": "stream",
     "text": [
      "((Answer 2 Ack)\n",
      "(Answer 2(Added 4((fname ToplevelInput)(line_nb 1)(bol_pos 0)(line_nb_last 1)(bol_pos_last 0)(bp 0)(ep 41))NewAddTip))\n",
      "(Answer 2 Completed)\n"
     ]
    },
    {
     "data": {
      "text/plain": [
       "'((Answer 2 Ack)\\n(Answer 2(Added 4((fname ToplevelInput)(line_nb 1)(bol_pos 0)(line_nb_last 1)(bol_pos_last 0)(bp 0)(ep 41))NewAddTip))\\n(Answer 2 Completed)\\n)'"
      ]
     },
     "execution_count": 24,
     "metadata": {},
     "output_type": "execute_result"
    }
   ],
   "source": [
    "read(proc)"
   ]
  },
  {
   "cell_type": "code",
   "execution_count": 25,
   "id": "d069be19-c03f-499d-85e0-78250a84c964",
   "metadata": {
    "scrolled": true
   },
   "outputs": [
    {
     "name": "stdout",
     "output_type": "stream",
     "text": [
      "((Answer 3 Ack)\n",
      "(Feedback((doc_id 0)(span_id 4)(route 0)(contents(ProcessingIn master))))\n",
      "(Feedback((doc_id 0)(span_id 3)(route 0)(contents Processed)))\n",
      "(Feedback((doc_id 0)(span_id 4)(route 0)(contents Processed)))\n",
      "(Answer 3 Completed)\n"
     ]
    },
    {
     "data": {
      "text/plain": [
       "'((Answer 3 Ack)\\n(Feedback((doc_id 0)(span_id 4)(route 0)(contents(ProcessingIn master))))\\n(Feedback((doc_id 0)(span_id 3)(route 0)(contents Processed)))\\n(Feedback((doc_id 0)(span_id 4)(route 0)(contents Processed)))\\n(Answer 3 Completed)\\n)'"
      ]
     },
     "execution_count": 25,
     "metadata": {},
     "output_type": "execute_result"
    }
   ],
   "source": [
    "# Выполняем добавленный фрагмент с id = 2\n",
    "cmd = '(Exec 4)\\n'\n",
    "proc.stdin.write(cmd)\n",
    "proc.stdin.flush()\n",
    "\n",
    "# Читаем ответы\n",
    "read(proc)\n"
   ]
  },
  {
   "cell_type": "code",
   "execution_count": 26,
   "id": "78e00a5f-197b-4d16-b9e1-a2baf083ae71",
   "metadata": {},
   "outputs": [
    {
     "name": "stdout",
     "output_type": "stream",
     "text": [
      "((Answer 4 Ack)\n",
      "(Answer 4(Added 5((fname ToplevelInput)(line_nb 1)(bol_pos 0)(line_nb_last 1)(bol_pos_last 0)(bp 0)(ep 11))NewAddTip))\n",
      "(Answer 4 Completed)\n",
      "((Answer 5 Ack)\n",
      "(Feedback((doc_id 0)(span_id 5)(route 0)(contents(ProcessingIn master))))\n",
      "(Feedback((doc_id 0)(span_id 4)(route 0)(contents Processed)))\n",
      "(Feedback((doc_id 0)(span_id 5)(route 0)(contents(Message(level Error)(loc(((fname ToplevelInput)(line_nb 1)(bol_pos 0)(line_nb_last 1)(bol_pos_last 0)(bp 0)(ep 10))))(pp(Pp_string\"No product even after head-reduction.\"))(str\"No product even after head-reduction.\")))))\n",
      "(Answer 5(CoqExn((loc(((fname ToplevelInput)(line_nb 1)(bol_pos 0)(line_nb_last 1)(bol_pos_last 0)(bp 0)(ep 10))))(stm_ids((4 5)))(backtrace(Backtrace()))(exn(\"Logic_monad.TacticFailure(_)\"))(pp(Pp_string\"No product even after head-reduction.\"))(str\"No product even after head-reduction.\"))))\n",
      "(Answer 5 Completed)\n"
     ]
    }
   ],
   "source": [
    "cmd = '(Add () \"intros x y.\")\\n'\n",
    "proc.stdin.write(cmd)\n",
    "proc.stdin.flush()\n",
    "\n",
    "# Читаем ответы\n",
    "read(proc)\n",
    "\n",
    "cmd = '(Exec 5)\\n'\n",
    "proc.stdin.write(cmd)\n",
    "proc.stdin.flush()\n",
    "\n",
    "# Читаем ответы\n",
    "all_ans = loads(read(proc))"
   ]
  },
  {
   "cell_type": "code",
   "execution_count": 14,
   "id": "6142539c-584f-42e1-941a-7cff8a060a00",
   "metadata": {},
   "outputs": [
    {
     "name": "stdout",
     "output_type": "stream",
     "text": [
      "((Answer 15 Ack)\n",
      "(Answer 15(ObjList((CoqGoal((goals(((info((evar(Ser_Evar 2))(name())))(ty(Prod((binder_name(Name(Id x)))(binder_relevance Relevant))(App(Ind(((MutInd(KerName(MPfile(DirPath((Id Datatypes)(Id Init)(Id Coq))))(Id list))())0)(Instance(()()))))((Ind(((MutInd(KerName(MPfile(DirPath((Id Datatypes)(Id Init)(Id Coq))))(Id nat))())0)(Instance(()()))))))(App(Ind(((MutInd(KerName(MPfile(DirPath((Id Logic)(Id Init)(Id Coq))))(Id eq))())0)(Instance(()()))))((App(Ind(((MutInd(KerName(MPfile(DirPath((Id Datatypes)(Id Init)(Id Coq))))(Id list))())0)(Instance(()()))))((Ind(((MutInd(KerName(MPfile(DirPath((Id Datatypes)(Id Init)(Id Coq))))(Id nat))())0)(Instance(()()))))))(Rel 1)(Rel 1)))))(hyp()))))(stack())(bullet())(shelf())(given_up()))))))\n",
      "(Answer 15 Completed)\n"
     ]
    }
   ],
   "source": [
    "cmd = '(Query ((sid 6)) Goals)\\n'\n",
    "proc.stdin.write(cmd)\n",
    "proc.stdin.flush()\n",
    "\n",
    "# Читаем ответы\n",
    "all_ans = loads(read(proc))"
   ]
  },
  {
   "cell_type": "code",
   "execution_count": 19,
   "id": "5a64fe2c-0f0d-499e-8335-132c34c27b1a",
   "metadata": {
    "scrolled": true
   },
   "outputs": [
    {
     "data": {
      "text/plain": [
       "[[Symbol('Answer'), 19, Symbol('Ack')],\n",
       " [Symbol('Feedback'),\n",
       "  [[Symbol('doc_id'), 0],\n",
       "   [Symbol('span_id'), 7],\n",
       "   [Symbol('route'), 0],\n",
       "   [Symbol('contents'), Symbol('Processed')]]],\n",
       " [Symbol('Answer'),\n",
       "  19,\n",
       "  [Symbol('CoqExn'),\n",
       "   [[Symbol('loc'),\n",
       "     [[[Symbol('fname'), Symbol('ToplevelInput')],\n",
       "       [Symbol('line_nb'), 1],\n",
       "       [Symbol('bol_pos'), 0],\n",
       "       [Symbol('line_nb_last'), 1],\n",
       "       [Symbol('bol_pos_last'), 0],\n",
       "       [Symbol('bp'), 0],\n",
       "       [Symbol('ep'), 10]]]],\n",
       "    [Symbol('stm_ids'), [[6, 7]]],\n",
       "    [Symbol('backtrace'), [Symbol('Backtrace'), []]],\n",
       "    [Symbol('exn'), ['Logic_monad.TacticFailure(_)']],\n",
       "    [Symbol('pp'),\n",
       "     [Symbol('Pp_string'), 'No product even after head-reduction.']],\n",
       "    [Symbol('str'), 'No product even after head-reduction.']]]],\n",
       " [Symbol('Answer'), 19, Symbol('Completed')]]"
      ]
     },
     "execution_count": 19,
     "metadata": {},
     "output_type": "execute_result"
    }
   ],
   "source": [
    "all_ans"
   ]
  },
  {
   "cell_type": "code",
   "execution_count": 15,
   "id": "3b02bb02-13f6-41cf-a1b5-d8e7dab8b702",
   "metadata": {},
   "outputs": [],
   "source": [
    "def find_a_leters(tree, leters, path=\"0\"):\n",
    "    results = []\n",
    "    if isinstance(tree, list) or isinstance(tree, tuple):\n",
    "        if tree and isinstance(tree[0], sexpdata.Symbol) and tree[0].value() in leters:\n",
    "            cur_tree = []\n",
    "            for i, elem in enumerate(tree):\n",
    "                if i != 0 and elem and isinstance(elem, list) \\\n",
    "                    and isinstance(elem[0], sexpdata.Symbol) and elem[0].value() in leters:\n",
    "                    break\n",
    "                cur_tree.append(elem)\n",
    "            results.append((path, cur_tree))\n",
    "        for i, elem in enumerate(tree):\n",
    "            results += find_a_leters(elem, leters, path + \".\" + str(i))\n",
    "    return results\n",
    "\n",
    "def extract_name(name_tree):\n",
    "    # ищем (Name (Id x))\n",
    "    for elem in name_tree:\n",
    "        if isinstance(elem, list) and elem and isinstance(elem[0], sexpdata.Symbol):\n",
    "            if elem[0].value() == \"Id\":\n",
    "                return elem[1].value()\n",
    "    return None\n",
    "\n",
    "def extract_ind(ind_tree):\n",
    "    # ищем (MutInd (... (Id nat) ...))\n",
    "    return ind_tree\n",
    "    for elem in ind_tree:\n",
    "        if isinstance(elem, list):\n",
    "            for sub in elem:\n",
    "                if isinstance(sub, list) and sub and isinstance(sub[0], sexpdata.Symbol):\n",
    "                    if sub[0].value() == \"Id\":\n",
    "                        return sub[1].value()\n",
    "    return None\n",
    "\n",
    "\n",
    "def find_forall(tree):\n",
    "    prods = find_a_leters(tree, [\"Prod\", \"App\"])\n",
    "    results = []\n",
    "    for path, prod_tree in prods:\n",
    "        names = find_a_leters(prod_tree, [\"Name\"], path)\n",
    "        tipes = find_a_leters(prod_tree, [\"Ind\"], path)\n",
    "        if names and tipes:\n",
    "            var = extract_name(names[0][1])\n",
    "            tipe = extract_ind(tipes[0][1])\n",
    "            if var and tipe:\n",
    "                results.append((\"forall\", var, tipe))\n",
    "    return results\n",
    "        "
   ]
  },
  {
   "cell_type": "code",
   "execution_count": 16,
   "id": "c9b2b818-5bd6-418c-b5bb-ddbd5d8b730a",
   "metadata": {},
   "outputs": [
    {
     "data": {
      "text/plain": [
       "[]"
      ]
     },
     "execution_count": 16,
     "metadata": {},
     "output_type": "execute_result"
    }
   ],
   "source": [
    "find_forall(all_ans)"
   ]
  },
  {
   "cell_type": "code",
   "execution_count": 43,
   "id": "71f6d758-9228-459a-99d5-3ee518ebcc7b",
   "metadata": {
    "scrolled": true
   },
   "outputs": [
    {
     "name": "stdout",
     "output_type": "stream",
     "text": [
      "0.1.2.1.0.1.0.1.0.1.1\n",
      "0.1.2.1.0.1.0.1.0.1.1.3\n",
      "0.1.2.1.0.1.0.1.0.1.1.3.3\n",
      "0.1.2.1.0.1.0.1.0.1.1.3.3.3\n",
      "0.1.2.1.0.1.0.1.0.1.1.3.3.3.3\n"
     ]
    }
   ],
   "source": [
    "for x in find_a_leters(all_ans, [\"Prod\"]):\n",
    "    print (x[0])"
   ]
  },
  {
   "cell_type": "code",
   "execution_count": null,
   "id": "5efa9c05-f7e2-41e5-b5a3-900ac909d44e",
   "metadata": {},
   "outputs": [],
   "source": []
  }
 ],
 "metadata": {
  "kernelspec": {
   "display_name": "Python 3 (ipykernel)",
   "language": "python",
   "name": "python3"
  },
  "language_info": {
   "codemirror_mode": {
    "name": "ipython",
    "version": 3
   },
   "file_extension": ".py",
   "mimetype": "text/x-python",
   "name": "python",
   "nbconvert_exporter": "python",
   "pygments_lexer": "ipython3",
   "version": "3.11.2"
  }
 },
 "nbformat": 4,
 "nbformat_minor": 5
}
