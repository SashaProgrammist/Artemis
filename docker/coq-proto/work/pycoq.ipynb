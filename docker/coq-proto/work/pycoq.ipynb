{
 "cells": [
  {
   "cell_type": "code",
   "execution_count": 38,
   "id": "e898c154-7b2c-4b6e-bac1-06ad0587caee",
   "metadata": {},
   "outputs": [
    {
     "name": "stdout",
     "output_type": "stream",
     "text": [
      "Requirement already satisfied: sexpdata in /opt/venv/lib/python3.11/site-packages (1.0.2)\n"
     ]
    }
   ],
   "source": [
    "!pip install sexpdata"
   ]
  },
  {
   "cell_type": "code",
   "execution_count": 42,
   "id": "d8f1f08a-cfb3-4c3f-a66d-859651009d6d",
   "metadata": {},
   "outputs": [],
   "source": [
    "import subprocess, sexpdata\n",
    "from sexpdata import loads\n",
    "\n",
    "proc = subprocess.Popen(\n",
    "    [\"sertop\"],\n",
    "    stdin=subprocess.PIPE, stdout=subprocess.PIPE, stderr=subprocess.PIPE, text=True\n",
    ")\n",
    "\n",
    "def read(_proc):\n",
    "    line = \"(\"\n",
    "    while \"Completed\" not in line:\n",
    "        line += _proc.stdout.readline()\n",
    "        print(line.split(\"\\n\")[-2])\n",
    "    return line + \")\"\n",
    "\n",
    "line = proc.stdout.readline()\n",
    "while \"(contents Processed)\" not in line:\n",
    "    line = proc.stdout.readline()\n"
   ]
  },
  {
   "cell_type": "code",
   "execution_count": 43,
   "id": "4fb23418-f0d9-4692-8bff-cb51b7bcfbb6",
   "metadata": {},
   "outputs": [],
   "source": [
    "cmd = '(Add () \"Lemma test: forall x: nat, x = x.\")\\n'\n",
    "proc.stdin.write(cmd)\n",
    "proc.stdin.flush()"
   ]
  },
  {
   "cell_type": "code",
   "execution_count": 44,
   "id": "28653010-9aef-4ceb-898e-da5d8cd18164",
   "metadata": {},
   "outputs": [
    {
     "name": "stdout",
     "output_type": "stream",
     "text": [
      "((Answer 0 Ack)\n",
      "(Answer 0(Added 2((fname ToplevelInput)(line_nb 1)(bol_pos 0)(line_nb_last 1)(bol_pos_last 0)(bp 0)(ep 33))NewAddTip))\n",
      "(Answer 0 Completed)\n"
     ]
    },
    {
     "data": {
      "text/plain": [
       "'((Answer 0 Ack)\\n(Answer 0(Added 2((fname ToplevelInput)(line_nb 1)(bol_pos 0)(line_nb_last 1)(bol_pos_last 0)(bp 0)(ep 33))NewAddTip))\\n(Answer 0 Completed)\\n)'"
      ]
     },
     "execution_count": 44,
     "metadata": {},
     "output_type": "execute_result"
    }
   ],
   "source": [
    "read(proc)"
   ]
  },
  {
   "cell_type": "code",
   "execution_count": 45,
   "id": "d069be19-c03f-499d-85e0-78250a84c964",
   "metadata": {},
   "outputs": [
    {
     "name": "stdout",
     "output_type": "stream",
     "text": [
      "((Answer 1 Ack)\n",
      "(Feedback((doc_id 0)(span_id 2)(route 0)(contents(ProcessingIn master))))\n",
      "(Feedback((doc_id 0)(span_id 1)(route 0)(contents Processed)))\n",
      "(Feedback((doc_id 0)(span_id 2)(route 0)(contents Processed)))\n",
      "(Answer 1 Completed)\n"
     ]
    },
    {
     "data": {
      "text/plain": [
       "'((Answer 1 Ack)\\n(Feedback((doc_id 0)(span_id 2)(route 0)(contents(ProcessingIn master))))\\n(Feedback((doc_id 0)(span_id 1)(route 0)(contents Processed)))\\n(Feedback((doc_id 0)(span_id 2)(route 0)(contents Processed)))\\n(Answer 1 Completed)\\n)'"
      ]
     },
     "execution_count": 45,
     "metadata": {},
     "output_type": "execute_result"
    }
   ],
   "source": [
    "# Выполняем добавленный фрагмент с id = 2\n",
    "cmd = '(Exec 2)\\n'\n",
    "proc.stdin.write(cmd)\n",
    "proc.stdin.flush()\n",
    "\n",
    "# Читаем ответы\n",
    "read(proc)\n"
   ]
  },
  {
   "cell_type": "code",
   "execution_count": 46,
   "id": "78e00a5f-197b-4d16-b9e1-a2baf083ae71",
   "metadata": {},
   "outputs": [
    {
     "name": "stdout",
     "output_type": "stream",
     "text": [
      "((Answer 2 Ack)\n",
      "(Answer 2(Added 3((fname ToplevelInput)(line_nb 1)(bol_pos 0)(line_nb_last 1)(bol_pos_last 0)(bp 0)(ep 6))NewAddTip))\n",
      "(Answer 2 Completed)\n",
      "((Answer 3 Ack)\n",
      "(Feedback((doc_id 0)(span_id 3)(route 0)(contents(ProcessingIn master))))\n",
      "(Feedback((doc_id 0)(span_id 2)(route 0)(contents Processed)))\n",
      "(Feedback((doc_id 0)(span_id 3)(route 0)(contents Processed)))\n",
      "(Answer 3 Completed)\n"
     ]
    },
    {
     "data": {
      "text/plain": [
       "'((Answer 3 Ack)\\n(Feedback((doc_id 0)(span_id 3)(route 0)(contents(ProcessingIn master))))\\n(Feedback((doc_id 0)(span_id 2)(route 0)(contents Processed)))\\n(Feedback((doc_id 0)(span_id 3)(route 0)(contents Processed)))\\n(Answer 3 Completed)\\n)'"
      ]
     },
     "execution_count": 46,
     "metadata": {},
     "output_type": "execute_result"
    }
   ],
   "source": [
    "cmd = '(Add () \"Proof.\")\\n'\n",
    "proc.stdin.write(cmd)\n",
    "proc.stdin.flush()\n",
    "\n",
    "# Читаем ответы\n",
    "read(proc)\n",
    "\n",
    "cmd = '(Exec 3)\\n'\n",
    "proc.stdin.write(cmd)\n",
    "proc.stdin.flush()\n",
    "\n",
    "# Читаем ответы\n",
    "read(proc)"
   ]
  },
  {
   "cell_type": "code",
   "execution_count": 49,
   "id": "6142539c-584f-42e1-941a-7cff8a060a00",
   "metadata": {},
   "outputs": [
    {
     "name": "stdout",
     "output_type": "stream",
     "text": [
      "((Answer 5 Ack)\n",
      "(Answer 5(ObjList((CoqGoal((goals(((info((evar(Ser_Evar 2))(name())))(ty(Prod((binder_name(Name(Id x)))(binder_relevance Relevant))(Ind(((MutInd(KerName(MPfile(DirPath((Id Datatypes)(Id Init)(Id Coq))))(Id nat))())0)(Instance(()()))))(App(Ind(((MutInd(KerName(MPfile(DirPath((Id Logic)(Id Init)(Id Coq))))(Id eq))())0)(Instance(()()))))((Ind(((MutInd(KerName(MPfile(DirPath((Id Datatypes)(Id Init)(Id Coq))))(Id nat))())0)(Instance(()()))))(Rel 1)(Rel 1)))))(hyp()))))(stack())(bullet())(shelf())(given_up()))))))\n",
      "(Answer 5 Completed)\n"
     ]
    }
   ],
   "source": [
    "cmd = '(Query ((sid 3)) Goals)\\n'\n",
    "proc.stdin.write(cmd)\n",
    "proc.stdin.flush()\n",
    "\n",
    "# Читаем ответы\n",
    "all_ans = loads(read(proc))"
   ]
  },
  {
   "cell_type": "code",
   "execution_count": 59,
   "id": "5a64fe2c-0f0d-499e-8335-132c34c27b1a",
   "metadata": {},
   "outputs": [
    {
     "data": {
      "text/plain": [
       "[[Symbol('Answer'), 5, Symbol('Ack')],\n",
       " [Symbol('Answer'),\n",
       "  5,\n",
       "  [Symbol('ObjList'),\n",
       "   [[Symbol('CoqGoal'),\n",
       "     [[Symbol('goals'),\n",
       "       [[[Symbol('info'),\n",
       "          [[Symbol('evar'), [Symbol('Ser_Evar'), 2]], [Symbol('name'), []]]],\n",
       "         [Symbol('ty'),\n",
       "          [Symbol('Prod'),\n",
       "           [[Symbol('binder_name'),\n",
       "             [Symbol('Name'), [Symbol('Id'), Symbol('x')]]],\n",
       "            [Symbol('binder_relevance'), Symbol('Relevant')]],\n",
       "           [Symbol('Ind'),\n",
       "            [[[Symbol('MutInd'),\n",
       "               [Symbol('KerName'),\n",
       "                [Symbol('MPfile'),\n",
       "                 [Symbol('DirPath'),\n",
       "                  [[Symbol('Id'), Symbol('Datatypes')],\n",
       "                   [Symbol('Id'), Symbol('Init')],\n",
       "                   [Symbol('Id'), Symbol('Coq')]]]],\n",
       "                [Symbol('Id'), Symbol('nat')]],\n",
       "               []],\n",
       "              0],\n",
       "             [Symbol('Instance'), [[], []]]]],\n",
       "           [Symbol('App'),\n",
       "            [Symbol('Ind'),\n",
       "             [[[Symbol('MutInd'),\n",
       "                [Symbol('KerName'),\n",
       "                 [Symbol('MPfile'),\n",
       "                  [Symbol('DirPath'),\n",
       "                   [[Symbol('Id'), Symbol('Logic')],\n",
       "                    [Symbol('Id'), Symbol('Init')],\n",
       "                    [Symbol('Id'), Symbol('Coq')]]]],\n",
       "                 [Symbol('Id'), Symbol('eq')]],\n",
       "                []],\n",
       "               0],\n",
       "              [Symbol('Instance'), [[], []]]]],\n",
       "            [[Symbol('Ind'),\n",
       "              [[[Symbol('MutInd'),\n",
       "                 [Symbol('KerName'),\n",
       "                  [Symbol('MPfile'),\n",
       "                   [Symbol('DirPath'),\n",
       "                    [[Symbol('Id'), Symbol('Datatypes')],\n",
       "                     [Symbol('Id'), Symbol('Init')],\n",
       "                     [Symbol('Id'), Symbol('Coq')]]]],\n",
       "                  [Symbol('Id'), Symbol('nat')]],\n",
       "                 []],\n",
       "                0],\n",
       "               [Symbol('Instance'), [[], []]]]],\n",
       "             [Symbol('Rel'), 1],\n",
       "             [Symbol('Rel'), 1]]]]],\n",
       "         [Symbol('hyp'), []]]]],\n",
       "      [Symbol('stack'), []],\n",
       "      [Symbol('bullet'), []],\n",
       "      [Symbol('shelf'), []],\n",
       "      [Symbol('given_up'), []]]]]]],\n",
       " [Symbol('Answer'), 5, Symbol('Completed')]]"
      ]
     },
     "execution_count": 59,
     "metadata": {},
     "output_type": "execute_result"
    }
   ],
   "source": [
    "all_ans"
   ]
  },
  {
   "cell_type": "code",
   "execution_count": 75,
   "id": "3b02bb02-13f6-41cf-a1b5-d8e7dab8b702",
   "metadata": {},
   "outputs": [],
   "source": [
    "def bypass(_list, _print=False, _id=[]):\n",
    "    _id.append(\"0\")\n",
    "    is_this_level = False\n",
    "    for x in _list:\n",
    "        if isinstance(x, sexpdata.Symbol):\n",
    "            if x.value() == \"Prod\":\n",
    "                _print = True\n",
    "                is_this_level = True\n",
    "        if isinstance(x, list):\n",
    "            bypass(x, _print)\n",
    "            if is_this_level:\n",
    "                _print = False\n",
    "        elif _print:\n",
    "            print(\"[\", \",\".join(_id), \"]\", x)\n",
    "        _id[-1] = str(int(_id[-1]) + 1)\n",
    "    _id.pop()"
   ]
  },
  {
   "cell_type": "code",
   "execution_count": 76,
   "id": "541b2176-9f48-41c4-b118-12dd03a4e110",
   "metadata": {},
   "outputs": [
    {
     "name": "stdout",
     "output_type": "stream",
     "text": [
      "[ 1,2,1,0,1,0,1,0,1,1,0 ] Prod\n",
      "[ 1,2,1,0,1,0,1,0,1,1,1,0,0 ] binder_name\n",
      "[ 1,2,1,0,1,0,1,0,1,1,1,0,1,0 ] Name\n",
      "[ 1,2,1,0,1,0,1,0,1,1,1,0,1,1,0 ] Id\n",
      "[ 1,2,1,0,1,0,1,0,1,1,1,0,1,1,1 ] x\n",
      "[ 1,2,1,0,1,0,1,0,1,1,1,1,0 ] binder_relevance\n",
      "[ 1,2,1,0,1,0,1,0,1,1,1,1,1 ] Relevant\n"
     ]
    }
   ],
   "source": [
    "bypass(all_ans)"
   ]
  },
  {
   "cell_type": "code",
   "execution_count": null,
   "id": "c9b2b818-5bd6-418c-b5bb-ddbd5d8b730a",
   "metadata": {},
   "outputs": [],
   "source": []
  }
 ],
 "metadata": {
  "kernelspec": {
   "display_name": "Python 3 (ipykernel)",
   "language": "python",
   "name": "python3"
  },
  "language_info": {
   "codemirror_mode": {
    "name": "ipython",
    "version": 3
   },
   "file_extension": ".py",
   "mimetype": "text/x-python",
   "name": "python",
   "nbconvert_exporter": "python",
   "pygments_lexer": "ipython3",
   "version": "3.11.2"
  }
 },
 "nbformat": 4,
 "nbformat_minor": 5
}
